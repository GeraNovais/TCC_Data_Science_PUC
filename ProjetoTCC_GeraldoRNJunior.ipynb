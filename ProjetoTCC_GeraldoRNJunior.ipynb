{
 "cells": [
  {
   "cell_type": "markdown",
   "metadata": {},
   "source": [
    "__Trabalho de Conclusão de Curso__<br>\n",
    "__PONTIFÍCIA UNIVERSIDADE CATÓLICA DE MINAS GERAIS__<br>\n",
    "__Curso:__ _Pós-graduação Lato Sensu em Ciência de Dados e Big Data_<br>\n",
    "__Aluno:__ _Geraldo Rodrigues Novais Junior_<br>\n",
    "\n",
    "\n",
    "\n",
    "# Projeto:\n",
    "# CIÊNCIA DE DADOS NO ESPORTE - Prevendo vencedores de jogos da NBA\n",
    "\n",
    "\n",
    "## Objetivo:\n",
    "A proposta é confirmar se é possível, além da aleatoriedade ou da probabilidade básica de cinquenta por cento para cada equipe, prever o resultado de um jogo da NBA com base em números e estatísticas coletadas durante uma temporada específica.\n",
    "\n",
    "Iremos analisar dados de jogos da NBA desde a temporada de 2003, destacando uma temporada mais recente para realizar previsões. Será muito importante transformar essa base de previsões, afinal não poderemos usar os dados reais dessas partidas. Ao simular uma nova temporada, queremos prever os jogos que ainda não ocorreram e utilizar os próprios dados das partidas nas previsões seria como utilizar “dados futuros”. Durante o processo visualizaremos que utilizar “dados futuros” nos testes trariam falsas métricas de desempenho para os modelos, alcançando sem muito esforço acurácias superiores a oitenta por cento, o que certamente não representaria a realidade. Utilizaremos então como atributos de previsão as estatísticas acumuladas durante a temporada, apenas até os jogos que antecedem a partida a ser prevista.\n",
    "\n",
    "Diante de toda complexidade já contextualizada, não há qualquer pretensão de se construir modelos com alta capacidade de precisão (afinal se isso fosse possível o torneio já teria perdido prestígio por ser altamente previsível), mas sim apontar o favoritismo de uma das equipes com base em dados, conceitos estatísticos e aprendizado de máquina. Em uma rápida pesquisa na internet, em sites de apostas ou mesmo de “palpites”, não é difícil perceber que as probabilidades de vitória de uma equipe em um jogo da NBA raramente alcançam um índice de sessenta por cento, sendo assim definiremos como meta que os modelos utilizados para as conclusões tenham ao menos um índice de precisão de sessenta por cento ou muito próximo disso.\n",
    "\n",
    "\n",
    "\n",
    "## Coleta de Dados:\n",
    "Os conjuntos que analisaremos foram retirados do site de competições [Kaggle](https://www.kaggle.com) em 23 de junho de 2020. Foram criados por Nathan Lauga e Ionas Kelepouris que mineraram os dados dos sites da [NBA](https://stats.nba.com) e [BasketBall Reference](https://www.basketball-reference.com), respectivamente.\n",
    "\n",
    "Serão utilizados três conjuntos de dados que contém dados estatísticos e informações com todos os jogos da NBA da temporada 2003 a fevereiro de 2020.\n",
    "\n",
    "## Descrição dos conjuntos:\n",
    "\n",
    "### games.csv\n",
    "#### Conjunto de dados com todos os jogos da NBA da temporada 2003/2004 a fevereiro de 2020.\n",
    "link: [https://www.kaggle.com/nathanlauga/nba-games?select=games.csv]\n",
    "\n",
    "* __GAME_DATE_EST__ - Data do jogo;\n",
    "* __GAME_ID__ - ID do jogo;\n",
    "* __GAME_STATUS_TEXT__ - Status do jogo (\"Final\" significa que o foi concluído);\n",
    "* __HOME_TEAM_ID__ - ID da equipe anfitriã;\n",
    "* __VISITOR_TEAM_ID__ - ID da equipe visitante;\n",
    "* __SEASON__ - Temporada em que o jogo ocorreu;\n",
    "* __TEAM_ID_home__ - ID da equipe anfitriã (duplicado de \"HOME_TEAM_ID\");\n",
    "* __PTS_home__ - Número de pontos marcados pela equipe anfitriã;\n",
    "* __FG_PCT_home__ - Percentual de arremessos convertidos pela equipe anfitriã;\n",
    "* __FT_PCT_home__ - Percentual de Lances Livres convertidos pela equipe anfitriã;\n",
    "* __FG3_PCT_home__ - Percentual de arremessos de 3 pontos convertidos pela equipe anfitriã;\n",
    "* __AST_home__ - Número de assistências da equipe anfitriã;\n",
    "* __REB_home__ - Número de rebotes da equipe anfitriã;\n",
    "* __TEAM_ID_away__ - ID da equipe visitante (duplicado de \"VISITOR_TEAM_ID\");\n",
    "* __PTS_away__ - Número de pontos marcados pela equipe visitante;\n",
    "* __FG_PCT_away__ - Percentual de arremessos convertidos pela equipe visitante;\n",
    "* __FT_PCT_away__ - Percentual de Lances Livres convertidos pela equipe visitante;\n",
    "* __FG3_PCT_away__ - Percentual de arremessos de 3 pontos convertidos pela equipe visitante;\n",
    "* __AST_away__ - Número de assistências da equipe visitante;\n",
    "* __REB_away__ - Número de rebotes da equipe visitante;\n",
    "* __HOME_TEAM_WINS__ - Se a equipe anfitriã venceu o jogo (1 = Sim, 0 = Não).\n",
    "\n",
    "### teams.csv\n",
    "#### Conjunto com os dados das equipes. Se trata de um conjunto complementar ao contido no arquivo \"games.csv\" e são relacionados através de atributos com identificadores (ID) das equipes.\n",
    "link: [https://www.kaggle.com/nathanlauga/nba-games?select=teams.csv]\n",
    "\n",
    "* __LEAGUE_ID__ - ID da liga (aqui, apenas NBA);\n",
    "* __TEAM_ID__ - ID da equipe;\n",
    "* __MIN_YEAR__ - Ano mínimo da equipe no campeonato da NBA;\n",
    "* __MAX_YEAR__ - Ano máximo da equipe no campeonato da NBA;\n",
    "* __ABBREVIATION__ - Abreviação do nome da equipe;\n",
    "* __NICKNAME__ - Apelido da equipe;\n",
    "* __YEARFOUNDED__ - Ano de Fundação;\n",
    "* __CITY__ - Cidade da equipe;\n",
    "* __ARENA__ - Arena da equipe;\n",
    "* __ARENACAPACITY__ - Capacidade da arena;\n",
    "* __OWNER__ - Dono da equipe (último);\n",
    "* __GENERALMANAGER__ - Gerente geral;\n",
    "* __HEADCOACH__ - Treinador;\n",
    "* __DLEAGUEAFFILIATION__ - Afiliação da Liga.\n",
    "\n",
    "### nba.games.stats.csv\n",
    "#### Conjunto com jogos da NBA da temporada 2014 a 2018. Neste novo conjunto temos atributos que não existem no primeiro arquivo \"games.csv\".\n",
    "link: [https://www.kaggle.com/ionaskel/nba-games-stats-from-2014-to-2018?select=nba.games.stats.csv]\n",
    "\n",
    "* __Team__ - Nome da equipe;\n",
    "* __Game__ - Número do jogo (por equipe);\n",
    "* __Date__ - Data do jogo;\n",
    "* __Home__ - Se equipe anfitriã ou visitante;\n",
    "* __Opponent__ - Equipe oponente;\n",
    "* __WINorLOSS__ - Se vitória ou derrota;\n",
    "* __TeamPoints__ - Número de pontos da equipe;\n",
    "* __OpponentPoints__ - Número de pontos do oponente;\n",
    "* __FieldGoals__ - Arremessos convertidos pela equipe;\n",
    "* __FieldGoalsAttempted__ - Arremessos efetuados pela equipe;\n",
    "* __FieldGoals.__ - Percentual de arremessos convertidos pela equipe;\n",
    "* __X3PointShots__ - Arremessos de 3 pontos convertidos pela equipe;\n",
    "* __X3PointShotsAttempted__ - Arremessos de 3 pontos efetuados pela equipe;\n",
    "* __X3PointShots.__ - Percentual de arremessos de 3 pontos convertidos pela equipe;\n",
    "* __FreeThrows__ - Lances livres convertidos pela equipe;\n",
    "* __FreeThrowsAttempted__ - Lances livres efetuados pela equipe;\n",
    "* __FreeThrows.__ - Percentual de lances livres convertidos pela equipe;\n",
    "* __OffRebounds__ - Número de rebotes ofensivos da equipe;\n",
    "* __TotalRebounds__ - Número total de rebotes da equipe;\n",
    "* __Assists__ - Número de assistencias da equipe;\n",
    "* __Steals__ - Número de bolas roubadas pela equipe;\n",
    "* __Blocks__ - Número de bloqueios (\"toco\") efetuados pela equipe;\n",
    "* __Turnovers__ - Número de bolas perdidas pela equipe;\n",
    "* __TotalFouls__ - Número de faltas da equipe;\n",
    "* __Opp.FieldGoals__ - Arremessos convertidos pelo oponente;\n",
    "* __Opp.FieldGoalsAttempted__ - Arremessos efetuados pelo oponente;\n",
    "* __Opp.FieldGoals.__ - Percentual de arremessos convertidos pelo oponente;\n",
    "* __Opp.3PointShots__ - Arremessos de 3 pontos convertidos pelo oponente;\n",
    "* __Opp.3PointShotsAttempted__ - Arremessos de 3 pontos efetuados pelo oponente;\n",
    "* __Opp.3PointShots.__ - Percentual de arremessos de 3 pontos convertidos pelo oponente;\n",
    "* __Opp.FreeThrows__ - Lances livres convertidos pelo oponente;\n",
    "* __Opp.FreeThrowsAttempted__ - Lances livres efetuados pelo oponente;\n",
    "* __Opp.FreeThrows.__ - Percentual de lances livres convertidos pelo oponente;\n",
    "* __Opp.OffRebounds__ - Número de rebotes ofensivos do oponente;\n",
    "* __Opp.TotalRebounds__ - Número total de rebotes do oponente;\n",
    "* __Opp.Assists__ - Número de assistencias do oponente;\n",
    "* __Opp.Steals__ - Número de bolas roubadas pelo oponente;\n",
    "* __Opp.Blocks__ - Número de bloqueios (\"toco\") efetuados pelo oponente;\n",
    "* __Opp.Turnovers__ - Número de bolas perdidas pelo oponente;\n",
    "* __Opp.TotalFouls__ - Número de faltas do oponente."
   ]
  },
  {
   "cell_type": "code",
   "execution_count": 1,
   "metadata": {},
   "outputs": [],
   "source": [
    "# Bibliotecas\n",
    "import numpy as np\n",
    "import pandas as pd\n",
    "import matplotlib.pyplot as plt\n",
    "import seaborn as sns\n",
    "from scipy import stats\n",
    "from imblearn.under_sampling import RandomUnderSampler\n",
    "from sklearn.preprocessing import StandardScaler\n",
    "from sklearn.model_selection import train_test_split, GridSearchCV\n",
    "from sklearn.metrics import accuracy_score, confusion_matrix\n",
    "from sklearn.linear_model import LogisticRegression\n",
    "from sklearn.ensemble import RandomForestClassifier\n",
    "from sklearn.svm import SVC\n",
    "from xgboost import XGBClassifier\n",
    "import warnings\n",
    "\n",
    "# Configurações de visualização\n",
    "%matplotlib inline\n",
    "warnings.filterwarnings(\"ignore\")\n",
    "pd.set_option('display.max_columns', 50)\n",
    "pd.set_option('display.max_rows', 100)"
   ]
  },
  {
   "cell_type": "markdown",
   "metadata": {},
   "source": [
    "## Processamento/Tratamento dos Dados"
   ]
  },
  {
   "cell_type": "code",
   "execution_count": 2,
   "metadata": {},
   "outputs": [],
   "source": [
    "# Importando dataset's\n",
    "games = pd.read_csv('games.csv')\n",
    "teams = pd.read_csv('teams.csv')\n",
    "nbags = pd.read_csv('nba.games.stats.csv')"
   ]
  },
  {
   "cell_type": "code",
   "execution_count": 3,
   "metadata": {},
   "outputs": [],
   "source": [
    "# Padronizando nomes das variáveis (letras minúsculas e retirando possíveis caracteres de espaços do início ou fim):\n",
    "games.rename(columns= lambda x: x.lower().strip(), inplace=True)\n",
    "teams.rename(columns= lambda x: x.lower().strip(), inplace=True)\n",
    "nbags.rename(columns= lambda x: x.lower().strip(), inplace=True)"
   ]
  },
  {
   "cell_type": "code",
   "execution_count": 4,
   "metadata": {},
   "outputs": [
    {
     "name": "stdout",
     "output_type": "stream",
     "text": [
      "<class 'pandas.core.frame.DataFrame'>\n",
      "RangeIndex: 23195 entries, 0 to 23194\n",
      "Data columns (total 21 columns):\n",
      "game_date_est       23195 non-null object\n",
      "game_id             23195 non-null int64\n",
      "game_status_text    23195 non-null object\n",
      "home_team_id        23195 non-null int64\n",
      "visitor_team_id     23195 non-null int64\n",
      "season              23195 non-null int64\n",
      "team_id_home        23195 non-null int64\n",
      "pts_home            23096 non-null float64\n",
      "fg_pct_home         23096 non-null float64\n",
      "ft_pct_home         23096 non-null float64\n",
      "fg3_pct_home        23096 non-null float64\n",
      "ast_home            23096 non-null float64\n",
      "reb_home            23096 non-null float64\n",
      "team_id_away        23195 non-null int64\n",
      "pts_away            23096 non-null float64\n",
      "fg_pct_away         23096 non-null float64\n",
      "ft_pct_away         23096 non-null float64\n",
      "fg3_pct_away        23096 non-null float64\n",
      "ast_away            23096 non-null float64\n",
      "reb_away            23096 non-null float64\n",
      "home_team_wins      23195 non-null int64\n",
      "dtypes: float64(12), int64(7), object(2)\n",
      "memory usage: 3.7+ MB\n"
     ]
    }
   ],
   "source": [
    "# Confirmando conteúdo, volume e tipos de dados do conjunto \"games\" (Relatório: Figura 2)\n",
    "games.info()"
   ]
  },
  {
   "cell_type": "code",
   "execution_count": 5,
   "metadata": {},
   "outputs": [
    {
     "data": {
      "text/html": [
       "<div>\n",
       "<style scoped>\n",
       "    .dataframe tbody tr th:only-of-type {\n",
       "        vertical-align: middle;\n",
       "    }\n",
       "\n",
       "    .dataframe tbody tr th {\n",
       "        vertical-align: top;\n",
       "    }\n",
       "\n",
       "    .dataframe thead th {\n",
       "        text-align: right;\n",
       "    }\n",
       "</style>\n",
       "<table border=\"1\" class=\"dataframe\">\n",
       "  <thead>\n",
       "    <tr style=\"text-align: right;\">\n",
       "      <th></th>\n",
       "      <th>game_date_est</th>\n",
       "      <th>game_id</th>\n",
       "      <th>game_status_text</th>\n",
       "      <th>home_team_id</th>\n",
       "      <th>visitor_team_id</th>\n",
       "      <th>season</th>\n",
       "      <th>team_id_home</th>\n",
       "      <th>pts_home</th>\n",
       "      <th>fg_pct_home</th>\n",
       "      <th>ft_pct_home</th>\n",
       "      <th>fg3_pct_home</th>\n",
       "      <th>ast_home</th>\n",
       "      <th>reb_home</th>\n",
       "      <th>team_id_away</th>\n",
       "      <th>pts_away</th>\n",
       "      <th>fg_pct_away</th>\n",
       "      <th>ft_pct_away</th>\n",
       "      <th>fg3_pct_away</th>\n",
       "      <th>ast_away</th>\n",
       "      <th>reb_away</th>\n",
       "      <th>home_team_wins</th>\n",
       "    </tr>\n",
       "  </thead>\n",
       "  <tbody>\n",
       "    <tr>\n",
       "      <th>0</th>\n",
       "      <td>2020-03-01</td>\n",
       "      <td>21900895</td>\n",
       "      <td>Final</td>\n",
       "      <td>1610612766</td>\n",
       "      <td>1610612749</td>\n",
       "      <td>2019</td>\n",
       "      <td>1610612766</td>\n",
       "      <td>85.0</td>\n",
       "      <td>0.354</td>\n",
       "      <td>0.900</td>\n",
       "      <td>0.229</td>\n",
       "      <td>22.0</td>\n",
       "      <td>47.0</td>\n",
       "      <td>1610612749</td>\n",
       "      <td>93.0</td>\n",
       "      <td>0.402</td>\n",
       "      <td>0.762</td>\n",
       "      <td>0.226</td>\n",
       "      <td>20.0</td>\n",
       "      <td>61.0</td>\n",
       "      <td>0</td>\n",
       "    </tr>\n",
       "    <tr>\n",
       "      <th>1</th>\n",
       "      <td>2020-03-01</td>\n",
       "      <td>21900896</td>\n",
       "      <td>Final</td>\n",
       "      <td>1610612750</td>\n",
       "      <td>1610612742</td>\n",
       "      <td>2019</td>\n",
       "      <td>1610612750</td>\n",
       "      <td>91.0</td>\n",
       "      <td>0.364</td>\n",
       "      <td>0.400</td>\n",
       "      <td>0.310</td>\n",
       "      <td>19.0</td>\n",
       "      <td>57.0</td>\n",
       "      <td>1610612742</td>\n",
       "      <td>111.0</td>\n",
       "      <td>0.468</td>\n",
       "      <td>0.632</td>\n",
       "      <td>0.275</td>\n",
       "      <td>28.0</td>\n",
       "      <td>56.0</td>\n",
       "      <td>0</td>\n",
       "    </tr>\n",
       "    <tr>\n",
       "      <th>2</th>\n",
       "      <td>2020-03-01</td>\n",
       "      <td>21900897</td>\n",
       "      <td>Final</td>\n",
       "      <td>1610612746</td>\n",
       "      <td>1610612755</td>\n",
       "      <td>2019</td>\n",
       "      <td>1610612746</td>\n",
       "      <td>136.0</td>\n",
       "      <td>0.592</td>\n",
       "      <td>0.805</td>\n",
       "      <td>0.542</td>\n",
       "      <td>25.0</td>\n",
       "      <td>37.0</td>\n",
       "      <td>1610612755</td>\n",
       "      <td>130.0</td>\n",
       "      <td>0.505</td>\n",
       "      <td>0.650</td>\n",
       "      <td>0.488</td>\n",
       "      <td>27.0</td>\n",
       "      <td>37.0</td>\n",
       "      <td>1</td>\n",
       "    </tr>\n",
       "    <tr>\n",
       "      <th>3</th>\n",
       "      <td>2020-03-01</td>\n",
       "      <td>21900898</td>\n",
       "      <td>Final</td>\n",
       "      <td>1610612743</td>\n",
       "      <td>1610612761</td>\n",
       "      <td>2019</td>\n",
       "      <td>1610612743</td>\n",
       "      <td>133.0</td>\n",
       "      <td>0.566</td>\n",
       "      <td>0.700</td>\n",
       "      <td>0.500</td>\n",
       "      <td>38.0</td>\n",
       "      <td>41.0</td>\n",
       "      <td>1610612761</td>\n",
       "      <td>118.0</td>\n",
       "      <td>0.461</td>\n",
       "      <td>0.897</td>\n",
       "      <td>0.263</td>\n",
       "      <td>24.0</td>\n",
       "      <td>36.0</td>\n",
       "      <td>1</td>\n",
       "    </tr>\n",
       "    <tr>\n",
       "      <th>4</th>\n",
       "      <td>2020-03-01</td>\n",
       "      <td>21900899</td>\n",
       "      <td>Final</td>\n",
       "      <td>1610612758</td>\n",
       "      <td>1610612765</td>\n",
       "      <td>2019</td>\n",
       "      <td>1610612758</td>\n",
       "      <td>106.0</td>\n",
       "      <td>0.407</td>\n",
       "      <td>0.885</td>\n",
       "      <td>0.257</td>\n",
       "      <td>18.0</td>\n",
       "      <td>51.0</td>\n",
       "      <td>1610612765</td>\n",
       "      <td>100.0</td>\n",
       "      <td>0.413</td>\n",
       "      <td>0.667</td>\n",
       "      <td>0.429</td>\n",
       "      <td>23.0</td>\n",
       "      <td>42.0</td>\n",
       "      <td>1</td>\n",
       "    </tr>\n",
       "  </tbody>\n",
       "</table>\n",
       "</div>"
      ],
      "text/plain": [
       "  game_date_est   game_id game_status_text  home_team_id  visitor_team_id  \\\n",
       "0    2020-03-01  21900895            Final    1610612766       1610612749   \n",
       "1    2020-03-01  21900896            Final    1610612750       1610612742   \n",
       "2    2020-03-01  21900897            Final    1610612746       1610612755   \n",
       "3    2020-03-01  21900898            Final    1610612743       1610612761   \n",
       "4    2020-03-01  21900899            Final    1610612758       1610612765   \n",
       "\n",
       "   season  team_id_home  pts_home  fg_pct_home  ft_pct_home  fg3_pct_home  \\\n",
       "0    2019    1610612766      85.0        0.354        0.900         0.229   \n",
       "1    2019    1610612750      91.0        0.364        0.400         0.310   \n",
       "2    2019    1610612746     136.0        0.592        0.805         0.542   \n",
       "3    2019    1610612743     133.0        0.566        0.700         0.500   \n",
       "4    2019    1610612758     106.0        0.407        0.885         0.257   \n",
       "\n",
       "   ast_home  reb_home  team_id_away  pts_away  fg_pct_away  ft_pct_away  \\\n",
       "0      22.0      47.0    1610612749      93.0        0.402        0.762   \n",
       "1      19.0      57.0    1610612742     111.0        0.468        0.632   \n",
       "2      25.0      37.0    1610612755     130.0        0.505        0.650   \n",
       "3      38.0      41.0    1610612761     118.0        0.461        0.897   \n",
       "4      18.0      51.0    1610612765     100.0        0.413        0.667   \n",
       "\n",
       "   fg3_pct_away  ast_away  reb_away  home_team_wins  \n",
       "0         0.226      20.0      61.0               0  \n",
       "1         0.275      28.0      56.0               0  \n",
       "2         0.488      27.0      37.0               1  \n",
       "3         0.263      24.0      36.0               1  \n",
       "4         0.429      23.0      42.0               1  "
      ]
     },
     "execution_count": 5,
     "metadata": {},
     "output_type": "execute_result"
    }
   ],
   "source": [
    "# Visualizando os primeiros registros do dataframe games\n",
    "games.head()"
   ]
  },
  {
   "cell_type": "markdown",
   "metadata": {},
   "source": [
    "O conjunto importado do arquivo \"games.csv\" possui um bom volume de histórico, são mais de 23.195 registros distribuídos em 21 atributos, com praticamente todos os jogos de 15 temporadas da NBA. Este Data Frame facilmente pode servir como base histórica para treinamento dos modelos de aprendizado de máquina que construiremos durante o projeto. Por outro lado, para simular as estatísticas acumuladas de cada equipe antes de cada partida de uma nova temporada este conjunto não será ideal, isso porque não possui os números absolutos (possui somente os percentuais finais) abertos para que possamos recalcular os índices antes de cada jogo. Visualizamos ainda alguns dados \"missing\", os quais precisaremos tratar mais à frente."
   ]
  },
  {
   "cell_type": "code",
   "execution_count": 6,
   "metadata": {},
   "outputs": [
    {
     "name": "stdout",
     "output_type": "stream",
     "text": [
      "<class 'pandas.core.frame.DataFrame'>\n",
      "RangeIndex: 30 entries, 0 to 29\n",
      "Data columns (total 14 columns):\n",
      "league_id             30 non-null int64\n",
      "team_id               30 non-null int64\n",
      "min_year              30 non-null int64\n",
      "max_year              30 non-null int64\n",
      "abbreviation          30 non-null object\n",
      "nickname              30 non-null object\n",
      "yearfounded           30 non-null int64\n",
      "city                  30 non-null object\n",
      "arena                 30 non-null object\n",
      "arenacapacity         26 non-null float64\n",
      "owner                 30 non-null object\n",
      "generalmanager        30 non-null object\n",
      "headcoach             30 non-null object\n",
      "dleagueaffiliation    30 non-null object\n",
      "dtypes: float64(1), int64(5), object(8)\n",
      "memory usage: 3.4+ KB\n"
     ]
    }
   ],
   "source": [
    "# Confirmando conteúdo, volume e tipos de dados do conjunto \"teams\" (Relatório: Figura 3)\n",
    "teams.info()"
   ]
  },
  {
   "cell_type": "code",
   "execution_count": 7,
   "metadata": {},
   "outputs": [
    {
     "data": {
      "text/html": [
       "<div>\n",
       "<style scoped>\n",
       "    .dataframe tbody tr th:only-of-type {\n",
       "        vertical-align: middle;\n",
       "    }\n",
       "\n",
       "    .dataframe tbody tr th {\n",
       "        vertical-align: top;\n",
       "    }\n",
       "\n",
       "    .dataframe thead th {\n",
       "        text-align: right;\n",
       "    }\n",
       "</style>\n",
       "<table border=\"1\" class=\"dataframe\">\n",
       "  <thead>\n",
       "    <tr style=\"text-align: right;\">\n",
       "      <th></th>\n",
       "      <th>league_id</th>\n",
       "      <th>team_id</th>\n",
       "      <th>min_year</th>\n",
       "      <th>max_year</th>\n",
       "      <th>abbreviation</th>\n",
       "      <th>nickname</th>\n",
       "      <th>yearfounded</th>\n",
       "      <th>city</th>\n",
       "      <th>arena</th>\n",
       "      <th>arenacapacity</th>\n",
       "      <th>owner</th>\n",
       "      <th>generalmanager</th>\n",
       "      <th>headcoach</th>\n",
       "      <th>dleagueaffiliation</th>\n",
       "    </tr>\n",
       "  </thead>\n",
       "  <tbody>\n",
       "    <tr>\n",
       "      <th>0</th>\n",
       "      <td>0</td>\n",
       "      <td>1610612737</td>\n",
       "      <td>1949</td>\n",
       "      <td>2019</td>\n",
       "      <td>ATL</td>\n",
       "      <td>Hawks</td>\n",
       "      <td>1949</td>\n",
       "      <td>Atlanta</td>\n",
       "      <td>State Farm Arena</td>\n",
       "      <td>18729.0</td>\n",
       "      <td>Tony Ressler</td>\n",
       "      <td>Travis Schlenk</td>\n",
       "      <td>Lloyd Pierce</td>\n",
       "      <td>Erie Bayhawks</td>\n",
       "    </tr>\n",
       "    <tr>\n",
       "      <th>1</th>\n",
       "      <td>0</td>\n",
       "      <td>1610612738</td>\n",
       "      <td>1946</td>\n",
       "      <td>2019</td>\n",
       "      <td>BOS</td>\n",
       "      <td>Celtics</td>\n",
       "      <td>1946</td>\n",
       "      <td>Boston</td>\n",
       "      <td>TD Garden</td>\n",
       "      <td>18624.0</td>\n",
       "      <td>Wyc Grousbeck</td>\n",
       "      <td>Danny Ainge</td>\n",
       "      <td>Brad Stevens</td>\n",
       "      <td>Maine Red Claws</td>\n",
       "    </tr>\n",
       "    <tr>\n",
       "      <th>2</th>\n",
       "      <td>0</td>\n",
       "      <td>1610612740</td>\n",
       "      <td>2002</td>\n",
       "      <td>2019</td>\n",
       "      <td>NOP</td>\n",
       "      <td>Pelicans</td>\n",
       "      <td>2002</td>\n",
       "      <td>New Orleans</td>\n",
       "      <td>Smoothie King Center</td>\n",
       "      <td>NaN</td>\n",
       "      <td>Tom Benson</td>\n",
       "      <td>Trajan Langdon</td>\n",
       "      <td>Alvin Gentry</td>\n",
       "      <td>No Affiliate</td>\n",
       "    </tr>\n",
       "    <tr>\n",
       "      <th>3</th>\n",
       "      <td>0</td>\n",
       "      <td>1610612741</td>\n",
       "      <td>1966</td>\n",
       "      <td>2019</td>\n",
       "      <td>CHI</td>\n",
       "      <td>Bulls</td>\n",
       "      <td>1966</td>\n",
       "      <td>Chicago</td>\n",
       "      <td>United Center</td>\n",
       "      <td>21711.0</td>\n",
       "      <td>Jerry Reinsdorf</td>\n",
       "      <td>Gar Forman</td>\n",
       "      <td>Jim Boylen</td>\n",
       "      <td>Windy City Bulls</td>\n",
       "    </tr>\n",
       "    <tr>\n",
       "      <th>4</th>\n",
       "      <td>0</td>\n",
       "      <td>1610612742</td>\n",
       "      <td>1980</td>\n",
       "      <td>2019</td>\n",
       "      <td>DAL</td>\n",
       "      <td>Mavericks</td>\n",
       "      <td>1980</td>\n",
       "      <td>Dallas</td>\n",
       "      <td>American Airlines Center</td>\n",
       "      <td>19200.0</td>\n",
       "      <td>Mark Cuban</td>\n",
       "      <td>Donnie Nelson</td>\n",
       "      <td>Rick Carlisle</td>\n",
       "      <td>Texas Legends</td>\n",
       "    </tr>\n",
       "  </tbody>\n",
       "</table>\n",
       "</div>"
      ],
      "text/plain": [
       "   league_id     team_id  min_year  max_year abbreviation   nickname  \\\n",
       "0          0  1610612737      1949      2019          ATL      Hawks   \n",
       "1          0  1610612738      1946      2019          BOS    Celtics   \n",
       "2          0  1610612740      2002      2019          NOP   Pelicans   \n",
       "3          0  1610612741      1966      2019          CHI      Bulls   \n",
       "4          0  1610612742      1980      2019          DAL  Mavericks   \n",
       "\n",
       "   yearfounded         city                     arena  arenacapacity  \\\n",
       "0         1949      Atlanta          State Farm Arena        18729.0   \n",
       "1         1946       Boston                 TD Garden        18624.0   \n",
       "2         2002  New Orleans      Smoothie King Center            NaN   \n",
       "3         1966      Chicago             United Center        21711.0   \n",
       "4         1980       Dallas  American Airlines Center        19200.0   \n",
       "\n",
       "             owner  generalmanager      headcoach dleagueaffiliation  \n",
       "0     Tony Ressler  Travis Schlenk   Lloyd Pierce      Erie Bayhawks  \n",
       "1    Wyc Grousbeck     Danny Ainge   Brad Stevens    Maine Red Claws  \n",
       "2       Tom Benson  Trajan Langdon   Alvin Gentry       No Affiliate  \n",
       "3  Jerry Reinsdorf      Gar Forman     Jim Boylen   Windy City Bulls  \n",
       "4       Mark Cuban   Donnie Nelson  Rick Carlisle      Texas Legends  "
      ]
     },
     "execution_count": 7,
     "metadata": {},
     "output_type": "execute_result"
    }
   ],
   "source": [
    "# Visualizando os primeiros registros do dataframe teams\n",
    "teams.head()"
   ]
  },
  {
   "cell_type": "markdown",
   "metadata": {},
   "source": [
    "Já o conjunto importado do arquivo \"teams.csv\" possui 30 registros em um total de 14 atributos, contendo os dados nominais de cada equipe. Nos ajudará a enriquecer o conjunto \"games.csv\" com as siglas ou nomes das equipes, permitindo uma melhor identificação e construção de versões similares entre as bases que servirão de treinamento de modelos e de previsões. Existem dados faltantes em apenas um dos atributos, “arenacapacity”, o qual provavelmente não será utilizado no decorrer do processo."
   ]
  },
  {
   "cell_type": "code",
   "execution_count": 8,
   "metadata": {},
   "outputs": [
    {
     "name": "stdout",
     "output_type": "stream",
     "text": [
      "<class 'pandas.core.frame.DataFrame'>\n",
      "RangeIndex: 9840 entries, 0 to 9839\n",
      "Data columns (total 41 columns):\n",
      "unnamed: 0                  9840 non-null int64\n",
      "team                        9840 non-null object\n",
      "game                        9840 non-null int64\n",
      "date                        9840 non-null object\n",
      "home                        9840 non-null object\n",
      "opponent                    9840 non-null object\n",
      "winorloss                   9840 non-null object\n",
      "teampoints                  9840 non-null int64\n",
      "opponentpoints              9840 non-null int64\n",
      "fieldgoals                  9840 non-null int64\n",
      "fieldgoalsattempted         9840 non-null int64\n",
      "fieldgoals.                 9840 non-null float64\n",
      "x3pointshots                9840 non-null int64\n",
      "x3pointshotsattempted       9840 non-null int64\n",
      "x3pointshots.               9840 non-null float64\n",
      "freethrows                  9840 non-null int64\n",
      "freethrowsattempted         9840 non-null int64\n",
      "freethrows.                 9840 non-null float64\n",
      "offrebounds                 9840 non-null int64\n",
      "totalrebounds               9840 non-null int64\n",
      "assists                     9840 non-null int64\n",
      "steals                      9840 non-null int64\n",
      "blocks                      9840 non-null int64\n",
      "turnovers                   9840 non-null int64\n",
      "totalfouls                  9840 non-null int64\n",
      "opp.fieldgoals              9840 non-null int64\n",
      "opp.fieldgoalsattempted     9840 non-null int64\n",
      "opp.fieldgoals.             9840 non-null float64\n",
      "opp.3pointshots             9840 non-null int64\n",
      "opp.3pointshotsattempted    9840 non-null int64\n",
      "opp.3pointshots.            9840 non-null float64\n",
      "opp.freethrows              9840 non-null int64\n",
      "opp.freethrowsattempted     9840 non-null int64\n",
      "opp.freethrows.             9840 non-null float64\n",
      "opp.offrebounds             9840 non-null int64\n",
      "opp.totalrebounds           9840 non-null int64\n",
      "opp.assists                 9840 non-null int64\n",
      "opp.steals                  9840 non-null int64\n",
      "opp.blocks                  9840 non-null int64\n",
      "opp.turnovers               9840 non-null int64\n",
      "opp.totalfouls              9840 non-null int64\n",
      "dtypes: float64(6), int64(30), object(5)\n",
      "memory usage: 3.1+ MB\n"
     ]
    }
   ],
   "source": [
    "# Confirmando conteúdo, volume e tipos de dados do conjunto \"nbags\" (Relatório: Figura 4)\n",
    "nbags.info()"
   ]
  },
  {
   "cell_type": "code",
   "execution_count": 9,
   "metadata": {},
   "outputs": [
    {
     "data": {
      "text/html": [
       "<div>\n",
       "<style scoped>\n",
       "    .dataframe tbody tr th:only-of-type {\n",
       "        vertical-align: middle;\n",
       "    }\n",
       "\n",
       "    .dataframe tbody tr th {\n",
       "        vertical-align: top;\n",
       "    }\n",
       "\n",
       "    .dataframe thead th {\n",
       "        text-align: right;\n",
       "    }\n",
       "</style>\n",
       "<table border=\"1\" class=\"dataframe\">\n",
       "  <thead>\n",
       "    <tr style=\"text-align: right;\">\n",
       "      <th></th>\n",
       "      <th>unnamed: 0</th>\n",
       "      <th>team</th>\n",
       "      <th>game</th>\n",
       "      <th>date</th>\n",
       "      <th>home</th>\n",
       "      <th>opponent</th>\n",
       "      <th>winorloss</th>\n",
       "      <th>teampoints</th>\n",
       "      <th>opponentpoints</th>\n",
       "      <th>fieldgoals</th>\n",
       "      <th>fieldgoalsattempted</th>\n",
       "      <th>fieldgoals.</th>\n",
       "      <th>x3pointshots</th>\n",
       "      <th>x3pointshotsattempted</th>\n",
       "      <th>x3pointshots.</th>\n",
       "      <th>freethrows</th>\n",
       "      <th>freethrowsattempted</th>\n",
       "      <th>freethrows.</th>\n",
       "      <th>offrebounds</th>\n",
       "      <th>totalrebounds</th>\n",
       "      <th>assists</th>\n",
       "      <th>steals</th>\n",
       "      <th>blocks</th>\n",
       "      <th>turnovers</th>\n",
       "      <th>totalfouls</th>\n",
       "      <th>opp.fieldgoals</th>\n",
       "      <th>opp.fieldgoalsattempted</th>\n",
       "      <th>opp.fieldgoals.</th>\n",
       "      <th>opp.3pointshots</th>\n",
       "      <th>opp.3pointshotsattempted</th>\n",
       "      <th>opp.3pointshots.</th>\n",
       "      <th>opp.freethrows</th>\n",
       "      <th>opp.freethrowsattempted</th>\n",
       "      <th>opp.freethrows.</th>\n",
       "      <th>opp.offrebounds</th>\n",
       "      <th>opp.totalrebounds</th>\n",
       "      <th>opp.assists</th>\n",
       "      <th>opp.steals</th>\n",
       "      <th>opp.blocks</th>\n",
       "      <th>opp.turnovers</th>\n",
       "      <th>opp.totalfouls</th>\n",
       "    </tr>\n",
       "  </thead>\n",
       "  <tbody>\n",
       "    <tr>\n",
       "      <th>0</th>\n",
       "      <td>1</td>\n",
       "      <td>ATL</td>\n",
       "      <td>1</td>\n",
       "      <td>2014-10-29</td>\n",
       "      <td>Away</td>\n",
       "      <td>TOR</td>\n",
       "      <td>L</td>\n",
       "      <td>102</td>\n",
       "      <td>109</td>\n",
       "      <td>40</td>\n",
       "      <td>80</td>\n",
       "      <td>0.500</td>\n",
       "      <td>13</td>\n",
       "      <td>22</td>\n",
       "      <td>0.591</td>\n",
       "      <td>9</td>\n",
       "      <td>17</td>\n",
       "      <td>0.529</td>\n",
       "      <td>10</td>\n",
       "      <td>42</td>\n",
       "      <td>26</td>\n",
       "      <td>6</td>\n",
       "      <td>8</td>\n",
       "      <td>17</td>\n",
       "      <td>24</td>\n",
       "      <td>37</td>\n",
       "      <td>90</td>\n",
       "      <td>0.411</td>\n",
       "      <td>8</td>\n",
       "      <td>26</td>\n",
       "      <td>0.308</td>\n",
       "      <td>27</td>\n",
       "      <td>33</td>\n",
       "      <td>0.818</td>\n",
       "      <td>16</td>\n",
       "      <td>48</td>\n",
       "      <td>26</td>\n",
       "      <td>13</td>\n",
       "      <td>9</td>\n",
       "      <td>9</td>\n",
       "      <td>22</td>\n",
       "    </tr>\n",
       "    <tr>\n",
       "      <th>1</th>\n",
       "      <td>2</td>\n",
       "      <td>ATL</td>\n",
       "      <td>2</td>\n",
       "      <td>2014-11-01</td>\n",
       "      <td>Home</td>\n",
       "      <td>IND</td>\n",
       "      <td>W</td>\n",
       "      <td>102</td>\n",
       "      <td>92</td>\n",
       "      <td>35</td>\n",
       "      <td>69</td>\n",
       "      <td>0.507</td>\n",
       "      <td>7</td>\n",
       "      <td>20</td>\n",
       "      <td>0.350</td>\n",
       "      <td>25</td>\n",
       "      <td>33</td>\n",
       "      <td>0.758</td>\n",
       "      <td>3</td>\n",
       "      <td>37</td>\n",
       "      <td>26</td>\n",
       "      <td>10</td>\n",
       "      <td>6</td>\n",
       "      <td>12</td>\n",
       "      <td>20</td>\n",
       "      <td>31</td>\n",
       "      <td>81</td>\n",
       "      <td>0.383</td>\n",
       "      <td>12</td>\n",
       "      <td>32</td>\n",
       "      <td>0.375</td>\n",
       "      <td>18</td>\n",
       "      <td>21</td>\n",
       "      <td>0.857</td>\n",
       "      <td>11</td>\n",
       "      <td>44</td>\n",
       "      <td>25</td>\n",
       "      <td>5</td>\n",
       "      <td>5</td>\n",
       "      <td>18</td>\n",
       "      <td>26</td>\n",
       "    </tr>\n",
       "    <tr>\n",
       "      <th>2</th>\n",
       "      <td>3</td>\n",
       "      <td>ATL</td>\n",
       "      <td>3</td>\n",
       "      <td>2014-11-05</td>\n",
       "      <td>Away</td>\n",
       "      <td>SAS</td>\n",
       "      <td>L</td>\n",
       "      <td>92</td>\n",
       "      <td>94</td>\n",
       "      <td>38</td>\n",
       "      <td>92</td>\n",
       "      <td>0.413</td>\n",
       "      <td>8</td>\n",
       "      <td>25</td>\n",
       "      <td>0.320</td>\n",
       "      <td>8</td>\n",
       "      <td>11</td>\n",
       "      <td>0.727</td>\n",
       "      <td>10</td>\n",
       "      <td>37</td>\n",
       "      <td>26</td>\n",
       "      <td>14</td>\n",
       "      <td>5</td>\n",
       "      <td>13</td>\n",
       "      <td>25</td>\n",
       "      <td>31</td>\n",
       "      <td>69</td>\n",
       "      <td>0.449</td>\n",
       "      <td>5</td>\n",
       "      <td>17</td>\n",
       "      <td>0.294</td>\n",
       "      <td>27</td>\n",
       "      <td>38</td>\n",
       "      <td>0.711</td>\n",
       "      <td>11</td>\n",
       "      <td>50</td>\n",
       "      <td>25</td>\n",
       "      <td>7</td>\n",
       "      <td>9</td>\n",
       "      <td>19</td>\n",
       "      <td>15</td>\n",
       "    </tr>\n",
       "    <tr>\n",
       "      <th>3</th>\n",
       "      <td>4</td>\n",
       "      <td>ATL</td>\n",
       "      <td>4</td>\n",
       "      <td>2014-11-07</td>\n",
       "      <td>Away</td>\n",
       "      <td>CHO</td>\n",
       "      <td>L</td>\n",
       "      <td>119</td>\n",
       "      <td>122</td>\n",
       "      <td>43</td>\n",
       "      <td>93</td>\n",
       "      <td>0.462</td>\n",
       "      <td>13</td>\n",
       "      <td>33</td>\n",
       "      <td>0.394</td>\n",
       "      <td>20</td>\n",
       "      <td>26</td>\n",
       "      <td>0.769</td>\n",
       "      <td>7</td>\n",
       "      <td>38</td>\n",
       "      <td>28</td>\n",
       "      <td>8</td>\n",
       "      <td>3</td>\n",
       "      <td>19</td>\n",
       "      <td>33</td>\n",
       "      <td>48</td>\n",
       "      <td>97</td>\n",
       "      <td>0.495</td>\n",
       "      <td>6</td>\n",
       "      <td>21</td>\n",
       "      <td>0.286</td>\n",
       "      <td>20</td>\n",
       "      <td>27</td>\n",
       "      <td>0.741</td>\n",
       "      <td>11</td>\n",
       "      <td>51</td>\n",
       "      <td>31</td>\n",
       "      <td>6</td>\n",
       "      <td>7</td>\n",
       "      <td>19</td>\n",
       "      <td>30</td>\n",
       "    </tr>\n",
       "    <tr>\n",
       "      <th>4</th>\n",
       "      <td>5</td>\n",
       "      <td>ATL</td>\n",
       "      <td>5</td>\n",
       "      <td>2014-11-08</td>\n",
       "      <td>Home</td>\n",
       "      <td>NYK</td>\n",
       "      <td>W</td>\n",
       "      <td>103</td>\n",
       "      <td>96</td>\n",
       "      <td>33</td>\n",
       "      <td>81</td>\n",
       "      <td>0.407</td>\n",
       "      <td>9</td>\n",
       "      <td>22</td>\n",
       "      <td>0.409</td>\n",
       "      <td>28</td>\n",
       "      <td>36</td>\n",
       "      <td>0.778</td>\n",
       "      <td>12</td>\n",
       "      <td>41</td>\n",
       "      <td>18</td>\n",
       "      <td>10</td>\n",
       "      <td>5</td>\n",
       "      <td>8</td>\n",
       "      <td>17</td>\n",
       "      <td>40</td>\n",
       "      <td>84</td>\n",
       "      <td>0.476</td>\n",
       "      <td>8</td>\n",
       "      <td>21</td>\n",
       "      <td>0.381</td>\n",
       "      <td>8</td>\n",
       "      <td>11</td>\n",
       "      <td>0.727</td>\n",
       "      <td>13</td>\n",
       "      <td>44</td>\n",
       "      <td>26</td>\n",
       "      <td>2</td>\n",
       "      <td>6</td>\n",
       "      <td>15</td>\n",
       "      <td>29</td>\n",
       "    </tr>\n",
       "  </tbody>\n",
       "</table>\n",
       "</div>"
      ],
      "text/plain": [
       "   unnamed: 0 team  game        date  home opponent winorloss  teampoints  \\\n",
       "0           1  ATL     1  2014-10-29  Away      TOR         L         102   \n",
       "1           2  ATL     2  2014-11-01  Home      IND         W         102   \n",
       "2           3  ATL     3  2014-11-05  Away      SAS         L          92   \n",
       "3           4  ATL     4  2014-11-07  Away      CHO         L         119   \n",
       "4           5  ATL     5  2014-11-08  Home      NYK         W         103   \n",
       "\n",
       "   opponentpoints  fieldgoals  fieldgoalsattempted  fieldgoals.  x3pointshots  \\\n",
       "0             109          40                   80        0.500            13   \n",
       "1              92          35                   69        0.507             7   \n",
       "2              94          38                   92        0.413             8   \n",
       "3             122          43                   93        0.462            13   \n",
       "4              96          33                   81        0.407             9   \n",
       "\n",
       "   x3pointshotsattempted  x3pointshots.  freethrows  freethrowsattempted  \\\n",
       "0                     22          0.591           9                   17   \n",
       "1                     20          0.350          25                   33   \n",
       "2                     25          0.320           8                   11   \n",
       "3                     33          0.394          20                   26   \n",
       "4                     22          0.409          28                   36   \n",
       "\n",
       "   freethrows.  offrebounds  totalrebounds  assists  steals  blocks  \\\n",
       "0        0.529           10             42       26       6       8   \n",
       "1        0.758            3             37       26      10       6   \n",
       "2        0.727           10             37       26      14       5   \n",
       "3        0.769            7             38       28       8       3   \n",
       "4        0.778           12             41       18      10       5   \n",
       "\n",
       "   turnovers  totalfouls  opp.fieldgoals  opp.fieldgoalsattempted  \\\n",
       "0         17          24              37                       90   \n",
       "1         12          20              31                       81   \n",
       "2         13          25              31                       69   \n",
       "3         19          33              48                       97   \n",
       "4          8          17              40                       84   \n",
       "\n",
       "   opp.fieldgoals.  opp.3pointshots  opp.3pointshotsattempted  \\\n",
       "0            0.411                8                        26   \n",
       "1            0.383               12                        32   \n",
       "2            0.449                5                        17   \n",
       "3            0.495                6                        21   \n",
       "4            0.476                8                        21   \n",
       "\n",
       "   opp.3pointshots.  opp.freethrows  opp.freethrowsattempted  opp.freethrows.  \\\n",
       "0             0.308              27                       33            0.818   \n",
       "1             0.375              18                       21            0.857   \n",
       "2             0.294              27                       38            0.711   \n",
       "3             0.286              20                       27            0.741   \n",
       "4             0.381               8                       11            0.727   \n",
       "\n",
       "   opp.offrebounds  opp.totalrebounds  opp.assists  opp.steals  opp.blocks  \\\n",
       "0               16                 48           26          13           9   \n",
       "1               11                 44           25           5           5   \n",
       "2               11                 50           25           7           9   \n",
       "3               11                 51           31           6           7   \n",
       "4               13                 44           26           2           6   \n",
       "\n",
       "   opp.turnovers  opp.totalfouls  \n",
       "0              9              22  \n",
       "1             18              26  \n",
       "2             19              15  \n",
       "3             19              30  \n",
       "4             15              29  "
      ]
     },
     "execution_count": 9,
     "metadata": {},
     "output_type": "execute_result"
    }
   ],
   "source": [
    "# Visualizando os primeiros registros do dataframe nbags\n",
    "nbags.head()"
   ]
  },
  {
   "cell_type": "markdown",
   "metadata": {},
   "source": [
    "Por fim o conjunto importado do arquivo “nba.games.stats.csv”. Possui dados análogos aos do Data Frame \"games\", porém mais conteúdo, detalhes e sem dados faltantes. Temos por exemplo o número real de diversos atributos que permitirão transformá-lo em um novo conjunto onde os índices de desempenho das equipes sejam sumarizados e recalculados a cada nova rodada. Apesar de mais completo que os anteriores em seus 41 atributos, são poucas temporadas disponíveis nos seus 9.840 registros, podendo assim limitar o treinamento dos modelos. Ainda assim será de grande utilidade para destacar uma temporada específica, simular índices das equipes antes de cada partida e termos uma base de previsões para testarmos o desempenho dos modelos em predições de jogos futuros."
   ]
  },
  {
   "cell_type": "markdown",
   "metadata": {},
   "source": [
    "**Tratamento e criação da Base Histórica**:\n",
    "\n",
    "Primeiramente, enriquecemos o conjunto \"games\" com a identificação das equipes anfitriã e visitante. Para isso, faremos dois subconjuntos do Data Frame “teams” onde temos apenas as variáveis “team_id” e “abbreviation”. No primeiro subconjunto o atributo “team_id” é renomeado para “home_team_id”, enquanto no segundo para “away_team_id”. Estas variáveis servirão de referência para a junção com o Data Frame “games”. Já o atributo “abbreviation” é renomeado para “home” e “away” respectivamente, agregando assim a identificação das equipes por meio das abreviaturas de seus nomes."
   ]
  },
  {
   "cell_type": "code",
   "execution_count": 10,
   "metadata": {},
   "outputs": [],
   "source": [
    "# Destacando do dataset teams os IDs e os nomes das equipes (abreviados) e renomeando as variáveis.\n",
    "dfTeamHome = teams[['team_id', 'abbreviation']].rename(columns={\"team_id\": \"home_team_id\", \"abbreviation\": \"home\"})\n",
    "dfTeamAway = teams[['team_id', 'abbreviation']].rename(columns={\"team_id\": \"visitor_team_id\", \"abbreviation\": \"away\"})"
   ]
  },
  {
   "cell_type": "code",
   "execution_count": 11,
   "metadata": {},
   "outputs": [
    {
     "data": {
      "text/html": [
       "<div>\n",
       "<style scoped>\n",
       "    .dataframe tbody tr th:only-of-type {\n",
       "        vertical-align: middle;\n",
       "    }\n",
       "\n",
       "    .dataframe tbody tr th {\n",
       "        vertical-align: top;\n",
       "    }\n",
       "\n",
       "    .dataframe thead th {\n",
       "        text-align: right;\n",
       "    }\n",
       "</style>\n",
       "<table border=\"1\" class=\"dataframe\">\n",
       "  <thead>\n",
       "    <tr style=\"text-align: right;\">\n",
       "      <th></th>\n",
       "      <th>home_team_id</th>\n",
       "      <th>home</th>\n",
       "    </tr>\n",
       "  </thead>\n",
       "  <tbody>\n",
       "    <tr>\n",
       "      <th>0</th>\n",
       "      <td>1610612737</td>\n",
       "      <td>ATL</td>\n",
       "    </tr>\n",
       "    <tr>\n",
       "      <th>1</th>\n",
       "      <td>1610612738</td>\n",
       "      <td>BOS</td>\n",
       "    </tr>\n",
       "    <tr>\n",
       "      <th>2</th>\n",
       "      <td>1610612740</td>\n",
       "      <td>NOP</td>\n",
       "    </tr>\n",
       "    <tr>\n",
       "      <th>3</th>\n",
       "      <td>1610612741</td>\n",
       "      <td>CHI</td>\n",
       "    </tr>\n",
       "    <tr>\n",
       "      <th>4</th>\n",
       "      <td>1610612742</td>\n",
       "      <td>DAL</td>\n",
       "    </tr>\n",
       "  </tbody>\n",
       "</table>\n",
       "</div>"
      ],
      "text/plain": [
       "   home_team_id home\n",
       "0    1610612737  ATL\n",
       "1    1610612738  BOS\n",
       "2    1610612740  NOP\n",
       "3    1610612741  CHI\n",
       "4    1610612742  DAL"
      ]
     },
     "execution_count": 11,
     "metadata": {},
     "output_type": "execute_result"
    }
   ],
   "source": [
    "# Visualizando os primeiros registros do dataframe dfTeamHome (Relatório: Figura 5)\n",
    "dfTeamHome.head()"
   ]
  },
  {
   "cell_type": "code",
   "execution_count": 12,
   "metadata": {},
   "outputs": [
    {
     "data": {
      "text/html": [
       "<div>\n",
       "<style scoped>\n",
       "    .dataframe tbody tr th:only-of-type {\n",
       "        vertical-align: middle;\n",
       "    }\n",
       "\n",
       "    .dataframe tbody tr th {\n",
       "        vertical-align: top;\n",
       "    }\n",
       "\n",
       "    .dataframe thead th {\n",
       "        text-align: right;\n",
       "    }\n",
       "</style>\n",
       "<table border=\"1\" class=\"dataframe\">\n",
       "  <thead>\n",
       "    <tr style=\"text-align: right;\">\n",
       "      <th></th>\n",
       "      <th>visitor_team_id</th>\n",
       "      <th>away</th>\n",
       "    </tr>\n",
       "  </thead>\n",
       "  <tbody>\n",
       "    <tr>\n",
       "      <th>0</th>\n",
       "      <td>1610612737</td>\n",
       "      <td>ATL</td>\n",
       "    </tr>\n",
       "    <tr>\n",
       "      <th>1</th>\n",
       "      <td>1610612738</td>\n",
       "      <td>BOS</td>\n",
       "    </tr>\n",
       "    <tr>\n",
       "      <th>2</th>\n",
       "      <td>1610612740</td>\n",
       "      <td>NOP</td>\n",
       "    </tr>\n",
       "    <tr>\n",
       "      <th>3</th>\n",
       "      <td>1610612741</td>\n",
       "      <td>CHI</td>\n",
       "    </tr>\n",
       "    <tr>\n",
       "      <th>4</th>\n",
       "      <td>1610612742</td>\n",
       "      <td>DAL</td>\n",
       "    </tr>\n",
       "  </tbody>\n",
       "</table>\n",
       "</div>"
      ],
      "text/plain": [
       "   visitor_team_id away\n",
       "0       1610612737  ATL\n",
       "1       1610612738  BOS\n",
       "2       1610612740  NOP\n",
       "3       1610612741  CHI\n",
       "4       1610612742  DAL"
      ]
     },
     "execution_count": 12,
     "metadata": {},
     "output_type": "execute_result"
    }
   ],
   "source": [
    "# Visualizando os primeiros registros do dataframe dfTeamAway (Relatório: Figura 5)\n",
    "dfTeamAway.head()"
   ]
  },
  {
   "cell_type": "code",
   "execution_count": 13,
   "metadata": {},
   "outputs": [],
   "source": [
    "# Unificando ao dataframe games as siglas das equipes\n",
    "games = pd.merge(games, dfTeamHome, how='left', on=['home_team_id'])\n",
    "games = pd.merge(games, dfTeamAway, how='left', on=['visitor_team_id'])"
   ]
  },
  {
   "cell_type": "code",
   "execution_count": 14,
   "metadata": {},
   "outputs": [
    {
     "data": {
      "text/html": [
       "<div>\n",
       "<style scoped>\n",
       "    .dataframe tbody tr th:only-of-type {\n",
       "        vertical-align: middle;\n",
       "    }\n",
       "\n",
       "    .dataframe tbody tr th {\n",
       "        vertical-align: top;\n",
       "    }\n",
       "\n",
       "    .dataframe thead th {\n",
       "        text-align: right;\n",
       "    }\n",
       "</style>\n",
       "<table border=\"1\" class=\"dataframe\">\n",
       "  <thead>\n",
       "    <tr style=\"text-align: right;\">\n",
       "      <th></th>\n",
       "      <th>game_date_est</th>\n",
       "      <th>game_id</th>\n",
       "      <th>game_status_text</th>\n",
       "      <th>home_team_id</th>\n",
       "      <th>visitor_team_id</th>\n",
       "      <th>season</th>\n",
       "      <th>team_id_home</th>\n",
       "      <th>pts_home</th>\n",
       "      <th>fg_pct_home</th>\n",
       "      <th>ft_pct_home</th>\n",
       "      <th>fg3_pct_home</th>\n",
       "      <th>ast_home</th>\n",
       "      <th>reb_home</th>\n",
       "      <th>team_id_away</th>\n",
       "      <th>pts_away</th>\n",
       "      <th>fg_pct_away</th>\n",
       "      <th>ft_pct_away</th>\n",
       "      <th>fg3_pct_away</th>\n",
       "      <th>ast_away</th>\n",
       "      <th>reb_away</th>\n",
       "      <th>home_team_wins</th>\n",
       "      <th>home</th>\n",
       "      <th>away</th>\n",
       "    </tr>\n",
       "  </thead>\n",
       "  <tbody>\n",
       "    <tr>\n",
       "      <th>0</th>\n",
       "      <td>2020-03-01</td>\n",
       "      <td>21900895</td>\n",
       "      <td>Final</td>\n",
       "      <td>1610612766</td>\n",
       "      <td>1610612749</td>\n",
       "      <td>2019</td>\n",
       "      <td>1610612766</td>\n",
       "      <td>85.0</td>\n",
       "      <td>0.354</td>\n",
       "      <td>0.900</td>\n",
       "      <td>0.229</td>\n",
       "      <td>22.0</td>\n",
       "      <td>47.0</td>\n",
       "      <td>1610612749</td>\n",
       "      <td>93.0</td>\n",
       "      <td>0.402</td>\n",
       "      <td>0.762</td>\n",
       "      <td>0.226</td>\n",
       "      <td>20.0</td>\n",
       "      <td>61.0</td>\n",
       "      <td>0</td>\n",
       "      <td>CHA</td>\n",
       "      <td>MIL</td>\n",
       "    </tr>\n",
       "    <tr>\n",
       "      <th>1</th>\n",
       "      <td>2020-03-01</td>\n",
       "      <td>21900896</td>\n",
       "      <td>Final</td>\n",
       "      <td>1610612750</td>\n",
       "      <td>1610612742</td>\n",
       "      <td>2019</td>\n",
       "      <td>1610612750</td>\n",
       "      <td>91.0</td>\n",
       "      <td>0.364</td>\n",
       "      <td>0.400</td>\n",
       "      <td>0.310</td>\n",
       "      <td>19.0</td>\n",
       "      <td>57.0</td>\n",
       "      <td>1610612742</td>\n",
       "      <td>111.0</td>\n",
       "      <td>0.468</td>\n",
       "      <td>0.632</td>\n",
       "      <td>0.275</td>\n",
       "      <td>28.0</td>\n",
       "      <td>56.0</td>\n",
       "      <td>0</td>\n",
       "      <td>MIN</td>\n",
       "      <td>DAL</td>\n",
       "    </tr>\n",
       "    <tr>\n",
       "      <th>2</th>\n",
       "      <td>2020-03-01</td>\n",
       "      <td>21900897</td>\n",
       "      <td>Final</td>\n",
       "      <td>1610612746</td>\n",
       "      <td>1610612755</td>\n",
       "      <td>2019</td>\n",
       "      <td>1610612746</td>\n",
       "      <td>136.0</td>\n",
       "      <td>0.592</td>\n",
       "      <td>0.805</td>\n",
       "      <td>0.542</td>\n",
       "      <td>25.0</td>\n",
       "      <td>37.0</td>\n",
       "      <td>1610612755</td>\n",
       "      <td>130.0</td>\n",
       "      <td>0.505</td>\n",
       "      <td>0.650</td>\n",
       "      <td>0.488</td>\n",
       "      <td>27.0</td>\n",
       "      <td>37.0</td>\n",
       "      <td>1</td>\n",
       "      <td>LAC</td>\n",
       "      <td>PHI</td>\n",
       "    </tr>\n",
       "    <tr>\n",
       "      <th>3</th>\n",
       "      <td>2020-03-01</td>\n",
       "      <td>21900898</td>\n",
       "      <td>Final</td>\n",
       "      <td>1610612743</td>\n",
       "      <td>1610612761</td>\n",
       "      <td>2019</td>\n",
       "      <td>1610612743</td>\n",
       "      <td>133.0</td>\n",
       "      <td>0.566</td>\n",
       "      <td>0.700</td>\n",
       "      <td>0.500</td>\n",
       "      <td>38.0</td>\n",
       "      <td>41.0</td>\n",
       "      <td>1610612761</td>\n",
       "      <td>118.0</td>\n",
       "      <td>0.461</td>\n",
       "      <td>0.897</td>\n",
       "      <td>0.263</td>\n",
       "      <td>24.0</td>\n",
       "      <td>36.0</td>\n",
       "      <td>1</td>\n",
       "      <td>DEN</td>\n",
       "      <td>TOR</td>\n",
       "    </tr>\n",
       "    <tr>\n",
       "      <th>4</th>\n",
       "      <td>2020-03-01</td>\n",
       "      <td>21900899</td>\n",
       "      <td>Final</td>\n",
       "      <td>1610612758</td>\n",
       "      <td>1610612765</td>\n",
       "      <td>2019</td>\n",
       "      <td>1610612758</td>\n",
       "      <td>106.0</td>\n",
       "      <td>0.407</td>\n",
       "      <td>0.885</td>\n",
       "      <td>0.257</td>\n",
       "      <td>18.0</td>\n",
       "      <td>51.0</td>\n",
       "      <td>1610612765</td>\n",
       "      <td>100.0</td>\n",
       "      <td>0.413</td>\n",
       "      <td>0.667</td>\n",
       "      <td>0.429</td>\n",
       "      <td>23.0</td>\n",
       "      <td>42.0</td>\n",
       "      <td>1</td>\n",
       "      <td>SAC</td>\n",
       "      <td>DET</td>\n",
       "    </tr>\n",
       "  </tbody>\n",
       "</table>\n",
       "</div>"
      ],
      "text/plain": [
       "  game_date_est   game_id game_status_text  home_team_id  visitor_team_id  \\\n",
       "0    2020-03-01  21900895            Final    1610612766       1610612749   \n",
       "1    2020-03-01  21900896            Final    1610612750       1610612742   \n",
       "2    2020-03-01  21900897            Final    1610612746       1610612755   \n",
       "3    2020-03-01  21900898            Final    1610612743       1610612761   \n",
       "4    2020-03-01  21900899            Final    1610612758       1610612765   \n",
       "\n",
       "   season  team_id_home  pts_home  fg_pct_home  ft_pct_home  fg3_pct_home  \\\n",
       "0    2019    1610612766      85.0        0.354        0.900         0.229   \n",
       "1    2019    1610612750      91.0        0.364        0.400         0.310   \n",
       "2    2019    1610612746     136.0        0.592        0.805         0.542   \n",
       "3    2019    1610612743     133.0        0.566        0.700         0.500   \n",
       "4    2019    1610612758     106.0        0.407        0.885         0.257   \n",
       "\n",
       "   ast_home  reb_home  team_id_away  pts_away  fg_pct_away  ft_pct_away  \\\n",
       "0      22.0      47.0    1610612749      93.0        0.402        0.762   \n",
       "1      19.0      57.0    1610612742     111.0        0.468        0.632   \n",
       "2      25.0      37.0    1610612755     130.0        0.505        0.650   \n",
       "3      38.0      41.0    1610612761     118.0        0.461        0.897   \n",
       "4      18.0      51.0    1610612765     100.0        0.413        0.667   \n",
       "\n",
       "   fg3_pct_away  ast_away  reb_away  home_team_wins home away  \n",
       "0         0.226      20.0      61.0               0  CHA  MIL  \n",
       "1         0.275      28.0      56.0               0  MIN  DAL  \n",
       "2         0.488      27.0      37.0               1  LAC  PHI  \n",
       "3         0.263      24.0      36.0               1  DEN  TOR  \n",
       "4         0.429      23.0      42.0               1  SAC  DET  "
      ]
     },
     "execution_count": 14,
     "metadata": {},
     "output_type": "execute_result"
    }
   ],
   "source": [
    "# Visualizando os primeiros registros do dataframe unificado\n",
    "games.head()"
   ]
  },
  {
   "cell_type": "code",
   "execution_count": 15,
   "metadata": {},
   "outputs": [
    {
     "data": {
      "text/plain": [
       "Index(['game_date_est', 'game_id', 'game_status_text', 'home_team_id',\n",
       "       'visitor_team_id', 'season', 'team_id_home', 'pts_home', 'fg_pct_home',\n",
       "       'ft_pct_home', 'fg3_pct_home', 'ast_home', 'reb_home', 'team_id_away',\n",
       "       'pts_away', 'fg_pct_away', 'ft_pct_away', 'fg3_pct_away', 'ast_away',\n",
       "       'reb_away', 'home_team_wins', 'home', 'away'],\n",
       "      dtype='object')"
      ]
     },
     "execution_count": 15,
     "metadata": {},
     "output_type": "execute_result"
    }
   ],
   "source": [
    "# listando nomes de todas colunas do dataframe games\n",
    "games.columns"
   ]
  },
  {
   "cell_type": "code",
   "execution_count": 16,
   "metadata": {},
   "outputs": [],
   "source": [
    "# Selecionando as variáveis pra continuidade do projeto e renomeando o dataframe pra dfGames\n",
    "dfGames = games[['season', 'home', 'away', \n",
    "                 'fg_pct_home', 'ft_pct_home', 'fg3_pct_home', 'ast_home', 'reb_home', \n",
    "                 'fg_pct_away', 'ft_pct_away', 'fg3_pct_away', 'ast_away', 'reb_away',\n",
    "                 'home_team_wins']]"
   ]
  },
  {
   "cell_type": "code",
   "execution_count": 17,
   "metadata": {},
   "outputs": [
    {
     "data": {
      "text/html": [
       "<div>\n",
       "<style scoped>\n",
       "    .dataframe tbody tr th:only-of-type {\n",
       "        vertical-align: middle;\n",
       "    }\n",
       "\n",
       "    .dataframe tbody tr th {\n",
       "        vertical-align: top;\n",
       "    }\n",
       "\n",
       "    .dataframe thead th {\n",
       "        text-align: right;\n",
       "    }\n",
       "</style>\n",
       "<table border=\"1\" class=\"dataframe\">\n",
       "  <thead>\n",
       "    <tr style=\"text-align: right;\">\n",
       "      <th></th>\n",
       "      <th>season</th>\n",
       "      <th>home</th>\n",
       "      <th>away</th>\n",
       "      <th>fg_pct_home</th>\n",
       "      <th>ft_pct_home</th>\n",
       "      <th>fg3_pct_home</th>\n",
       "      <th>ast_home</th>\n",
       "      <th>reb_home</th>\n",
       "      <th>fg_pct_away</th>\n",
       "      <th>ft_pct_away</th>\n",
       "      <th>fg3_pct_away</th>\n",
       "      <th>ast_away</th>\n",
       "      <th>reb_away</th>\n",
       "      <th>home_team_wins</th>\n",
       "    </tr>\n",
       "  </thead>\n",
       "  <tbody>\n",
       "    <tr>\n",
       "      <th>0</th>\n",
       "      <td>2019</td>\n",
       "      <td>CHA</td>\n",
       "      <td>MIL</td>\n",
       "      <td>0.354</td>\n",
       "      <td>0.900</td>\n",
       "      <td>0.229</td>\n",
       "      <td>22.0</td>\n",
       "      <td>47.0</td>\n",
       "      <td>0.402</td>\n",
       "      <td>0.762</td>\n",
       "      <td>0.226</td>\n",
       "      <td>20.0</td>\n",
       "      <td>61.0</td>\n",
       "      <td>0</td>\n",
       "    </tr>\n",
       "    <tr>\n",
       "      <th>1</th>\n",
       "      <td>2019</td>\n",
       "      <td>MIN</td>\n",
       "      <td>DAL</td>\n",
       "      <td>0.364</td>\n",
       "      <td>0.400</td>\n",
       "      <td>0.310</td>\n",
       "      <td>19.0</td>\n",
       "      <td>57.0</td>\n",
       "      <td>0.468</td>\n",
       "      <td>0.632</td>\n",
       "      <td>0.275</td>\n",
       "      <td>28.0</td>\n",
       "      <td>56.0</td>\n",
       "      <td>0</td>\n",
       "    </tr>\n",
       "    <tr>\n",
       "      <th>2</th>\n",
       "      <td>2019</td>\n",
       "      <td>LAC</td>\n",
       "      <td>PHI</td>\n",
       "      <td>0.592</td>\n",
       "      <td>0.805</td>\n",
       "      <td>0.542</td>\n",
       "      <td>25.0</td>\n",
       "      <td>37.0</td>\n",
       "      <td>0.505</td>\n",
       "      <td>0.650</td>\n",
       "      <td>0.488</td>\n",
       "      <td>27.0</td>\n",
       "      <td>37.0</td>\n",
       "      <td>1</td>\n",
       "    </tr>\n",
       "    <tr>\n",
       "      <th>3</th>\n",
       "      <td>2019</td>\n",
       "      <td>DEN</td>\n",
       "      <td>TOR</td>\n",
       "      <td>0.566</td>\n",
       "      <td>0.700</td>\n",
       "      <td>0.500</td>\n",
       "      <td>38.0</td>\n",
       "      <td>41.0</td>\n",
       "      <td>0.461</td>\n",
       "      <td>0.897</td>\n",
       "      <td>0.263</td>\n",
       "      <td>24.0</td>\n",
       "      <td>36.0</td>\n",
       "      <td>1</td>\n",
       "    </tr>\n",
       "    <tr>\n",
       "      <th>4</th>\n",
       "      <td>2019</td>\n",
       "      <td>SAC</td>\n",
       "      <td>DET</td>\n",
       "      <td>0.407</td>\n",
       "      <td>0.885</td>\n",
       "      <td>0.257</td>\n",
       "      <td>18.0</td>\n",
       "      <td>51.0</td>\n",
       "      <td>0.413</td>\n",
       "      <td>0.667</td>\n",
       "      <td>0.429</td>\n",
       "      <td>23.0</td>\n",
       "      <td>42.0</td>\n",
       "      <td>1</td>\n",
       "    </tr>\n",
       "  </tbody>\n",
       "</table>\n",
       "</div>"
      ],
      "text/plain": [
       "   season home away  fg_pct_home  ft_pct_home  fg3_pct_home  ast_home  \\\n",
       "0    2019  CHA  MIL        0.354        0.900         0.229      22.0   \n",
       "1    2019  MIN  DAL        0.364        0.400         0.310      19.0   \n",
       "2    2019  LAC  PHI        0.592        0.805         0.542      25.0   \n",
       "3    2019  DEN  TOR        0.566        0.700         0.500      38.0   \n",
       "4    2019  SAC  DET        0.407        0.885         0.257      18.0   \n",
       "\n",
       "   reb_home  fg_pct_away  ft_pct_away  fg3_pct_away  ast_away  reb_away  \\\n",
       "0      47.0        0.402        0.762         0.226      20.0      61.0   \n",
       "1      57.0        0.468        0.632         0.275      28.0      56.0   \n",
       "2      37.0        0.505        0.650         0.488      27.0      37.0   \n",
       "3      41.0        0.461        0.897         0.263      24.0      36.0   \n",
       "4      51.0        0.413        0.667         0.429      23.0      42.0   \n",
       "\n",
       "   home_team_wins  \n",
       "0               0  \n",
       "1               0  \n",
       "2               1  \n",
       "3               1  \n",
       "4               1  "
      ]
     },
     "execution_count": 17,
     "metadata": {},
     "output_type": "execute_result"
    }
   ],
   "source": [
    "# Visualizando os primeiros registros do dataframe dfGames (Relatório: Figura 6)\n",
    "dfGames.head()"
   ]
  },
  {
   "cell_type": "code",
   "execution_count": 18,
   "metadata": {},
   "outputs": [
    {
     "name": "stdout",
     "output_type": "stream",
     "text": [
      "Quantidade de registros(linhas) do dataset:  23195\n",
      "Quantidade de registros(linhas) com dados faltantes:\n"
     ]
    },
    {
     "data": {
      "text/plain": [
       "season             0\n",
       "home               0\n",
       "away               0\n",
       "fg_pct_home       99\n",
       "ft_pct_home       99\n",
       "fg3_pct_home      99\n",
       "ast_home          99\n",
       "reb_home          99\n",
       "fg_pct_away       99\n",
       "ft_pct_away       99\n",
       "fg3_pct_away      99\n",
       "ast_away          99\n",
       "reb_away          99\n",
       "home_team_wins     0\n",
       "dtype: int64"
      ]
     },
     "execution_count": 18,
     "metadata": {},
     "output_type": "execute_result"
    }
   ],
   "source": [
    "# Conferindo colunas com dados faltantes (missing) - (Relatório: Figura 7)\n",
    "print('Quantidade de registros(linhas) do dataset: ', dfGames.shape[0])\n",
    "print('Quantidade de registros(linhas) com dados faltantes:')\n",
    "dfGames.isnull().sum()"
   ]
  },
  {
   "cell_type": "markdown",
   "metadata": {},
   "source": [
    "Observamos dados faltantes em 99 registros de uma grande parte dos atributos, justamente aqueles com potencial para serem nossas variáveis preditoras. Apesar da importância dos atributos, a quantidade de registros nesta condição representa menos de 0,5% do total, sendo assim a remoção pouco impactaria o volume de treinamento para os modelos. Dado o exposto, optamos por excluir os registros com dados faltantes."
   ]
  },
  {
   "cell_type": "code",
   "execution_count": 19,
   "metadata": {},
   "outputs": [],
   "source": [
    "# Excluindo registros com dados missing do dataframe dfGames:\n",
    "dfGames = dfGames.dropna()"
   ]
  },
  {
   "cell_type": "code",
   "execution_count": 20,
   "metadata": {},
   "outputs": [
    {
     "name": "stdout",
     "output_type": "stream",
     "text": [
      "Quantidade de registros(linhas) do dataset:  23096\n",
      "Quantidade de registros(linhas) com dados faltantes:\n"
     ]
    },
    {
     "data": {
      "text/plain": [
       "season            0\n",
       "home              0\n",
       "away              0\n",
       "fg_pct_home       0\n",
       "ft_pct_home       0\n",
       "fg3_pct_home      0\n",
       "ast_home          0\n",
       "reb_home          0\n",
       "fg_pct_away       0\n",
       "ft_pct_away       0\n",
       "fg3_pct_away      0\n",
       "ast_away          0\n",
       "reb_away          0\n",
       "home_team_wins    0\n",
       "dtype: int64"
      ]
     },
     "execution_count": 20,
     "metadata": {},
     "output_type": "execute_result"
    }
   ],
   "source": [
    "# Conferindo resultado da limpeza de dados faltantes (missing) - (Relatório: Figura 8)\n",
    "print('Quantidade de registros(linhas) do dataset: ', dfGames.shape[0])\n",
    "print('Quantidade de registros(linhas) com dados faltantes:')\n",
    "dfGames.isnull().sum()"
   ]
  },
  {
   "cell_type": "code",
   "execution_count": 21,
   "metadata": {},
   "outputs": [
    {
     "name": "stdout",
     "output_type": "stream",
     "text": [
      "Quantidade de registros(linhas) do dataset:  23096\n",
      "Quantidade de registros(linhas) duplicados a serem tratados:  0\n"
     ]
    }
   ],
   "source": [
    "# Conferindo se há registros duplicados para serem tratados (Relatório: Figura 9)\n",
    "print('Quantidade de registros(linhas) do dataset: ', dfGames.shape[0])\n",
    "print('Quantidade de registros(linhas) duplicados a serem tratados: ', sum(dfGames.duplicated()))"
   ]
  },
  {
   "cell_type": "markdown",
   "metadata": {},
   "source": [
    "Após os tratamentos iniciais, não observamos registros duplicados.<br>\n",
    "Vamos agora tratar o dataset \"nbags\" que será utilizado para teste dos modelos em uma nova temporada. Voltaremos ao conjunto \"dfGames\" ao longo deste tratamento quando iremos selecionar quais temporadas farão parte dos dados históricos para treinamento e validação.<br>\n",
    "\n",
    "**Tratamento e criação da Base de Previsões**:\n",
    "\n",
    "Em nosso trabalho a Base Histórica não poderá ser dividia em parte de treino e parte de teste como tradicionalmente ocorre em muitos outros projetos. Isso porque como já mencionado em capítulos anteriores, queremos prever os jogos que ainda não ocorreram e utilizar os próprios dados das partidas nas previsões seria como utilizar “dados futuros”.\n",
    "\n",
    "Diante do exposto, recorreremos ao conjunto “nbags” que, como já vimos nas avaliações iniciais, possui os atributos necessários para criarmos a Base de Previsões, que servirá como teste para os modelos.\n",
    "\n",
    "O objetivo é simular a situação que teríamos se estivéssemos vivenciando uma nova temporada da NBA, ou seja, não temos os dados da partida que ainda vai ocorrer. E como faremos isso? A cada rodada, vamos sumarizar os números que as equipes obtiveram durante as partidas já ocorridas e obter os índices acumulados delas até aquele momento. Estes índices acumulados servirão de variáveis para previsão dos resultados da próxima rodada.\n",
    "\n",
    "Parte importante do conhecimento do negócio, sabemos que o desempenho de equipes esportivas tende a ser diferente de quando jogam fora de sua arena, então montaremos esses índices separados de quando as equipes atuam como anfitriãs ou visitantes. Sabemos ainda que as equipes se modificam muito de uma temporada para outra, por isso destacaremos uma única temporada para teste e não utilizaremos números de partidas que ocorreram em uma anterior. Obviamente não teremos previsões para as primeiras rodadas da temporada em simulação por não existir ainda índices para inserir nos modelos.\n",
    "\n",
    "Precisamos então tratar e transformar os dados do conjunto “nbags”, criando a Base de Previsões (ou Base de Testes) segundo os conceitos citados acima e respeitando o mesmo layout da Base Histórica. Mas antes, temos que definir qual temporada será utilizada nas previsões.\n"
   ]
  },
  {
   "cell_type": "code",
   "execution_count": 22,
   "metadata": {},
   "outputs": [
    {
     "data": {
      "text/html": [
       "<div>\n",
       "<style scoped>\n",
       "    .dataframe tbody tr th:only-of-type {\n",
       "        vertical-align: middle;\n",
       "    }\n",
       "\n",
       "    .dataframe tbody tr th {\n",
       "        vertical-align: top;\n",
       "    }\n",
       "\n",
       "    .dataframe thead th {\n",
       "        text-align: right;\n",
       "    }\n",
       "</style>\n",
       "<table border=\"1\" class=\"dataframe\">\n",
       "  <thead>\n",
       "    <tr style=\"text-align: right;\">\n",
       "      <th></th>\n",
       "      <th>unnamed: 0</th>\n",
       "      <th>team</th>\n",
       "      <th>game</th>\n",
       "      <th>date</th>\n",
       "      <th>home</th>\n",
       "      <th>opponent</th>\n",
       "      <th>winorloss</th>\n",
       "      <th>teampoints</th>\n",
       "      <th>opponentpoints</th>\n",
       "      <th>fieldgoals</th>\n",
       "      <th>fieldgoalsattempted</th>\n",
       "      <th>fieldgoals.</th>\n",
       "      <th>x3pointshots</th>\n",
       "      <th>x3pointshotsattempted</th>\n",
       "      <th>x3pointshots.</th>\n",
       "      <th>freethrows</th>\n",
       "      <th>freethrowsattempted</th>\n",
       "      <th>freethrows.</th>\n",
       "      <th>offrebounds</th>\n",
       "      <th>totalrebounds</th>\n",
       "      <th>assists</th>\n",
       "      <th>steals</th>\n",
       "      <th>blocks</th>\n",
       "      <th>turnovers</th>\n",
       "      <th>totalfouls</th>\n",
       "      <th>opp.fieldgoals</th>\n",
       "      <th>opp.fieldgoalsattempted</th>\n",
       "      <th>opp.fieldgoals.</th>\n",
       "      <th>opp.3pointshots</th>\n",
       "      <th>opp.3pointshotsattempted</th>\n",
       "      <th>opp.3pointshots.</th>\n",
       "      <th>opp.freethrows</th>\n",
       "      <th>opp.freethrowsattempted</th>\n",
       "      <th>opp.freethrows.</th>\n",
       "      <th>opp.offrebounds</th>\n",
       "      <th>opp.totalrebounds</th>\n",
       "      <th>opp.assists</th>\n",
       "      <th>opp.steals</th>\n",
       "      <th>opp.blocks</th>\n",
       "      <th>opp.turnovers</th>\n",
       "      <th>opp.totalfouls</th>\n",
       "    </tr>\n",
       "  </thead>\n",
       "  <tbody>\n",
       "    <tr>\n",
       "      <th>0</th>\n",
       "      <td>1</td>\n",
       "      <td>ATL</td>\n",
       "      <td>1</td>\n",
       "      <td>2014-10-29</td>\n",
       "      <td>Away</td>\n",
       "      <td>TOR</td>\n",
       "      <td>L</td>\n",
       "      <td>102</td>\n",
       "      <td>109</td>\n",
       "      <td>40</td>\n",
       "      <td>80</td>\n",
       "      <td>0.500</td>\n",
       "      <td>13</td>\n",
       "      <td>22</td>\n",
       "      <td>0.591</td>\n",
       "      <td>9</td>\n",
       "      <td>17</td>\n",
       "      <td>0.529</td>\n",
       "      <td>10</td>\n",
       "      <td>42</td>\n",
       "      <td>26</td>\n",
       "      <td>6</td>\n",
       "      <td>8</td>\n",
       "      <td>17</td>\n",
       "      <td>24</td>\n",
       "      <td>37</td>\n",
       "      <td>90</td>\n",
       "      <td>0.411</td>\n",
       "      <td>8</td>\n",
       "      <td>26</td>\n",
       "      <td>0.308</td>\n",
       "      <td>27</td>\n",
       "      <td>33</td>\n",
       "      <td>0.818</td>\n",
       "      <td>16</td>\n",
       "      <td>48</td>\n",
       "      <td>26</td>\n",
       "      <td>13</td>\n",
       "      <td>9</td>\n",
       "      <td>9</td>\n",
       "      <td>22</td>\n",
       "    </tr>\n",
       "    <tr>\n",
       "      <th>1</th>\n",
       "      <td>2</td>\n",
       "      <td>ATL</td>\n",
       "      <td>2</td>\n",
       "      <td>2014-11-01</td>\n",
       "      <td>Home</td>\n",
       "      <td>IND</td>\n",
       "      <td>W</td>\n",
       "      <td>102</td>\n",
       "      <td>92</td>\n",
       "      <td>35</td>\n",
       "      <td>69</td>\n",
       "      <td>0.507</td>\n",
       "      <td>7</td>\n",
       "      <td>20</td>\n",
       "      <td>0.350</td>\n",
       "      <td>25</td>\n",
       "      <td>33</td>\n",
       "      <td>0.758</td>\n",
       "      <td>3</td>\n",
       "      <td>37</td>\n",
       "      <td>26</td>\n",
       "      <td>10</td>\n",
       "      <td>6</td>\n",
       "      <td>12</td>\n",
       "      <td>20</td>\n",
       "      <td>31</td>\n",
       "      <td>81</td>\n",
       "      <td>0.383</td>\n",
       "      <td>12</td>\n",
       "      <td>32</td>\n",
       "      <td>0.375</td>\n",
       "      <td>18</td>\n",
       "      <td>21</td>\n",
       "      <td>0.857</td>\n",
       "      <td>11</td>\n",
       "      <td>44</td>\n",
       "      <td>25</td>\n",
       "      <td>5</td>\n",
       "      <td>5</td>\n",
       "      <td>18</td>\n",
       "      <td>26</td>\n",
       "    </tr>\n",
       "    <tr>\n",
       "      <th>2</th>\n",
       "      <td>3</td>\n",
       "      <td>ATL</td>\n",
       "      <td>3</td>\n",
       "      <td>2014-11-05</td>\n",
       "      <td>Away</td>\n",
       "      <td>SAS</td>\n",
       "      <td>L</td>\n",
       "      <td>92</td>\n",
       "      <td>94</td>\n",
       "      <td>38</td>\n",
       "      <td>92</td>\n",
       "      <td>0.413</td>\n",
       "      <td>8</td>\n",
       "      <td>25</td>\n",
       "      <td>0.320</td>\n",
       "      <td>8</td>\n",
       "      <td>11</td>\n",
       "      <td>0.727</td>\n",
       "      <td>10</td>\n",
       "      <td>37</td>\n",
       "      <td>26</td>\n",
       "      <td>14</td>\n",
       "      <td>5</td>\n",
       "      <td>13</td>\n",
       "      <td>25</td>\n",
       "      <td>31</td>\n",
       "      <td>69</td>\n",
       "      <td>0.449</td>\n",
       "      <td>5</td>\n",
       "      <td>17</td>\n",
       "      <td>0.294</td>\n",
       "      <td>27</td>\n",
       "      <td>38</td>\n",
       "      <td>0.711</td>\n",
       "      <td>11</td>\n",
       "      <td>50</td>\n",
       "      <td>25</td>\n",
       "      <td>7</td>\n",
       "      <td>9</td>\n",
       "      <td>19</td>\n",
       "      <td>15</td>\n",
       "    </tr>\n",
       "    <tr>\n",
       "      <th>3</th>\n",
       "      <td>4</td>\n",
       "      <td>ATL</td>\n",
       "      <td>4</td>\n",
       "      <td>2014-11-07</td>\n",
       "      <td>Away</td>\n",
       "      <td>CHO</td>\n",
       "      <td>L</td>\n",
       "      <td>119</td>\n",
       "      <td>122</td>\n",
       "      <td>43</td>\n",
       "      <td>93</td>\n",
       "      <td>0.462</td>\n",
       "      <td>13</td>\n",
       "      <td>33</td>\n",
       "      <td>0.394</td>\n",
       "      <td>20</td>\n",
       "      <td>26</td>\n",
       "      <td>0.769</td>\n",
       "      <td>7</td>\n",
       "      <td>38</td>\n",
       "      <td>28</td>\n",
       "      <td>8</td>\n",
       "      <td>3</td>\n",
       "      <td>19</td>\n",
       "      <td>33</td>\n",
       "      <td>48</td>\n",
       "      <td>97</td>\n",
       "      <td>0.495</td>\n",
       "      <td>6</td>\n",
       "      <td>21</td>\n",
       "      <td>0.286</td>\n",
       "      <td>20</td>\n",
       "      <td>27</td>\n",
       "      <td>0.741</td>\n",
       "      <td>11</td>\n",
       "      <td>51</td>\n",
       "      <td>31</td>\n",
       "      <td>6</td>\n",
       "      <td>7</td>\n",
       "      <td>19</td>\n",
       "      <td>30</td>\n",
       "    </tr>\n",
       "    <tr>\n",
       "      <th>4</th>\n",
       "      <td>5</td>\n",
       "      <td>ATL</td>\n",
       "      <td>5</td>\n",
       "      <td>2014-11-08</td>\n",
       "      <td>Home</td>\n",
       "      <td>NYK</td>\n",
       "      <td>W</td>\n",
       "      <td>103</td>\n",
       "      <td>96</td>\n",
       "      <td>33</td>\n",
       "      <td>81</td>\n",
       "      <td>0.407</td>\n",
       "      <td>9</td>\n",
       "      <td>22</td>\n",
       "      <td>0.409</td>\n",
       "      <td>28</td>\n",
       "      <td>36</td>\n",
       "      <td>0.778</td>\n",
       "      <td>12</td>\n",
       "      <td>41</td>\n",
       "      <td>18</td>\n",
       "      <td>10</td>\n",
       "      <td>5</td>\n",
       "      <td>8</td>\n",
       "      <td>17</td>\n",
       "      <td>40</td>\n",
       "      <td>84</td>\n",
       "      <td>0.476</td>\n",
       "      <td>8</td>\n",
       "      <td>21</td>\n",
       "      <td>0.381</td>\n",
       "      <td>8</td>\n",
       "      <td>11</td>\n",
       "      <td>0.727</td>\n",
       "      <td>13</td>\n",
       "      <td>44</td>\n",
       "      <td>26</td>\n",
       "      <td>2</td>\n",
       "      <td>6</td>\n",
       "      <td>15</td>\n",
       "      <td>29</td>\n",
       "    </tr>\n",
       "  </tbody>\n",
       "</table>\n",
       "</div>"
      ],
      "text/plain": [
       "   unnamed: 0 team  game        date  home opponent winorloss  teampoints  \\\n",
       "0           1  ATL     1  2014-10-29  Away      TOR         L         102   \n",
       "1           2  ATL     2  2014-11-01  Home      IND         W         102   \n",
       "2           3  ATL     3  2014-11-05  Away      SAS         L          92   \n",
       "3           4  ATL     4  2014-11-07  Away      CHO         L         119   \n",
       "4           5  ATL     5  2014-11-08  Home      NYK         W         103   \n",
       "\n",
       "   opponentpoints  fieldgoals  fieldgoalsattempted  fieldgoals.  x3pointshots  \\\n",
       "0             109          40                   80        0.500            13   \n",
       "1              92          35                   69        0.507             7   \n",
       "2              94          38                   92        0.413             8   \n",
       "3             122          43                   93        0.462            13   \n",
       "4              96          33                   81        0.407             9   \n",
       "\n",
       "   x3pointshotsattempted  x3pointshots.  freethrows  freethrowsattempted  \\\n",
       "0                     22          0.591           9                   17   \n",
       "1                     20          0.350          25                   33   \n",
       "2                     25          0.320           8                   11   \n",
       "3                     33          0.394          20                   26   \n",
       "4                     22          0.409          28                   36   \n",
       "\n",
       "   freethrows.  offrebounds  totalrebounds  assists  steals  blocks  \\\n",
       "0        0.529           10             42       26       6       8   \n",
       "1        0.758            3             37       26      10       6   \n",
       "2        0.727           10             37       26      14       5   \n",
       "3        0.769            7             38       28       8       3   \n",
       "4        0.778           12             41       18      10       5   \n",
       "\n",
       "   turnovers  totalfouls  opp.fieldgoals  opp.fieldgoalsattempted  \\\n",
       "0         17          24              37                       90   \n",
       "1         12          20              31                       81   \n",
       "2         13          25              31                       69   \n",
       "3         19          33              48                       97   \n",
       "4          8          17              40                       84   \n",
       "\n",
       "   opp.fieldgoals.  opp.3pointshots  opp.3pointshotsattempted  \\\n",
       "0            0.411                8                        26   \n",
       "1            0.383               12                        32   \n",
       "2            0.449                5                        17   \n",
       "3            0.495                6                        21   \n",
       "4            0.476                8                        21   \n",
       "\n",
       "   opp.3pointshots.  opp.freethrows  opp.freethrowsattempted  opp.freethrows.  \\\n",
       "0             0.308              27                       33            0.818   \n",
       "1             0.375              18                       21            0.857   \n",
       "2             0.294              27                       38            0.711   \n",
       "3             0.286              20                       27            0.741   \n",
       "4             0.381               8                       11            0.727   \n",
       "\n",
       "   opp.offrebounds  opp.totalrebounds  opp.assists  opp.steals  opp.blocks  \\\n",
       "0               16                 48           26          13           9   \n",
       "1               11                 44           25           5           5   \n",
       "2               11                 50           25           7           9   \n",
       "3               11                 51           31           6           7   \n",
       "4               13                 44           26           2           6   \n",
       "\n",
       "   opp.turnovers  opp.totalfouls  \n",
       "0              9              22  \n",
       "1             18              26  \n",
       "2             19              15  \n",
       "3             19              30  \n",
       "4             15              29  "
      ]
     },
     "execution_count": 22,
     "metadata": {},
     "output_type": "execute_result"
    }
   ],
   "source": [
    "# Visualizando mais uma vez os primeiros registros do dataframe nbags\n",
    "nbags.head()"
   ]
  },
  {
   "cell_type": "code",
   "execution_count": 23,
   "metadata": {},
   "outputs": [
    {
     "data": {
      "text/plain": [
       "['2014', '2015', '2016', '2017', '2018']"
      ]
     },
     "execution_count": 23,
     "metadata": {},
     "output_type": "execute_result"
    }
   ],
   "source": [
    "# Utilizando a coluna \"date\" para identificar as datas de jogos (e assim temporadas) estão disponíveis (Relatório: Figura 10)\n",
    "sorted(nbags.date.str[:4].unique())"
   ]
  },
  {
   "cell_type": "markdown",
   "metadata": {},
   "source": [
    "Sabendo que as temporadas da NBA iniciam a partir de setembro e se encerram até junho do ano seguinte, temos a indicação que a temporada completa mais recente no conjunto \"nbags\" seria a de 2017. Para conferir comparamos ao conjunto \"games\", que possui todas as datas dos jogos até 2020, confirmando que a temporada mais recente e completa no conjunto \"nbags\" é de fato a citada inicialmente"
   ]
  },
  {
   "cell_type": "code",
   "execution_count": 24,
   "metadata": {},
   "outputs": [
    {
     "name": "stdout",
     "output_type": "stream",
     "text": [
      "Fim da Temporada 2017: 2018-06-08\n"
     ]
    }
   ],
   "source": [
    "# Verificando data do(s) último(s) jogo(s) da temporada 2017 no dataframe games:\n",
    "end2017 = games['game_date_est'][(games.season == 2017)].max()\n",
    "print('Fim da Temporada 2017: {}'.format(end2017))"
   ]
  },
  {
   "cell_type": "code",
   "execution_count": 25,
   "metadata": {},
   "outputs": [
    {
     "data": {
      "text/plain": [
       "'2018-04-11'"
      ]
     },
     "execution_count": 25,
     "metadata": {},
     "output_type": "execute_result"
    }
   ],
   "source": [
    "# Verificando data do(s) último(s) jogo(s) de 2018 no dataframe nbags:\n",
    "nbags[(nbags.date >= \"2018-01-01\")].date.max()"
   ]
  },
  {
   "cell_type": "markdown",
   "metadata": {},
   "source": [
    "Sendo a data máxima 11/04/2018, identificamos que de fato a última temporada no dataframe \"nbags\" é 2017.<br>\n",
    "Nota-se que no dataframe \"games\" temos mais datas, sendo assim mais jogos. Isso ocorre porque no neste dataframe temos as datas de jogos dos \"playoffs\" enquanto no dataset \"nbags\" ao que tudo indica possui somente os jogos da temporada regular. Isso não interfere no nosso objetivo de testar o modelo em jogos futuros, mesmo assim podemos ratificar ao contar quantos jogos cada equipe fez em sua arena (a quantidade deve ser igual para todos se estivermos falando somente da temporada regular)."
   ]
  },
  {
   "cell_type": "code",
   "execution_count": 26,
   "metadata": {},
   "outputs": [
    {
     "data": {
      "text/plain": [
       "team\n",
       "ATL    82\n",
       "BOS    82\n",
       "BRK    82\n",
       "CHI    82\n",
       "CHO    82\n",
       "CLE    82\n",
       "DAL    82\n",
       "DEN    82\n",
       "DET    82\n",
       "GSW    82\n",
       "HOU    82\n",
       "IND    82\n",
       "LAC    82\n",
       "LAL    82\n",
       "MEM    82\n",
       "MIA    82\n",
       "MIL    82\n",
       "MIN    82\n",
       "NOP    82\n",
       "NYK    82\n",
       "OKC    82\n",
       "ORL    82\n",
       "PHI    82\n",
       "PHO    82\n",
       "POR    82\n",
       "SAC    82\n",
       "SAS    82\n",
       "TOR    82\n",
       "UTA    82\n",
       "WAS    82\n",
       "Name: team, dtype: int64"
      ]
     },
     "execution_count": 26,
     "metadata": {},
     "output_type": "execute_result"
    }
   ],
   "source": [
    "nbags[(nbags.date >= \"2017-07-01\")].groupby(\"team\")[\"team\"].count()"
   ]
  },
  {
   "cell_type": "markdown",
   "metadata": {},
   "source": [
    "Confirmação feita, vamos destacar a temporada 2017 do dataframe \"nbags\", identificando a data mínima e máxima ainda com o auxílio do dataframe \"games\""
   ]
  },
  {
   "cell_type": "code",
   "execution_count": 27,
   "metadata": {},
   "outputs": [
    {
     "name": "stdout",
     "output_type": "stream",
     "text": [
      "Inicio da Temporada 2017: 2017-09-30\n",
      "Fim da Temporada 2017: 2018-06-08\n"
     ]
    }
   ],
   "source": [
    "# Verificando data do(s) primeiro(s) e último(s) jogo(s) da temporada 201 no dataframe games:\n",
    "start2017 = games['game_date_est'][(games.season == 2017)].min()\n",
    "end2017 = games['game_date_est'][(games.season == 2017)].max()\n",
    "\n",
    "print('Inicio da Temporada 2017: {}'.format(start2017))\n",
    "print('Fim da Temporada 2017: {}'.format(end2017))"
   ]
  },
  {
   "cell_type": "code",
   "execution_count": 28,
   "metadata": {},
   "outputs": [
    {
     "name": "stdout",
     "output_type": "stream",
     "text": [
      "2017-10-17\n",
      "2018-04-11\n"
     ]
    },
    {
     "data": {
      "text/plain": [
       "home\n",
       "Away    1230\n",
       "Home    1230\n",
       "Name: game, dtype: int64"
      ]
     },
     "execution_count": 28,
     "metadata": {},
     "output_type": "execute_result"
    }
   ],
   "source": [
    "# Destacando temporada 2017 do dataframe nbags, criando o dataframe stats2017, conferindo datas e volume\n",
    "stats2017 = nbags[(nbags.date >= start2017) & (nbags.date <= end2017)]\n",
    "print(stats2017.date.min())\n",
    "print(stats2017.date.max())\n",
    "stats2017.groupby('home')['game'].count()"
   ]
  },
  {
   "cell_type": "code",
   "execution_count": 29,
   "metadata": {},
   "outputs": [],
   "source": [
    "# Criando a coluna season\n",
    "stats2017[\"season\"] = \"2017\""
   ]
  },
  {
   "cell_type": "markdown",
   "metadata": {},
   "source": [
    "Filtrado o conjunto que agora contém apenas a temporada 2017, é importante destacar como os registros se comportam diferente entre as bases. Na Base histórica, uma única partida é um único registro contendo os atributos de equipes anfitriãs e visitantes. Já na Base de Testes um único jogo é registrado duas vezes, apenas alternando as equipes anfitriã e visitante. Podemos entender melhor o comportamento visualizando os registros de uma mesma partida nos dois conjuntos."
   ]
  },
  {
   "cell_type": "code",
   "execution_count": 30,
   "metadata": {},
   "outputs": [
    {
     "data": {
      "text/html": [
       "<div>\n",
       "<style scoped>\n",
       "    .dataframe tbody tr th:only-of-type {\n",
       "        vertical-align: middle;\n",
       "    }\n",
       "\n",
       "    .dataframe tbody tr th {\n",
       "        vertical-align: top;\n",
       "    }\n",
       "\n",
       "    .dataframe thead th {\n",
       "        text-align: right;\n",
       "    }\n",
       "</style>\n",
       "<table border=\"1\" class=\"dataframe\">\n",
       "  <thead>\n",
       "    <tr style=\"text-align: right;\">\n",
       "      <th></th>\n",
       "      <th>home</th>\n",
       "      <th>game_date_est</th>\n",
       "      <th>away</th>\n",
       "      <th>home_team_wins</th>\n",
       "      <th>pts_home</th>\n",
       "      <th>pts_away</th>\n",
       "    </tr>\n",
       "  </thead>\n",
       "  <tbody>\n",
       "    <tr>\n",
       "      <th>18879</th>\n",
       "      <td>DAL</td>\n",
       "      <td>2017-10-18</td>\n",
       "      <td>ATL</td>\n",
       "      <td>0</td>\n",
       "      <td>111.0</td>\n",
       "      <td>117.0</td>\n",
       "    </tr>\n",
       "  </tbody>\n",
       "</table>\n",
       "</div>"
      ],
      "text/plain": [
       "      home game_date_est away  home_team_wins  pts_home  pts_away\n",
       "18879  DAL    2017-10-18  ATL               0     111.0     117.0"
      ]
     },
     "execution_count": 30,
     "metadata": {},
     "output_type": "execute_result"
    }
   ],
   "source": [
    "# Confirmando registro único de partida em games (Relatório: Figura 11)\n",
    "games[(games.game_date_est == \"2017-10-18\") & (games.home.isin([\"ATL\",\"DAL\"]))] \\\n",
    ".loc[:,[\"home\", \"game_date_est\", \"away\", \"home_team_wins\", \"pts_home\", \"pts_away\"]]"
   ]
  },
  {
   "cell_type": "code",
   "execution_count": 31,
   "metadata": {},
   "outputs": [
    {
     "data": {
      "text/html": [
       "<div>\n",
       "<style scoped>\n",
       "    .dataframe tbody tr th:only-of-type {\n",
       "        vertical-align: middle;\n",
       "    }\n",
       "\n",
       "    .dataframe tbody tr th {\n",
       "        vertical-align: top;\n",
       "    }\n",
       "\n",
       "    .dataframe thead th {\n",
       "        text-align: right;\n",
       "    }\n",
       "</style>\n",
       "<table border=\"1\" class=\"dataframe\">\n",
       "  <thead>\n",
       "    <tr style=\"text-align: right;\">\n",
       "      <th></th>\n",
       "      <th>team</th>\n",
       "      <th>game</th>\n",
       "      <th>date</th>\n",
       "      <th>home</th>\n",
       "      <th>opponent</th>\n",
       "      <th>winorloss</th>\n",
       "      <th>teampoints</th>\n",
       "      <th>opponentpoints</th>\n",
       "    </tr>\n",
       "  </thead>\n",
       "  <tbody>\n",
       "    <tr>\n",
       "      <th>7380</th>\n",
       "      <td>ATL</td>\n",
       "      <td>1</td>\n",
       "      <td>2017-10-18</td>\n",
       "      <td>Away</td>\n",
       "      <td>DAL</td>\n",
       "      <td>W</td>\n",
       "      <td>117</td>\n",
       "      <td>111</td>\n",
       "    </tr>\n",
       "    <tr>\n",
       "      <th>7872</th>\n",
       "      <td>DAL</td>\n",
       "      <td>1</td>\n",
       "      <td>2017-10-18</td>\n",
       "      <td>Home</td>\n",
       "      <td>ATL</td>\n",
       "      <td>L</td>\n",
       "      <td>111</td>\n",
       "      <td>117</td>\n",
       "    </tr>\n",
       "  </tbody>\n",
       "</table>\n",
       "</div>"
      ],
      "text/plain": [
       "     team  game        date  home opponent winorloss  teampoints  \\\n",
       "7380  ATL     1  2017-10-18  Away      DAL         W         117   \n",
       "7872  DAL     1  2017-10-18  Home      ATL         L         111   \n",
       "\n",
       "      opponentpoints  \n",
       "7380             111  \n",
       "7872             117  "
      ]
     },
     "execution_count": 31,
     "metadata": {},
     "output_type": "execute_result"
    }
   ],
   "source": [
    "# Confirmando duplicidade de partidas em stats2017 (Relatório: Figura 12)\n",
    "stats2017[(stats2017.date == \"2017-10-18\") & (stats2017.team.isin([\"ATL\",\"DAL\"]))].iloc[:,1:9]"
   ]
  },
  {
   "cell_type": "code",
   "execution_count": 32,
   "metadata": {},
   "outputs": [
    {
     "name": "stdout",
     "output_type": "stream",
     "text": [
      "Quantidade de registros(linhas) do dataset:  2460\n",
      "Quantidade de registros(linhas) duplicados a serem tratados:  0\n"
     ]
    }
   ],
   "source": [
    "# Conferindo se há registros duplicados para serem tratados (Relatório: Figura 13)\n",
    "print('Quantidade de registros(linhas) do dataset: ', stats2017.shape[0])\n",
    "print('Quantidade de registros(linhas) duplicados a serem tratados: ', sum(stats2017.duplicated()))"
   ]
  },
  {
   "cell_type": "markdown",
   "metadata": {},
   "source": [
    "A diferença nos registros não impede a continuidade, mas precisaremos tratar corretamente a Base de Previsões para não duplicar jogos da temporada. Antes de continuarmos com os tratamentos, aproveitamos para confirmar que, mesmo com a condição visualizada acima, não há registros duplicados."
   ]
  },
  {
   "cell_type": "code",
   "execution_count": 33,
   "metadata": {},
   "outputs": [
    {
     "name": "stdout",
     "output_type": "stream",
     "text": [
      "Quantidade de registros(linhas) do dataset:  2460\n",
      "Quantidade de registros(linhas) com dados faltantes:\n"
     ]
    },
    {
     "data": {
      "text/plain": [
       "unnamed: 0                  0\n",
       "team                        0\n",
       "game                        0\n",
       "date                        0\n",
       "home                        0\n",
       "opponent                    0\n",
       "winorloss                   0\n",
       "teampoints                  0\n",
       "opponentpoints              0\n",
       "fieldgoals                  0\n",
       "fieldgoalsattempted         0\n",
       "fieldgoals.                 0\n",
       "x3pointshots                0\n",
       "x3pointshotsattempted       0\n",
       "x3pointshots.               0\n",
       "freethrows                  0\n",
       "freethrowsattempted         0\n",
       "freethrows.                 0\n",
       "offrebounds                 0\n",
       "totalrebounds               0\n",
       "assists                     0\n",
       "steals                      0\n",
       "blocks                      0\n",
       "turnovers                   0\n",
       "totalfouls                  0\n",
       "opp.fieldgoals              0\n",
       "opp.fieldgoalsattempted     0\n",
       "opp.fieldgoals.             0\n",
       "opp.3pointshots             0\n",
       "opp.3pointshotsattempted    0\n",
       "opp.3pointshots.            0\n",
       "opp.freethrows              0\n",
       "opp.freethrowsattempted     0\n",
       "opp.freethrows.             0\n",
       "opp.offrebounds             0\n",
       "opp.totalrebounds           0\n",
       "opp.assists                 0\n",
       "opp.steals                  0\n",
       "opp.blocks                  0\n",
       "opp.turnovers               0\n",
       "opp.totalfouls              0\n",
       "season                      0\n",
       "dtype: int64"
      ]
     },
     "execution_count": 33,
     "metadata": {},
     "output_type": "execute_result"
    }
   ],
   "source": [
    "# Conferindo se existem dados faltantes (missing) - (Relatório: Figura 14)\n",
    "print('Quantidade de registros(linhas) do dataset: ', stats2017.shape[0])\n",
    "print('Quantidade de registros(linhas) com dados faltantes:')\n",
    "stats2017.isnull().sum()"
   ]
  },
  {
   "cell_type": "markdown",
   "metadata": {},
   "source": [
    "Confirmamos ainda que não existem dados faltantes no conjunto em tratamento.\n",
    "Seguimos para a seleção das variáveis, separação, transformação e por fim recombinar os conjuntos."
   ]
  },
  {
   "cell_type": "code",
   "execution_count": 34,
   "metadata": {},
   "outputs": [
    {
     "data": {
      "text/plain": [
       "Index(['unnamed: 0', 'team', 'game', 'date', 'home', 'opponent', 'winorloss',\n",
       "       'teampoints', 'opponentpoints', 'fieldgoals', 'fieldgoalsattempted',\n",
       "       'fieldgoals.', 'x3pointshots', 'x3pointshotsattempted', 'x3pointshots.',\n",
       "       'freethrows', 'freethrowsattempted', 'freethrows.', 'offrebounds',\n",
       "       'totalrebounds', 'assists', 'steals', 'blocks', 'turnovers',\n",
       "       'totalfouls', 'opp.fieldgoals', 'opp.fieldgoalsattempted',\n",
       "       'opp.fieldgoals.', 'opp.3pointshots', 'opp.3pointshotsattempted',\n",
       "       'opp.3pointshots.', 'opp.freethrows', 'opp.freethrowsattempted',\n",
       "       'opp.freethrows.', 'opp.offrebounds', 'opp.totalrebounds',\n",
       "       'opp.assists', 'opp.steals', 'opp.blocks', 'opp.turnovers',\n",
       "       'opp.totalfouls', 'season'],\n",
       "      dtype='object')"
      ]
     },
     "execution_count": 34,
     "metadata": {},
     "output_type": "execute_result"
    }
   ],
   "source": [
    "# Visualizando os nomes das variáveis do dataframe stats2017\n",
    "stats2017.columns"
   ]
  },
  {
   "cell_type": "code",
   "execution_count": 35,
   "metadata": {},
   "outputs": [],
   "source": [
    "# Selecionando as colunas\n",
    "mainColumns = ['season', 'date', 'team', 'opponent', 'winorloss']\n",
    "indxColumns = ['team', 'date', 'home', 'fieldgoals', 'fieldgoalsattempted', 'freethrows', 'freethrowsattempted',\n",
    "               'x3pointshots', 'x3pointshotsattempted', 'assists', 'totalrebounds']"
   ]
  },
  {
   "cell_type": "code",
   "execution_count": 36,
   "metadata": {},
   "outputs": [],
   "source": [
    "# Filtrando os dataframes principal (base) e auxiliares (índices)\n",
    "main2017 = stats2017[(stats2017.home == \"Home\")].loc[:, mainColumns]\n",
    "home2017 = stats2017[(stats2017.home == \"Home\")].loc[:, indxColumns]\n",
    "away2017 = stats2017[(stats2017.home == \"Away\")].loc[:, indxColumns]"
   ]
  },
  {
   "cell_type": "code",
   "execution_count": 37,
   "metadata": {},
   "outputs": [],
   "source": [
    "# Ordenando os conjuntos e reiniciando os indexadores\n",
    "main2017 = main2017.sort_values(['team', 'date']).reset_index(drop=True)\n",
    "home2017 = home2017.sort_values(['team', 'date']).reset_index(drop=True)\n",
    "away2017 = away2017.sort_values(['team', 'date']).reset_index(drop=True)"
   ]
  },
  {
   "cell_type": "markdown",
   "metadata": {},
   "source": [
    "Com a ausência de dados duplicados ou faltantes, selecionamos os atributos de interesse tal qual fizemos na Base Histórica e continuamos a transformação dividindo o conjunto em três partes. Na primeira, manteremos os dados de identificação das equipes, das partidas e a variável resposta, filtrando apenas os jogos em que a equipe é anfitriã, sendo seu oponente a equipe visitante (assim evitamos a duplicidade de registro de uma mesma partida que verificamos anteriormente). Este subconjunto recebera no final do tratamento os índices acumulados das equipes já calculados."
   ]
  },
  {
   "cell_type": "code",
   "execution_count": 38,
   "metadata": {},
   "outputs": [
    {
     "data": {
      "text/html": [
       "<div>\n",
       "<style scoped>\n",
       "    .dataframe tbody tr th:only-of-type {\n",
       "        vertical-align: middle;\n",
       "    }\n",
       "\n",
       "    .dataframe tbody tr th {\n",
       "        vertical-align: top;\n",
       "    }\n",
       "\n",
       "    .dataframe thead th {\n",
       "        text-align: right;\n",
       "    }\n",
       "</style>\n",
       "<table border=\"1\" class=\"dataframe\">\n",
       "  <thead>\n",
       "    <tr style=\"text-align: right;\">\n",
       "      <th></th>\n",
       "      <th>season</th>\n",
       "      <th>date</th>\n",
       "      <th>team</th>\n",
       "      <th>opponent</th>\n",
       "      <th>winorloss</th>\n",
       "    </tr>\n",
       "  </thead>\n",
       "  <tbody>\n",
       "    <tr>\n",
       "      <th>0</th>\n",
       "      <td>2017</td>\n",
       "      <td>2017-10-27</td>\n",
       "      <td>ATL</td>\n",
       "      <td>DEN</td>\n",
       "      <td>L</td>\n",
       "    </tr>\n",
       "    <tr>\n",
       "      <th>1</th>\n",
       "      <td>2017</td>\n",
       "      <td>2017-10-29</td>\n",
       "      <td>ATL</td>\n",
       "      <td>MIL</td>\n",
       "      <td>L</td>\n",
       "    </tr>\n",
       "    <tr>\n",
       "      <th>2</th>\n",
       "      <td>2017</td>\n",
       "      <td>2017-11-03</td>\n",
       "      <td>ATL</td>\n",
       "      <td>HOU</td>\n",
       "      <td>L</td>\n",
       "    </tr>\n",
       "    <tr>\n",
       "      <th>3</th>\n",
       "      <td>2017</td>\n",
       "      <td>2017-11-06</td>\n",
       "      <td>ATL</td>\n",
       "      <td>BOS</td>\n",
       "      <td>L</td>\n",
       "    </tr>\n",
       "    <tr>\n",
       "      <th>4</th>\n",
       "      <td>2017</td>\n",
       "      <td>2017-11-15</td>\n",
       "      <td>ATL</td>\n",
       "      <td>SAC</td>\n",
       "      <td>W</td>\n",
       "    </tr>\n",
       "  </tbody>\n",
       "</table>\n",
       "</div>"
      ],
      "text/plain": [
       "  season        date team opponent winorloss\n",
       "0   2017  2017-10-27  ATL      DEN         L\n",
       "1   2017  2017-10-29  ATL      MIL         L\n",
       "2   2017  2017-11-03  ATL      HOU         L\n",
       "3   2017  2017-11-06  ATL      BOS         L\n",
       "4   2017  2017-11-15  ATL      SAC         W"
      ]
     },
     "execution_count": 38,
     "metadata": {},
     "output_type": "execute_result"
    }
   ],
   "source": [
    "# Visualizando primeiros registros do dataframe main2017 (Relatório: Figura 15)\n",
    "main2017.head()"
   ]
  },
  {
   "cell_type": "code",
   "execution_count": 39,
   "metadata": {},
   "outputs": [
    {
     "data": {
      "text/html": [
       "<div>\n",
       "<style scoped>\n",
       "    .dataframe tbody tr th:only-of-type {\n",
       "        vertical-align: middle;\n",
       "    }\n",
       "\n",
       "    .dataframe tbody tr th {\n",
       "        vertical-align: top;\n",
       "    }\n",
       "\n",
       "    .dataframe thead th {\n",
       "        text-align: right;\n",
       "    }\n",
       "</style>\n",
       "<table border=\"1\" class=\"dataframe\">\n",
       "  <thead>\n",
       "    <tr style=\"text-align: right;\">\n",
       "      <th></th>\n",
       "      <th>team</th>\n",
       "      <th>date</th>\n",
       "      <th>home</th>\n",
       "      <th>fieldgoals</th>\n",
       "      <th>fieldgoalsattempted</th>\n",
       "      <th>freethrows</th>\n",
       "      <th>freethrowsattempted</th>\n",
       "      <th>x3pointshots</th>\n",
       "      <th>x3pointshotsattempted</th>\n",
       "      <th>assists</th>\n",
       "      <th>totalrebounds</th>\n",
       "    </tr>\n",
       "  </thead>\n",
       "  <tbody>\n",
       "    <tr>\n",
       "      <th>0</th>\n",
       "      <td>ATL</td>\n",
       "      <td>2017-10-27</td>\n",
       "      <td>Home</td>\n",
       "      <td>37</td>\n",
       "      <td>89</td>\n",
       "      <td>12</td>\n",
       "      <td>12</td>\n",
       "      <td>14</td>\n",
       "      <td>33</td>\n",
       "      <td>23</td>\n",
       "      <td>43</td>\n",
       "    </tr>\n",
       "    <tr>\n",
       "      <th>1</th>\n",
       "      <td>ATL</td>\n",
       "      <td>2017-10-29</td>\n",
       "      <td>Home</td>\n",
       "      <td>36</td>\n",
       "      <td>77</td>\n",
       "      <td>21</td>\n",
       "      <td>26</td>\n",
       "      <td>13</td>\n",
       "      <td>29</td>\n",
       "      <td>27</td>\n",
       "      <td>31</td>\n",
       "    </tr>\n",
       "    <tr>\n",
       "      <th>2</th>\n",
       "      <td>ATL</td>\n",
       "      <td>2017-11-03</td>\n",
       "      <td>Home</td>\n",
       "      <td>39</td>\n",
       "      <td>81</td>\n",
       "      <td>15</td>\n",
       "      <td>18</td>\n",
       "      <td>11</td>\n",
       "      <td>33</td>\n",
       "      <td>16</td>\n",
       "      <td>41</td>\n",
       "    </tr>\n",
       "    <tr>\n",
       "      <th>3</th>\n",
       "      <td>ATL</td>\n",
       "      <td>2017-11-06</td>\n",
       "      <td>Home</td>\n",
       "      <td>39</td>\n",
       "      <td>81</td>\n",
       "      <td>16</td>\n",
       "      <td>20</td>\n",
       "      <td>13</td>\n",
       "      <td>26</td>\n",
       "      <td>24</td>\n",
       "      <td>36</td>\n",
       "    </tr>\n",
       "    <tr>\n",
       "      <th>4</th>\n",
       "      <td>ATL</td>\n",
       "      <td>2017-11-15</td>\n",
       "      <td>Home</td>\n",
       "      <td>50</td>\n",
       "      <td>79</td>\n",
       "      <td>10</td>\n",
       "      <td>16</td>\n",
       "      <td>16</td>\n",
       "      <td>32</td>\n",
       "      <td>40</td>\n",
       "      <td>53</td>\n",
       "    </tr>\n",
       "  </tbody>\n",
       "</table>\n",
       "</div>"
      ],
      "text/plain": [
       "  team        date  home  fieldgoals  fieldgoalsattempted  freethrows  \\\n",
       "0  ATL  2017-10-27  Home          37                   89          12   \n",
       "1  ATL  2017-10-29  Home          36                   77          21   \n",
       "2  ATL  2017-11-03  Home          39                   81          15   \n",
       "3  ATL  2017-11-06  Home          39                   81          16   \n",
       "4  ATL  2017-11-15  Home          50                   79          10   \n",
       "\n",
       "   freethrowsattempted  x3pointshots  x3pointshotsattempted  assists  \\\n",
       "0                   12            14                     33       23   \n",
       "1                   26            13                     29       27   \n",
       "2                   18            11                     33       16   \n",
       "3                   20            13                     26       24   \n",
       "4                   16            16                     32       40   \n",
       "\n",
       "   totalrebounds  \n",
       "0             43  \n",
       "1             31  \n",
       "2             41  \n",
       "3             36  \n",
       "4             53  "
      ]
     },
     "execution_count": 39,
     "metadata": {},
     "output_type": "execute_result"
    }
   ],
   "source": [
    "# Visualizando primeiros registros do dataframe home2017 (Relatório: Figura 16)\n",
    "home2017.head()"
   ]
  },
  {
   "cell_type": "code",
   "execution_count": 40,
   "metadata": {},
   "outputs": [
    {
     "data": {
      "text/html": [
       "<div>\n",
       "<style scoped>\n",
       "    .dataframe tbody tr th:only-of-type {\n",
       "        vertical-align: middle;\n",
       "    }\n",
       "\n",
       "    .dataframe tbody tr th {\n",
       "        vertical-align: top;\n",
       "    }\n",
       "\n",
       "    .dataframe thead th {\n",
       "        text-align: right;\n",
       "    }\n",
       "</style>\n",
       "<table border=\"1\" class=\"dataframe\">\n",
       "  <thead>\n",
       "    <tr style=\"text-align: right;\">\n",
       "      <th></th>\n",
       "      <th>team</th>\n",
       "      <th>date</th>\n",
       "      <th>home</th>\n",
       "      <th>fieldgoals</th>\n",
       "      <th>fieldgoalsattempted</th>\n",
       "      <th>freethrows</th>\n",
       "      <th>freethrowsattempted</th>\n",
       "      <th>x3pointshots</th>\n",
       "      <th>x3pointshotsattempted</th>\n",
       "      <th>assists</th>\n",
       "      <th>totalrebounds</th>\n",
       "    </tr>\n",
       "  </thead>\n",
       "  <tbody>\n",
       "    <tr>\n",
       "      <th>0</th>\n",
       "      <td>ATL</td>\n",
       "      <td>2017-10-18</td>\n",
       "      <td>Away</td>\n",
       "      <td>48</td>\n",
       "      <td>94</td>\n",
       "      <td>12</td>\n",
       "      <td>15</td>\n",
       "      <td>9</td>\n",
       "      <td>18</td>\n",
       "      <td>20</td>\n",
       "      <td>50</td>\n",
       "    </tr>\n",
       "    <tr>\n",
       "      <th>1</th>\n",
       "      <td>ATL</td>\n",
       "      <td>2017-10-20</td>\n",
       "      <td>Away</td>\n",
       "      <td>36</td>\n",
       "      <td>95</td>\n",
       "      <td>12</td>\n",
       "      <td>14</td>\n",
       "      <td>7</td>\n",
       "      <td>30</td>\n",
       "      <td>19</td>\n",
       "      <td>38</td>\n",
       "    </tr>\n",
       "    <tr>\n",
       "      <th>2</th>\n",
       "      <td>ATL</td>\n",
       "      <td>2017-10-22</td>\n",
       "      <td>Away</td>\n",
       "      <td>32</td>\n",
       "      <td>94</td>\n",
       "      <td>33</td>\n",
       "      <td>36</td>\n",
       "      <td>7</td>\n",
       "      <td>27</td>\n",
       "      <td>21</td>\n",
       "      <td>48</td>\n",
       "    </tr>\n",
       "    <tr>\n",
       "      <th>3</th>\n",
       "      <td>ATL</td>\n",
       "      <td>2017-10-23</td>\n",
       "      <td>Away</td>\n",
       "      <td>36</td>\n",
       "      <td>76</td>\n",
       "      <td>14</td>\n",
       "      <td>18</td>\n",
       "      <td>7</td>\n",
       "      <td>17</td>\n",
       "      <td>14</td>\n",
       "      <td>41</td>\n",
       "    </tr>\n",
       "    <tr>\n",
       "      <th>4</th>\n",
       "      <td>ATL</td>\n",
       "      <td>2017-10-26</td>\n",
       "      <td>Away</td>\n",
       "      <td>32</td>\n",
       "      <td>81</td>\n",
       "      <td>11</td>\n",
       "      <td>13</td>\n",
       "      <td>11</td>\n",
       "      <td>28</td>\n",
       "      <td>22</td>\n",
       "      <td>40</td>\n",
       "    </tr>\n",
       "  </tbody>\n",
       "</table>\n",
       "</div>"
      ],
      "text/plain": [
       "  team        date  home  fieldgoals  fieldgoalsattempted  freethrows  \\\n",
       "0  ATL  2017-10-18  Away          48                   94          12   \n",
       "1  ATL  2017-10-20  Away          36                   95          12   \n",
       "2  ATL  2017-10-22  Away          32                   94          33   \n",
       "3  ATL  2017-10-23  Away          36                   76          14   \n",
       "4  ATL  2017-10-26  Away          32                   81          11   \n",
       "\n",
       "   freethrowsattempted  x3pointshots  x3pointshotsattempted  assists  \\\n",
       "0                   15             9                     18       20   \n",
       "1                   14             7                     30       19   \n",
       "2                   36             7                     27       21   \n",
       "3                   18             7                     17       14   \n",
       "4                   13            11                     28       22   \n",
       "\n",
       "   totalrebounds  \n",
       "0             50  \n",
       "1             38  \n",
       "2             48  \n",
       "3             41  \n",
       "4             40  "
      ]
     },
     "execution_count": 40,
     "metadata": {},
     "output_type": "execute_result"
    }
   ],
   "source": [
    "# Visualizando primeiros registros do dataframe away2017 (Relatório: Figura 17)\n",
    "away2017.head()"
   ]
  },
  {
   "cell_type": "markdown",
   "metadata": {},
   "source": [
    "A partir daqui iniciamos uma engenharia nos atributos, onde vamos de fato transformar o conteúdo conforme o conceito desejado. Primeiro, criaremos uma variável auxiliar chamada “game” nos subconjuntos 2 e 3, identificando a partir da chave formada pelo agrupamento dos atributos “team” e “date” ordenados, o número do jogo de cada equipe como anfitriã e visitante. Tecnicamente estamos criando partições que guiarão os cálculos e posteriormente a junção dos subconjuntos."
   ]
  },
  {
   "cell_type": "code",
   "execution_count": 41,
   "metadata": {},
   "outputs": [],
   "source": [
    "# Criando partições\n",
    "home2017 = home2017.assign(game=home2017.groupby(['team']).cumcount() + 1)\n",
    "away2017 = away2017.assign(game=away2017.groupby(['team']).cumcount() + 1)"
   ]
  },
  {
   "cell_type": "code",
   "execution_count": 42,
   "metadata": {},
   "outputs": [
    {
     "data": {
      "text/html": [
       "<div>\n",
       "<style scoped>\n",
       "    .dataframe tbody tr th:only-of-type {\n",
       "        vertical-align: middle;\n",
       "    }\n",
       "\n",
       "    .dataframe tbody tr th {\n",
       "        vertical-align: top;\n",
       "    }\n",
       "\n",
       "    .dataframe thead th {\n",
       "        text-align: right;\n",
       "    }\n",
       "</style>\n",
       "<table border=\"1\" class=\"dataframe\">\n",
       "  <thead>\n",
       "    <tr style=\"text-align: right;\">\n",
       "      <th></th>\n",
       "      <th>team</th>\n",
       "      <th>date</th>\n",
       "      <th>home</th>\n",
       "      <th>fieldgoals</th>\n",
       "      <th>fieldgoalsattempted</th>\n",
       "      <th>freethrows</th>\n",
       "      <th>freethrowsattempted</th>\n",
       "      <th>x3pointshots</th>\n",
       "      <th>x3pointshotsattempted</th>\n",
       "      <th>assists</th>\n",
       "      <th>totalrebounds</th>\n",
       "      <th>game</th>\n",
       "    </tr>\n",
       "  </thead>\n",
       "  <tbody>\n",
       "    <tr>\n",
       "      <th>0</th>\n",
       "      <td>ATL</td>\n",
       "      <td>2017-10-18</td>\n",
       "      <td>Away</td>\n",
       "      <td>48</td>\n",
       "      <td>94</td>\n",
       "      <td>12</td>\n",
       "      <td>15</td>\n",
       "      <td>9</td>\n",
       "      <td>18</td>\n",
       "      <td>20</td>\n",
       "      <td>50</td>\n",
       "      <td>1</td>\n",
       "    </tr>\n",
       "    <tr>\n",
       "      <th>1</th>\n",
       "      <td>ATL</td>\n",
       "      <td>2017-10-20</td>\n",
       "      <td>Away</td>\n",
       "      <td>36</td>\n",
       "      <td>95</td>\n",
       "      <td>12</td>\n",
       "      <td>14</td>\n",
       "      <td>7</td>\n",
       "      <td>30</td>\n",
       "      <td>19</td>\n",
       "      <td>38</td>\n",
       "      <td>2</td>\n",
       "    </tr>\n",
       "    <tr>\n",
       "      <th>2</th>\n",
       "      <td>ATL</td>\n",
       "      <td>2017-10-22</td>\n",
       "      <td>Away</td>\n",
       "      <td>32</td>\n",
       "      <td>94</td>\n",
       "      <td>33</td>\n",
       "      <td>36</td>\n",
       "      <td>7</td>\n",
       "      <td>27</td>\n",
       "      <td>21</td>\n",
       "      <td>48</td>\n",
       "      <td>3</td>\n",
       "    </tr>\n",
       "    <tr>\n",
       "      <th>3</th>\n",
       "      <td>ATL</td>\n",
       "      <td>2017-10-23</td>\n",
       "      <td>Away</td>\n",
       "      <td>36</td>\n",
       "      <td>76</td>\n",
       "      <td>14</td>\n",
       "      <td>18</td>\n",
       "      <td>7</td>\n",
       "      <td>17</td>\n",
       "      <td>14</td>\n",
       "      <td>41</td>\n",
       "      <td>4</td>\n",
       "    </tr>\n",
       "    <tr>\n",
       "      <th>4</th>\n",
       "      <td>ATL</td>\n",
       "      <td>2017-10-26</td>\n",
       "      <td>Away</td>\n",
       "      <td>32</td>\n",
       "      <td>81</td>\n",
       "      <td>11</td>\n",
       "      <td>13</td>\n",
       "      <td>11</td>\n",
       "      <td>28</td>\n",
       "      <td>22</td>\n",
       "      <td>40</td>\n",
       "      <td>5</td>\n",
       "    </tr>\n",
       "    <tr>\n",
       "      <th>5</th>\n",
       "      <td>ATL</td>\n",
       "      <td>2017-11-01</td>\n",
       "      <td>Away</td>\n",
       "      <td>41</td>\n",
       "      <td>94</td>\n",
       "      <td>19</td>\n",
       "      <td>27</td>\n",
       "      <td>8</td>\n",
       "      <td>23</td>\n",
       "      <td>22</td>\n",
       "      <td>49</td>\n",
       "      <td>6</td>\n",
       "    </tr>\n",
       "    <tr>\n",
       "      <th>6</th>\n",
       "      <td>ATL</td>\n",
       "      <td>2017-11-05</td>\n",
       "      <td>Away</td>\n",
       "      <td>41</td>\n",
       "      <td>86</td>\n",
       "      <td>24</td>\n",
       "      <td>34</td>\n",
       "      <td>11</td>\n",
       "      <td>25</td>\n",
       "      <td>24</td>\n",
       "      <td>44</td>\n",
       "      <td>7</td>\n",
       "    </tr>\n",
       "    <tr>\n",
       "      <th>7</th>\n",
       "      <td>ATL</td>\n",
       "      <td>2017-11-10</td>\n",
       "      <td>Away</td>\n",
       "      <td>44</td>\n",
       "      <td>89</td>\n",
       "      <td>8</td>\n",
       "      <td>11</td>\n",
       "      <td>8</td>\n",
       "      <td>24</td>\n",
       "      <td>28</td>\n",
       "      <td>45</td>\n",
       "      <td>8</td>\n",
       "    </tr>\n",
       "    <tr>\n",
       "      <th>8</th>\n",
       "      <td>ATL</td>\n",
       "      <td>2017-11-11</td>\n",
       "      <td>Away</td>\n",
       "      <td>34</td>\n",
       "      <td>83</td>\n",
       "      <td>12</td>\n",
       "      <td>17</td>\n",
       "      <td>14</td>\n",
       "      <td>33</td>\n",
       "      <td>19</td>\n",
       "      <td>32</td>\n",
       "      <td>9</td>\n",
       "    </tr>\n",
       "    <tr>\n",
       "      <th>9</th>\n",
       "      <td>ATL</td>\n",
       "      <td>2017-11-13</td>\n",
       "      <td>Away</td>\n",
       "      <td>40</td>\n",
       "      <td>87</td>\n",
       "      <td>8</td>\n",
       "      <td>9</td>\n",
       "      <td>17</td>\n",
       "      <td>36</td>\n",
       "      <td>25</td>\n",
       "      <td>36</td>\n",
       "      <td>10</td>\n",
       "    </tr>\n",
       "    <tr>\n",
       "      <th>10</th>\n",
       "      <td>ATL</td>\n",
       "      <td>2017-11-20</td>\n",
       "      <td>Away</td>\n",
       "      <td>37</td>\n",
       "      <td>85</td>\n",
       "      <td>3</td>\n",
       "      <td>8</td>\n",
       "      <td>8</td>\n",
       "      <td>30</td>\n",
       "      <td>21</td>\n",
       "      <td>38</td>\n",
       "      <td>11</td>\n",
       "    </tr>\n",
       "    <tr>\n",
       "      <th>11</th>\n",
       "      <td>ATL</td>\n",
       "      <td>2017-12-02</td>\n",
       "      <td>Away</td>\n",
       "      <td>47</td>\n",
       "      <td>99</td>\n",
       "      <td>10</td>\n",
       "      <td>14</td>\n",
       "      <td>10</td>\n",
       "      <td>27</td>\n",
       "      <td>18</td>\n",
       "      <td>47</td>\n",
       "      <td>12</td>\n",
       "    </tr>\n",
       "    <tr>\n",
       "      <th>12</th>\n",
       "      <td>ATL</td>\n",
       "      <td>2017-12-06</td>\n",
       "      <td>Away</td>\n",
       "      <td>40</td>\n",
       "      <td>93</td>\n",
       "      <td>15</td>\n",
       "      <td>20</td>\n",
       "      <td>11</td>\n",
       "      <td>27</td>\n",
       "      <td>25</td>\n",
       "      <td>49</td>\n",
       "      <td>13</td>\n",
       "    </tr>\n",
       "    <tr>\n",
       "      <th>13</th>\n",
       "      <td>ATL</td>\n",
       "      <td>2017-12-10</td>\n",
       "      <td>Away</td>\n",
       "      <td>37</td>\n",
       "      <td>77</td>\n",
       "      <td>24</td>\n",
       "      <td>30</td>\n",
       "      <td>9</td>\n",
       "      <td>31</td>\n",
       "      <td>22</td>\n",
       "      <td>35</td>\n",
       "      <td>14</td>\n",
       "    </tr>\n",
       "    <tr>\n",
       "      <th>14</th>\n",
       "      <td>ATL</td>\n",
       "      <td>2017-12-12</td>\n",
       "      <td>Away</td>\n",
       "      <td>43</td>\n",
       "      <td>92</td>\n",
       "      <td>12</td>\n",
       "      <td>13</td>\n",
       "      <td>16</td>\n",
       "      <td>36</td>\n",
       "      <td>26</td>\n",
       "      <td>37</td>\n",
       "      <td>15</td>\n",
       "    </tr>\n",
       "    <tr>\n",
       "      <th>15</th>\n",
       "      <td>ATL</td>\n",
       "      <td>2017-12-15</td>\n",
       "      <td>Away</td>\n",
       "      <td>34</td>\n",
       "      <td>77</td>\n",
       "      <td>14</td>\n",
       "      <td>16</td>\n",
       "      <td>12</td>\n",
       "      <td>31</td>\n",
       "      <td>27</td>\n",
       "      <td>35</td>\n",
       "      <td>16</td>\n",
       "    </tr>\n",
       "    <tr>\n",
       "      <th>16</th>\n",
       "      <td>ATL</td>\n",
       "      <td>2017-12-22</td>\n",
       "      <td>Away</td>\n",
       "      <td>44</td>\n",
       "      <td>85</td>\n",
       "      <td>14</td>\n",
       "      <td>17</td>\n",
       "      <td>15</td>\n",
       "      <td>32</td>\n",
       "      <td>28</td>\n",
       "      <td>27</td>\n",
       "      <td>17</td>\n",
       "    </tr>\n",
       "    <tr>\n",
       "      <th>17</th>\n",
       "      <td>ATL</td>\n",
       "      <td>2017-12-29</td>\n",
       "      <td>Away</td>\n",
       "      <td>38</td>\n",
       "      <td>88</td>\n",
       "      <td>13</td>\n",
       "      <td>20</td>\n",
       "      <td>9</td>\n",
       "      <td>24</td>\n",
       "      <td>21</td>\n",
       "      <td>48</td>\n",
       "      <td>18</td>\n",
       "    </tr>\n",
       "    <tr>\n",
       "      <th>18</th>\n",
       "      <td>ATL</td>\n",
       "      <td>2018-01-02</td>\n",
       "      <td>Away</td>\n",
       "      <td>36</td>\n",
       "      <td>87</td>\n",
       "      <td>21</td>\n",
       "      <td>25</td>\n",
       "      <td>10</td>\n",
       "      <td>31</td>\n",
       "      <td>18</td>\n",
       "      <td>40</td>\n",
       "      <td>19</td>\n",
       "    </tr>\n",
       "    <tr>\n",
       "      <th>19</th>\n",
       "      <td>ATL</td>\n",
       "      <td>2018-01-05</td>\n",
       "      <td>Away</td>\n",
       "      <td>30</td>\n",
       "      <td>83</td>\n",
       "      <td>21</td>\n",
       "      <td>25</td>\n",
       "      <td>8</td>\n",
       "      <td>26</td>\n",
       "      <td>14</td>\n",
       "      <td>39</td>\n",
       "      <td>20</td>\n",
       "    </tr>\n",
       "    <tr>\n",
       "      <th>20</th>\n",
       "      <td>ATL</td>\n",
       "      <td>2018-01-07</td>\n",
       "      <td>Away</td>\n",
       "      <td>41</td>\n",
       "      <td>94</td>\n",
       "      <td>19</td>\n",
       "      <td>23</td>\n",
       "      <td>12</td>\n",
       "      <td>34</td>\n",
       "      <td>22</td>\n",
       "      <td>37</td>\n",
       "      <td>21</td>\n",
       "    </tr>\n",
       "    <tr>\n",
       "      <th>21</th>\n",
       "      <td>ATL</td>\n",
       "      <td>2018-01-08</td>\n",
       "      <td>Away</td>\n",
       "      <td>38</td>\n",
       "      <td>96</td>\n",
       "      <td>21</td>\n",
       "      <td>29</td>\n",
       "      <td>10</td>\n",
       "      <td>37</td>\n",
       "      <td>20</td>\n",
       "      <td>56</td>\n",
       "      <td>22</td>\n",
       "    </tr>\n",
       "    <tr>\n",
       "      <th>22</th>\n",
       "      <td>ATL</td>\n",
       "      <td>2018-01-10</td>\n",
       "      <td>Away</td>\n",
       "      <td>40</td>\n",
       "      <td>80</td>\n",
       "      <td>18</td>\n",
       "      <td>18</td>\n",
       "      <td>12</td>\n",
       "      <td>27</td>\n",
       "      <td>25</td>\n",
       "      <td>44</td>\n",
       "      <td>23</td>\n",
       "    </tr>\n",
       "    <tr>\n",
       "      <th>23</th>\n",
       "      <td>ATL</td>\n",
       "      <td>2018-01-26</td>\n",
       "      <td>Away</td>\n",
       "      <td>37</td>\n",
       "      <td>79</td>\n",
       "      <td>21</td>\n",
       "      <td>25</td>\n",
       "      <td>15</td>\n",
       "      <td>30</td>\n",
       "      <td>23</td>\n",
       "      <td>39</td>\n",
       "      <td>24</td>\n",
       "    </tr>\n",
       "    <tr>\n",
       "      <th>24</th>\n",
       "      <td>ATL</td>\n",
       "      <td>2018-02-02</td>\n",
       "      <td>Away</td>\n",
       "      <td>34</td>\n",
       "      <td>80</td>\n",
       "      <td>31</td>\n",
       "      <td>34</td>\n",
       "      <td>11</td>\n",
       "      <td>31</td>\n",
       "      <td>21</td>\n",
       "      <td>36</td>\n",
       "      <td>25</td>\n",
       "    </tr>\n",
       "    <tr>\n",
       "      <th>25</th>\n",
       "      <td>ATL</td>\n",
       "      <td>2018-02-04</td>\n",
       "      <td>Away</td>\n",
       "      <td>35</td>\n",
       "      <td>87</td>\n",
       "      <td>14</td>\n",
       "      <td>19</td>\n",
       "      <td>15</td>\n",
       "      <td>33</td>\n",
       "      <td>25</td>\n",
       "      <td>44</td>\n",
       "      <td>26</td>\n",
       "    </tr>\n",
       "    <tr>\n",
       "      <th>26</th>\n",
       "      <td>ATL</td>\n",
       "      <td>2018-02-08</td>\n",
       "      <td>Away</td>\n",
       "      <td>37</td>\n",
       "      <td>87</td>\n",
       "      <td>12</td>\n",
       "      <td>18</td>\n",
       "      <td>12</td>\n",
       "      <td>30</td>\n",
       "      <td>25</td>\n",
       "      <td>46</td>\n",
       "      <td>27</td>\n",
       "    </tr>\n",
       "    <tr>\n",
       "      <th>27</th>\n",
       "      <td>ATL</td>\n",
       "      <td>2018-02-13</td>\n",
       "      <td>Away</td>\n",
       "      <td>33</td>\n",
       "      <td>86</td>\n",
       "      <td>14</td>\n",
       "      <td>20</td>\n",
       "      <td>12</td>\n",
       "      <td>35</td>\n",
       "      <td>21</td>\n",
       "      <td>50</td>\n",
       "      <td>28</td>\n",
       "    </tr>\n",
       "    <tr>\n",
       "      <th>28</th>\n",
       "      <td>ATL</td>\n",
       "      <td>2018-02-14</td>\n",
       "      <td>Away</td>\n",
       "      <td>38</td>\n",
       "      <td>89</td>\n",
       "      <td>16</td>\n",
       "      <td>19</td>\n",
       "      <td>6</td>\n",
       "      <td>33</td>\n",
       "      <td>25</td>\n",
       "      <td>43</td>\n",
       "      <td>29</td>\n",
       "    </tr>\n",
       "    <tr>\n",
       "      <th>29</th>\n",
       "      <td>ATL</td>\n",
       "      <td>2018-02-23</td>\n",
       "      <td>Away</td>\n",
       "      <td>37</td>\n",
       "      <td>82</td>\n",
       "      <td>12</td>\n",
       "      <td>19</td>\n",
       "      <td>7</td>\n",
       "      <td>31</td>\n",
       "      <td>14</td>\n",
       "      <td>40</td>\n",
       "      <td>30</td>\n",
       "    </tr>\n",
       "    <tr>\n",
       "      <th>30</th>\n",
       "      <td>ATL</td>\n",
       "      <td>2018-03-06</td>\n",
       "      <td>Away</td>\n",
       "      <td>34</td>\n",
       "      <td>80</td>\n",
       "      <td>16</td>\n",
       "      <td>21</td>\n",
       "      <td>6</td>\n",
       "      <td>21</td>\n",
       "      <td>22</td>\n",
       "      <td>44</td>\n",
       "      <td>31</td>\n",
       "    </tr>\n",
       "    <tr>\n",
       "      <th>31</th>\n",
       "      <td>ATL</td>\n",
       "      <td>2018-03-09</td>\n",
       "      <td>Away</td>\n",
       "      <td>34</td>\n",
       "      <td>82</td>\n",
       "      <td>9</td>\n",
       "      <td>10</td>\n",
       "      <td>10</td>\n",
       "      <td>33</td>\n",
       "      <td>21</td>\n",
       "      <td>35</td>\n",
       "      <td>32</td>\n",
       "    </tr>\n",
       "    <tr>\n",
       "      <th>32</th>\n",
       "      <td>ATL</td>\n",
       "      <td>2018-03-17</td>\n",
       "      <td>Away</td>\n",
       "      <td>39</td>\n",
       "      <td>85</td>\n",
       "      <td>27</td>\n",
       "      <td>28</td>\n",
       "      <td>12</td>\n",
       "      <td>36</td>\n",
       "      <td>23</td>\n",
       "      <td>44</td>\n",
       "      <td>33</td>\n",
       "    </tr>\n",
       "    <tr>\n",
       "      <th>33</th>\n",
       "      <td>ATL</td>\n",
       "      <td>2018-03-20</td>\n",
       "      <td>Away</td>\n",
       "      <td>38</td>\n",
       "      <td>94</td>\n",
       "      <td>14</td>\n",
       "      <td>19</td>\n",
       "      <td>9</td>\n",
       "      <td>33</td>\n",
       "      <td>21</td>\n",
       "      <td>52</td>\n",
       "      <td>34</td>\n",
       "    </tr>\n",
       "    <tr>\n",
       "      <th>34</th>\n",
       "      <td>ATL</td>\n",
       "      <td>2018-03-22</td>\n",
       "      <td>Away</td>\n",
       "      <td>33</td>\n",
       "      <td>84</td>\n",
       "      <td>12</td>\n",
       "      <td>18</td>\n",
       "      <td>12</td>\n",
       "      <td>36</td>\n",
       "      <td>19</td>\n",
       "      <td>40</td>\n",
       "      <td>35</td>\n",
       "    </tr>\n",
       "    <tr>\n",
       "      <th>35</th>\n",
       "      <td>ATL</td>\n",
       "      <td>2018-03-23</td>\n",
       "      <td>Away</td>\n",
       "      <td>37</td>\n",
       "      <td>84</td>\n",
       "      <td>9</td>\n",
       "      <td>20</td>\n",
       "      <td>11</td>\n",
       "      <td>32</td>\n",
       "      <td>24</td>\n",
       "      <td>44</td>\n",
       "      <td>36</td>\n",
       "    </tr>\n",
       "    <tr>\n",
       "      <th>36</th>\n",
       "      <td>ATL</td>\n",
       "      <td>2018-03-25</td>\n",
       "      <td>Away</td>\n",
       "      <td>39</td>\n",
       "      <td>88</td>\n",
       "      <td>10</td>\n",
       "      <td>11</td>\n",
       "      <td>11</td>\n",
       "      <td>40</td>\n",
       "      <td>18</td>\n",
       "      <td>45</td>\n",
       "      <td>37</td>\n",
       "    </tr>\n",
       "    <tr>\n",
       "      <th>37</th>\n",
       "      <td>ATL</td>\n",
       "      <td>2018-03-28</td>\n",
       "      <td>Away</td>\n",
       "      <td>41</td>\n",
       "      <td>77</td>\n",
       "      <td>19</td>\n",
       "      <td>23</td>\n",
       "      <td>13</td>\n",
       "      <td>27</td>\n",
       "      <td>26</td>\n",
       "      <td>37</td>\n",
       "      <td>38</td>\n",
       "    </tr>\n",
       "    <tr>\n",
       "      <th>38</th>\n",
       "      <td>ATL</td>\n",
       "      <td>2018-04-03</td>\n",
       "      <td>Away</td>\n",
       "      <td>37</td>\n",
       "      <td>88</td>\n",
       "      <td>11</td>\n",
       "      <td>15</td>\n",
       "      <td>13</td>\n",
       "      <td>33</td>\n",
       "      <td>24</td>\n",
       "      <td>49</td>\n",
       "      <td>39</td>\n",
       "    </tr>\n",
       "    <tr>\n",
       "      <th>39</th>\n",
       "      <td>ATL</td>\n",
       "      <td>2018-04-06</td>\n",
       "      <td>Away</td>\n",
       "      <td>38</td>\n",
       "      <td>79</td>\n",
       "      <td>16</td>\n",
       "      <td>23</td>\n",
       "      <td>11</td>\n",
       "      <td>33</td>\n",
       "      <td>24</td>\n",
       "      <td>50</td>\n",
       "      <td>40</td>\n",
       "    </tr>\n",
       "    <tr>\n",
       "      <th>40</th>\n",
       "      <td>ATL</td>\n",
       "      <td>2018-04-08</td>\n",
       "      <td>Away</td>\n",
       "      <td>43</td>\n",
       "      <td>86</td>\n",
       "      <td>11</td>\n",
       "      <td>14</td>\n",
       "      <td>15</td>\n",
       "      <td>35</td>\n",
       "      <td>23</td>\n",
       "      <td>37</td>\n",
       "      <td>41</td>\n",
       "    </tr>\n",
       "    <tr>\n",
       "      <th>41</th>\n",
       "      <td>BOS</td>\n",
       "      <td>2017-10-17</td>\n",
       "      <td>Away</td>\n",
       "      <td>36</td>\n",
       "      <td>88</td>\n",
       "      <td>19</td>\n",
       "      <td>25</td>\n",
       "      <td>8</td>\n",
       "      <td>32</td>\n",
       "      <td>24</td>\n",
       "      <td>46</td>\n",
       "      <td>1</td>\n",
       "    </tr>\n",
       "    <tr>\n",
       "      <th>42</th>\n",
       "      <td>BOS</td>\n",
       "      <td>2017-10-20</td>\n",
       "      <td>Away</td>\n",
       "      <td>35</td>\n",
       "      <td>84</td>\n",
       "      <td>22</td>\n",
       "      <td>32</td>\n",
       "      <td>10</td>\n",
       "      <td>29</td>\n",
       "      <td>16</td>\n",
       "      <td>55</td>\n",
       "      <td>2</td>\n",
       "    </tr>\n",
       "    <tr>\n",
       "      <th>43</th>\n",
       "      <td>BOS</td>\n",
       "      <td>2017-10-26</td>\n",
       "      <td>Away</td>\n",
       "      <td>33</td>\n",
       "      <td>78</td>\n",
       "      <td>19</td>\n",
       "      <td>22</td>\n",
       "      <td>11</td>\n",
       "      <td>30</td>\n",
       "      <td>21</td>\n",
       "      <td>45</td>\n",
       "      <td>3</td>\n",
       "    </tr>\n",
       "    <tr>\n",
       "      <th>44</th>\n",
       "      <td>BOS</td>\n",
       "      <td>2017-10-28</td>\n",
       "      <td>Away</td>\n",
       "      <td>34</td>\n",
       "      <td>81</td>\n",
       "      <td>22</td>\n",
       "      <td>26</td>\n",
       "      <td>6</td>\n",
       "      <td>23</td>\n",
       "      <td>15</td>\n",
       "      <td>41</td>\n",
       "      <td>4</td>\n",
       "    </tr>\n",
       "    <tr>\n",
       "      <th>45</th>\n",
       "      <td>BOS</td>\n",
       "      <td>2017-11-03</td>\n",
       "      <td>Away</td>\n",
       "      <td>36</td>\n",
       "      <td>84</td>\n",
       "      <td>16</td>\n",
       "      <td>24</td>\n",
       "      <td>13</td>\n",
       "      <td>28</td>\n",
       "      <td>23</td>\n",
       "      <td>49</td>\n",
       "      <td>5</td>\n",
       "    </tr>\n",
       "    <tr>\n",
       "      <th>46</th>\n",
       "      <td>BOS</td>\n",
       "      <td>2017-11-05</td>\n",
       "      <td>Away</td>\n",
       "      <td>39</td>\n",
       "      <td>89</td>\n",
       "      <td>15</td>\n",
       "      <td>20</td>\n",
       "      <td>11</td>\n",
       "      <td>33</td>\n",
       "      <td>26</td>\n",
       "      <td>54</td>\n",
       "      <td>6</td>\n",
       "    </tr>\n",
       "    <tr>\n",
       "      <th>47</th>\n",
       "      <td>BOS</td>\n",
       "      <td>2017-11-06</td>\n",
       "      <td>Away</td>\n",
       "      <td>39</td>\n",
       "      <td>81</td>\n",
       "      <td>18</td>\n",
       "      <td>22</td>\n",
       "      <td>14</td>\n",
       "      <td>36</td>\n",
       "      <td>28</td>\n",
       "      <td>42</td>\n",
       "      <td>7</td>\n",
       "    </tr>\n",
       "    <tr>\n",
       "      <th>48</th>\n",
       "      <td>BOS</td>\n",
       "      <td>2017-11-14</td>\n",
       "      <td>Away</td>\n",
       "      <td>39</td>\n",
       "      <td>86</td>\n",
       "      <td>22</td>\n",
       "      <td>27</td>\n",
       "      <td>9</td>\n",
       "      <td>27</td>\n",
       "      <td>15</td>\n",
       "      <td>49</td>\n",
       "      <td>8</td>\n",
       "    </tr>\n",
       "    <tr>\n",
       "      <th>49</th>\n",
       "      <td>BOS</td>\n",
       "      <td>2017-11-18</td>\n",
       "      <td>Away</td>\n",
       "      <td>39</td>\n",
       "      <td>82</td>\n",
       "      <td>16</td>\n",
       "      <td>20</td>\n",
       "      <td>16</td>\n",
       "      <td>34</td>\n",
       "      <td>21</td>\n",
       "      <td>41</td>\n",
       "      <td>9</td>\n",
       "    </tr>\n",
       "  </tbody>\n",
       "</table>\n",
       "</div>"
      ],
      "text/plain": [
       "   team        date  home  fieldgoals  fieldgoalsattempted  freethrows  \\\n",
       "0   ATL  2017-10-18  Away          48                   94          12   \n",
       "1   ATL  2017-10-20  Away          36                   95          12   \n",
       "2   ATL  2017-10-22  Away          32                   94          33   \n",
       "3   ATL  2017-10-23  Away          36                   76          14   \n",
       "4   ATL  2017-10-26  Away          32                   81          11   \n",
       "5   ATL  2017-11-01  Away          41                   94          19   \n",
       "6   ATL  2017-11-05  Away          41                   86          24   \n",
       "7   ATL  2017-11-10  Away          44                   89           8   \n",
       "8   ATL  2017-11-11  Away          34                   83          12   \n",
       "9   ATL  2017-11-13  Away          40                   87           8   \n",
       "10  ATL  2017-11-20  Away          37                   85           3   \n",
       "11  ATL  2017-12-02  Away          47                   99          10   \n",
       "12  ATL  2017-12-06  Away          40                   93          15   \n",
       "13  ATL  2017-12-10  Away          37                   77          24   \n",
       "14  ATL  2017-12-12  Away          43                   92          12   \n",
       "15  ATL  2017-12-15  Away          34                   77          14   \n",
       "16  ATL  2017-12-22  Away          44                   85          14   \n",
       "17  ATL  2017-12-29  Away          38                   88          13   \n",
       "18  ATL  2018-01-02  Away          36                   87          21   \n",
       "19  ATL  2018-01-05  Away          30                   83          21   \n",
       "20  ATL  2018-01-07  Away          41                   94          19   \n",
       "21  ATL  2018-01-08  Away          38                   96          21   \n",
       "22  ATL  2018-01-10  Away          40                   80          18   \n",
       "23  ATL  2018-01-26  Away          37                   79          21   \n",
       "24  ATL  2018-02-02  Away          34                   80          31   \n",
       "25  ATL  2018-02-04  Away          35                   87          14   \n",
       "26  ATL  2018-02-08  Away          37                   87          12   \n",
       "27  ATL  2018-02-13  Away          33                   86          14   \n",
       "28  ATL  2018-02-14  Away          38                   89          16   \n",
       "29  ATL  2018-02-23  Away          37                   82          12   \n",
       "30  ATL  2018-03-06  Away          34                   80          16   \n",
       "31  ATL  2018-03-09  Away          34                   82           9   \n",
       "32  ATL  2018-03-17  Away          39                   85          27   \n",
       "33  ATL  2018-03-20  Away          38                   94          14   \n",
       "34  ATL  2018-03-22  Away          33                   84          12   \n",
       "35  ATL  2018-03-23  Away          37                   84           9   \n",
       "36  ATL  2018-03-25  Away          39                   88          10   \n",
       "37  ATL  2018-03-28  Away          41                   77          19   \n",
       "38  ATL  2018-04-03  Away          37                   88          11   \n",
       "39  ATL  2018-04-06  Away          38                   79          16   \n",
       "40  ATL  2018-04-08  Away          43                   86          11   \n",
       "41  BOS  2017-10-17  Away          36                   88          19   \n",
       "42  BOS  2017-10-20  Away          35                   84          22   \n",
       "43  BOS  2017-10-26  Away          33                   78          19   \n",
       "44  BOS  2017-10-28  Away          34                   81          22   \n",
       "45  BOS  2017-11-03  Away          36                   84          16   \n",
       "46  BOS  2017-11-05  Away          39                   89          15   \n",
       "47  BOS  2017-11-06  Away          39                   81          18   \n",
       "48  BOS  2017-11-14  Away          39                   86          22   \n",
       "49  BOS  2017-11-18  Away          39                   82          16   \n",
       "\n",
       "    freethrowsattempted  x3pointshots  x3pointshotsattempted  assists  \\\n",
       "0                    15             9                     18       20   \n",
       "1                    14             7                     30       19   \n",
       "2                    36             7                     27       21   \n",
       "3                    18             7                     17       14   \n",
       "4                    13            11                     28       22   \n",
       "5                    27             8                     23       22   \n",
       "6                    34            11                     25       24   \n",
       "7                    11             8                     24       28   \n",
       "8                    17            14                     33       19   \n",
       "9                     9            17                     36       25   \n",
       "10                    8             8                     30       21   \n",
       "11                   14            10                     27       18   \n",
       "12                   20            11                     27       25   \n",
       "13                   30             9                     31       22   \n",
       "14                   13            16                     36       26   \n",
       "15                   16            12                     31       27   \n",
       "16                   17            15                     32       28   \n",
       "17                   20             9                     24       21   \n",
       "18                   25            10                     31       18   \n",
       "19                   25             8                     26       14   \n",
       "20                   23            12                     34       22   \n",
       "21                   29            10                     37       20   \n",
       "22                   18            12                     27       25   \n",
       "23                   25            15                     30       23   \n",
       "24                   34            11                     31       21   \n",
       "25                   19            15                     33       25   \n",
       "26                   18            12                     30       25   \n",
       "27                   20            12                     35       21   \n",
       "28                   19             6                     33       25   \n",
       "29                   19             7                     31       14   \n",
       "30                   21             6                     21       22   \n",
       "31                   10            10                     33       21   \n",
       "32                   28            12                     36       23   \n",
       "33                   19             9                     33       21   \n",
       "34                   18            12                     36       19   \n",
       "35                   20            11                     32       24   \n",
       "36                   11            11                     40       18   \n",
       "37                   23            13                     27       26   \n",
       "38                   15            13                     33       24   \n",
       "39                   23            11                     33       24   \n",
       "40                   14            15                     35       23   \n",
       "41                   25             8                     32       24   \n",
       "42                   32            10                     29       16   \n",
       "43                   22            11                     30       21   \n",
       "44                   26             6                     23       15   \n",
       "45                   24            13                     28       23   \n",
       "46                   20            11                     33       26   \n",
       "47                   22            14                     36       28   \n",
       "48                   27             9                     27       15   \n",
       "49                   20            16                     34       21   \n",
       "\n",
       "    totalrebounds  game  \n",
       "0              50     1  \n",
       "1              38     2  \n",
       "2              48     3  \n",
       "3              41     4  \n",
       "4              40     5  \n",
       "5              49     6  \n",
       "6              44     7  \n",
       "7              45     8  \n",
       "8              32     9  \n",
       "9              36    10  \n",
       "10             38    11  \n",
       "11             47    12  \n",
       "12             49    13  \n",
       "13             35    14  \n",
       "14             37    15  \n",
       "15             35    16  \n",
       "16             27    17  \n",
       "17             48    18  \n",
       "18             40    19  \n",
       "19             39    20  \n",
       "20             37    21  \n",
       "21             56    22  \n",
       "22             44    23  \n",
       "23             39    24  \n",
       "24             36    25  \n",
       "25             44    26  \n",
       "26             46    27  \n",
       "27             50    28  \n",
       "28             43    29  \n",
       "29             40    30  \n",
       "30             44    31  \n",
       "31             35    32  \n",
       "32             44    33  \n",
       "33             52    34  \n",
       "34             40    35  \n",
       "35             44    36  \n",
       "36             45    37  \n",
       "37             37    38  \n",
       "38             49    39  \n",
       "39             50    40  \n",
       "40             37    41  \n",
       "41             46     1  \n",
       "42             55     2  \n",
       "43             45     3  \n",
       "44             41     4  \n",
       "45             49     5  \n",
       "46             54     6  \n",
       "47             42     7  \n",
       "48             49     8  \n",
       "49             41     9  "
      ]
     },
     "execution_count": 42,
     "metadata": {},
     "output_type": "execute_result"
    }
   ],
   "source": [
    "# Visualizando e conferindo resultado do particionamento (Relatório: Figura 18)\n",
    "away2017.head(50)"
   ]
  },
  {
   "cell_type": "markdown",
   "metadata": {},
   "source": [
    "Partições identificadas, podemos remover o atributo “date” que a partir de agora não será mais útil aos subconjuntos e iniciar a sumarização dos números a cada jogo. Para isso, vamos desenvolver uma função customizada que irá recursivamente montar nossos novos conjuntos."
   ]
  },
  {
   "cell_type": "code",
   "execution_count": 43,
   "metadata": {},
   "outputs": [],
   "source": [
    "# Excluindo a coluna date (utilizada para ordenação, não será utilizada na sumarização)\n",
    "del home2017[\"date\"]\n",
    "del away2017[\"date\"]"
   ]
  },
  {
   "cell_type": "code",
   "execution_count": 44,
   "metadata": {},
   "outputs": [],
   "source": [
    "# Construindo a função para sumarização dos números:\n",
    "def cumulativeStats(df):\n",
    "    '''\n",
    "    Esta função tem o objetivo de somar os números de todos os jogos\n",
    "    de cada equipe até uma respectiva rodada gerando assim um dataframe\n",
    "    com números acumulados até a mesma.\n",
    "    '''\n",
    "    # Index com numero de rodadas\n",
    "    maxGames = df['game'].max() + 1\n",
    "      \n",
    "    # Dataframe para append das somas\n",
    "    dfSum = pd.DataFrame(columns=df.columns)\n",
    "    \n",
    "    # Filtrando jogos acumulados a cada rodada, somando números, reiniciando indices e unindo com dfSum\n",
    "    for ngame in list(range(1, maxGames)):\n",
    "        dfRound = df[(df.game <= ngame)].groupby(['team', 'home']).sum()\n",
    "        dfRound.reset_index(level=['team', 'home'], inplace=True)\n",
    "        dfRound[\"game\"] = ngame + 1\n",
    "        dfSum = pd.concat([dfSum, dfRound], ignore_index=True, sort=False)\n",
    "        \n",
    "    return dfSum\n",
    "    "
   ]
  },
  {
   "cell_type": "code",
   "execution_count": 45,
   "metadata": {},
   "outputs": [],
   "source": [
    "# Executando as somas com a função cumulativeStats\n",
    "homeCumStats = cumulativeStats(home2017)\n",
    "awayCumStats = cumulativeStats(away2017)"
   ]
  },
  {
   "cell_type": "code",
   "execution_count": 46,
   "metadata": {},
   "outputs": [
    {
     "data": {
      "text/html": [
       "<div>\n",
       "<style scoped>\n",
       "    .dataframe tbody tr th:only-of-type {\n",
       "        vertical-align: middle;\n",
       "    }\n",
       "\n",
       "    .dataframe tbody tr th {\n",
       "        vertical-align: top;\n",
       "    }\n",
       "\n",
       "    .dataframe thead th {\n",
       "        text-align: right;\n",
       "    }\n",
       "</style>\n",
       "<table border=\"1\" class=\"dataframe\">\n",
       "  <thead>\n",
       "    <tr style=\"text-align: right;\">\n",
       "      <th></th>\n",
       "      <th>team</th>\n",
       "      <th>home</th>\n",
       "      <th>fieldgoals</th>\n",
       "      <th>fieldgoalsattempted</th>\n",
       "      <th>freethrows</th>\n",
       "      <th>freethrowsattempted</th>\n",
       "      <th>x3pointshots</th>\n",
       "      <th>x3pointshotsattempted</th>\n",
       "      <th>assists</th>\n",
       "      <th>totalrebounds</th>\n",
       "      <th>game</th>\n",
       "    </tr>\n",
       "  </thead>\n",
       "  <tbody>\n",
       "    <tr>\n",
       "      <th>0</th>\n",
       "      <td>ATL</td>\n",
       "      <td>Home</td>\n",
       "      <td>37</td>\n",
       "      <td>89</td>\n",
       "      <td>12</td>\n",
       "      <td>12</td>\n",
       "      <td>14</td>\n",
       "      <td>33</td>\n",
       "      <td>23</td>\n",
       "      <td>43</td>\n",
       "      <td>2</td>\n",
       "    </tr>\n",
       "    <tr>\n",
       "      <th>1</th>\n",
       "      <td>BOS</td>\n",
       "      <td>Home</td>\n",
       "      <td>39</td>\n",
       "      <td>91</td>\n",
       "      <td>11</td>\n",
       "      <td>21</td>\n",
       "      <td>11</td>\n",
       "      <td>28</td>\n",
       "      <td>23</td>\n",
       "      <td>43</td>\n",
       "      <td>2</td>\n",
       "    </tr>\n",
       "    <tr>\n",
       "      <th>2</th>\n",
       "      <td>BRK</td>\n",
       "      <td>Home</td>\n",
       "      <td>46</td>\n",
       "      <td>92</td>\n",
       "      <td>25</td>\n",
       "      <td>35</td>\n",
       "      <td>9</td>\n",
       "      <td>27</td>\n",
       "      <td>22</td>\n",
       "      <td>48</td>\n",
       "      <td>2</td>\n",
       "    </tr>\n",
       "    <tr>\n",
       "      <th>3</th>\n",
       "      <td>CHI</td>\n",
       "      <td>Home</td>\n",
       "      <td>31</td>\n",
       "      <td>82</td>\n",
       "      <td>7</td>\n",
       "      <td>9</td>\n",
       "      <td>8</td>\n",
       "      <td>28</td>\n",
       "      <td>18</td>\n",
       "      <td>48</td>\n",
       "      <td>2</td>\n",
       "    </tr>\n",
       "    <tr>\n",
       "      <th>4</th>\n",
       "      <td>CHO</td>\n",
       "      <td>Home</td>\n",
       "      <td>37</td>\n",
       "      <td>86</td>\n",
       "      <td>24</td>\n",
       "      <td>30</td>\n",
       "      <td>11</td>\n",
       "      <td>36</td>\n",
       "      <td>17</td>\n",
       "      <td>57</td>\n",
       "      <td>2</td>\n",
       "    </tr>\n",
       "  </tbody>\n",
       "</table>\n",
       "</div>"
      ],
      "text/plain": [
       "  team  home fieldgoals fieldgoalsattempted freethrows freethrowsattempted  \\\n",
       "0  ATL  Home         37                  89         12                  12   \n",
       "1  BOS  Home         39                  91         11                  21   \n",
       "2  BRK  Home         46                  92         25                  35   \n",
       "3  CHI  Home         31                  82          7                   9   \n",
       "4  CHO  Home         37                  86         24                  30   \n",
       "\n",
       "  x3pointshots x3pointshotsattempted assists totalrebounds game  \n",
       "0           14                    33      23            43    2  \n",
       "1           11                    28      23            43    2  \n",
       "2            9                    27      22            48    2  \n",
       "3            8                    28      18            48    2  \n",
       "4           11                    36      17            57    2  "
      ]
     },
     "execution_count": 46,
     "metadata": {},
     "output_type": "execute_result"
    }
   ],
   "source": [
    "# Visualizando primeiros registros do dataframe homeCumStats\n",
    "homeCumStats.head()"
   ]
  },
  {
   "cell_type": "code",
   "execution_count": 47,
   "metadata": {},
   "outputs": [
    {
     "data": {
      "text/html": [
       "<div>\n",
       "<style scoped>\n",
       "    .dataframe tbody tr th:only-of-type {\n",
       "        vertical-align: middle;\n",
       "    }\n",
       "\n",
       "    .dataframe tbody tr th {\n",
       "        vertical-align: top;\n",
       "    }\n",
       "\n",
       "    .dataframe thead th {\n",
       "        text-align: right;\n",
       "    }\n",
       "</style>\n",
       "<table border=\"1\" class=\"dataframe\">\n",
       "  <thead>\n",
       "    <tr style=\"text-align: right;\">\n",
       "      <th></th>\n",
       "      <th>team</th>\n",
       "      <th>home</th>\n",
       "      <th>fieldgoals</th>\n",
       "      <th>fieldgoalsattempted</th>\n",
       "      <th>freethrows</th>\n",
       "      <th>freethrowsattempted</th>\n",
       "      <th>x3pointshots</th>\n",
       "      <th>x3pointshotsattempted</th>\n",
       "      <th>assists</th>\n",
       "      <th>totalrebounds</th>\n",
       "      <th>game</th>\n",
       "    </tr>\n",
       "  </thead>\n",
       "  <tbody>\n",
       "    <tr>\n",
       "      <th>0</th>\n",
       "      <td>ATL</td>\n",
       "      <td>Away</td>\n",
       "      <td>48</td>\n",
       "      <td>94</td>\n",
       "      <td>12</td>\n",
       "      <td>15</td>\n",
       "      <td>9</td>\n",
       "      <td>18</td>\n",
       "      <td>20</td>\n",
       "      <td>50</td>\n",
       "      <td>2</td>\n",
       "    </tr>\n",
       "    <tr>\n",
       "      <th>1</th>\n",
       "      <td>BOS</td>\n",
       "      <td>Away</td>\n",
       "      <td>36</td>\n",
       "      <td>88</td>\n",
       "      <td>19</td>\n",
       "      <td>25</td>\n",
       "      <td>8</td>\n",
       "      <td>32</td>\n",
       "      <td>24</td>\n",
       "      <td>46</td>\n",
       "      <td>2</td>\n",
       "    </tr>\n",
       "    <tr>\n",
       "      <th>2</th>\n",
       "      <td>BRK</td>\n",
       "      <td>Away</td>\n",
       "      <td>45</td>\n",
       "      <td>94</td>\n",
       "      <td>29</td>\n",
       "      <td>32</td>\n",
       "      <td>12</td>\n",
       "      <td>30</td>\n",
       "      <td>22</td>\n",
       "      <td>43</td>\n",
       "      <td>2</td>\n",
       "    </tr>\n",
       "    <tr>\n",
       "      <th>3</th>\n",
       "      <td>CHI</td>\n",
       "      <td>Away</td>\n",
       "      <td>37</td>\n",
       "      <td>89</td>\n",
       "      <td>16</td>\n",
       "      <td>19</td>\n",
       "      <td>10</td>\n",
       "      <td>32</td>\n",
       "      <td>22</td>\n",
       "      <td>39</td>\n",
       "      <td>2</td>\n",
       "    </tr>\n",
       "    <tr>\n",
       "      <th>4</th>\n",
       "      <td>CHO</td>\n",
       "      <td>Away</td>\n",
       "      <td>29</td>\n",
       "      <td>73</td>\n",
       "      <td>23</td>\n",
       "      <td>29</td>\n",
       "      <td>9</td>\n",
       "      <td>30</td>\n",
       "      <td>16</td>\n",
       "      <td>47</td>\n",
       "      <td>2</td>\n",
       "    </tr>\n",
       "  </tbody>\n",
       "</table>\n",
       "</div>"
      ],
      "text/plain": [
       "  team  home fieldgoals fieldgoalsattempted freethrows freethrowsattempted  \\\n",
       "0  ATL  Away         48                  94         12                  15   \n",
       "1  BOS  Away         36                  88         19                  25   \n",
       "2  BRK  Away         45                  94         29                  32   \n",
       "3  CHI  Away         37                  89         16                  19   \n",
       "4  CHO  Away         29                  73         23                  29   \n",
       "\n",
       "  x3pointshots x3pointshotsattempted assists totalrebounds game  \n",
       "0            9                    18      20            50    2  \n",
       "1            8                    32      24            46    2  \n",
       "2           12                    30      22            43    2  \n",
       "3           10                    32      22            39    2  \n",
       "4            9                    30      16            47    2  "
      ]
     },
     "execution_count": 47,
     "metadata": {},
     "output_type": "execute_result"
    }
   ],
   "source": [
    "# Visualizando primeiros registros do dataframe awayCumStats\n",
    "awayCumStats.head()"
   ]
  },
  {
   "cell_type": "markdown",
   "metadata": {},
   "source": [
    "Para reforçar o conceito, os números registrados no primeiro jogo serão utilizados para prever a segunda rodada, já os números acumulados do primeiro e segundo jogo serão utilizados para prever a terceira rodada, e assim sucessivamente. Para deixar ainda mais claro, abaixo temos duas figuras exemplificando um subconjunto em seu formato original e posteriormente já sumarizado."
   ]
  },
  {
   "cell_type": "code",
   "execution_count": 48,
   "metadata": {},
   "outputs": [
    {
     "data": {
      "text/html": [
       "<div>\n",
       "<style scoped>\n",
       "    .dataframe tbody tr th:only-of-type {\n",
       "        vertical-align: middle;\n",
       "    }\n",
       "\n",
       "    .dataframe tbody tr th {\n",
       "        vertical-align: top;\n",
       "    }\n",
       "\n",
       "    .dataframe thead th {\n",
       "        text-align: right;\n",
       "    }\n",
       "</style>\n",
       "<table border=\"1\" class=\"dataframe\">\n",
       "  <thead>\n",
       "    <tr style=\"text-align: right;\">\n",
       "      <th></th>\n",
       "      <th>team</th>\n",
       "      <th>home</th>\n",
       "      <th>fieldgoals</th>\n",
       "      <th>fieldgoalsattempted</th>\n",
       "      <th>freethrows</th>\n",
       "      <th>freethrowsattempted</th>\n",
       "      <th>x3pointshots</th>\n",
       "      <th>x3pointshotsattempted</th>\n",
       "      <th>assists</th>\n",
       "      <th>totalrebounds</th>\n",
       "      <th>game</th>\n",
       "    </tr>\n",
       "  </thead>\n",
       "  <tbody>\n",
       "    <tr>\n",
       "      <th>0</th>\n",
       "      <td>ATL</td>\n",
       "      <td>Home</td>\n",
       "      <td>37</td>\n",
       "      <td>89</td>\n",
       "      <td>12</td>\n",
       "      <td>12</td>\n",
       "      <td>14</td>\n",
       "      <td>33</td>\n",
       "      <td>23</td>\n",
       "      <td>43</td>\n",
       "      <td>1</td>\n",
       "    </tr>\n",
       "    <tr>\n",
       "      <th>1</th>\n",
       "      <td>ATL</td>\n",
       "      <td>Home</td>\n",
       "      <td>36</td>\n",
       "      <td>77</td>\n",
       "      <td>21</td>\n",
       "      <td>26</td>\n",
       "      <td>13</td>\n",
       "      <td>29</td>\n",
       "      <td>27</td>\n",
       "      <td>31</td>\n",
       "      <td>2</td>\n",
       "    </tr>\n",
       "    <tr>\n",
       "      <th>2</th>\n",
       "      <td>ATL</td>\n",
       "      <td>Home</td>\n",
       "      <td>39</td>\n",
       "      <td>81</td>\n",
       "      <td>15</td>\n",
       "      <td>18</td>\n",
       "      <td>11</td>\n",
       "      <td>33</td>\n",
       "      <td>16</td>\n",
       "      <td>41</td>\n",
       "      <td>3</td>\n",
       "    </tr>\n",
       "    <tr>\n",
       "      <th>3</th>\n",
       "      <td>ATL</td>\n",
       "      <td>Home</td>\n",
       "      <td>39</td>\n",
       "      <td>81</td>\n",
       "      <td>16</td>\n",
       "      <td>20</td>\n",
       "      <td>13</td>\n",
       "      <td>26</td>\n",
       "      <td>24</td>\n",
       "      <td>36</td>\n",
       "      <td>4</td>\n",
       "    </tr>\n",
       "    <tr>\n",
       "      <th>4</th>\n",
       "      <td>ATL</td>\n",
       "      <td>Home</td>\n",
       "      <td>50</td>\n",
       "      <td>79</td>\n",
       "      <td>10</td>\n",
       "      <td>16</td>\n",
       "      <td>16</td>\n",
       "      <td>32</td>\n",
       "      <td>40</td>\n",
       "      <td>53</td>\n",
       "      <td>5</td>\n",
       "    </tr>\n",
       "  </tbody>\n",
       "</table>\n",
       "</div>"
      ],
      "text/plain": [
       "  team  home  fieldgoals  fieldgoalsattempted  freethrows  \\\n",
       "0  ATL  Home          37                   89          12   \n",
       "1  ATL  Home          36                   77          21   \n",
       "2  ATL  Home          39                   81          15   \n",
       "3  ATL  Home          39                   81          16   \n",
       "4  ATL  Home          50                   79          10   \n",
       "\n",
       "   freethrowsattempted  x3pointshots  x3pointshotsattempted  assists  \\\n",
       "0                   12            14                     33       23   \n",
       "1                   26            13                     29       27   \n",
       "2                   18            11                     33       16   \n",
       "3                   20            13                     26       24   \n",
       "4                   16            16                     32       40   \n",
       "\n",
       "   totalrebounds  game  \n",
       "0             43     1  \n",
       "1             31     2  \n",
       "2             41     3  \n",
       "3             36     4  \n",
       "4             53     5  "
      ]
     },
     "execution_count": 48,
     "metadata": {},
     "output_type": "execute_result"
    }
   ],
   "source": [
    "# Conferindo primeiros registros de uma única equipe no dataframe original (Relatório: Figura 19)\n",
    "home2017[(home2017.team == \"ATL\")].head()"
   ]
  },
  {
   "cell_type": "code",
   "execution_count": 49,
   "metadata": {},
   "outputs": [
    {
     "data": {
      "text/html": [
       "<div>\n",
       "<style scoped>\n",
       "    .dataframe tbody tr th:only-of-type {\n",
       "        vertical-align: middle;\n",
       "    }\n",
       "\n",
       "    .dataframe tbody tr th {\n",
       "        vertical-align: top;\n",
       "    }\n",
       "\n",
       "    .dataframe thead th {\n",
       "        text-align: right;\n",
       "    }\n",
       "</style>\n",
       "<table border=\"1\" class=\"dataframe\">\n",
       "  <thead>\n",
       "    <tr style=\"text-align: right;\">\n",
       "      <th></th>\n",
       "      <th>team</th>\n",
       "      <th>home</th>\n",
       "      <th>fieldgoals</th>\n",
       "      <th>fieldgoalsattempted</th>\n",
       "      <th>freethrows</th>\n",
       "      <th>freethrowsattempted</th>\n",
       "      <th>x3pointshots</th>\n",
       "      <th>x3pointshotsattempted</th>\n",
       "      <th>assists</th>\n",
       "      <th>totalrebounds</th>\n",
       "      <th>game</th>\n",
       "    </tr>\n",
       "  </thead>\n",
       "  <tbody>\n",
       "    <tr>\n",
       "      <th>0</th>\n",
       "      <td>ATL</td>\n",
       "      <td>Home</td>\n",
       "      <td>37</td>\n",
       "      <td>89</td>\n",
       "      <td>12</td>\n",
       "      <td>12</td>\n",
       "      <td>14</td>\n",
       "      <td>33</td>\n",
       "      <td>23</td>\n",
       "      <td>43</td>\n",
       "      <td>2</td>\n",
       "    </tr>\n",
       "    <tr>\n",
       "      <th>30</th>\n",
       "      <td>ATL</td>\n",
       "      <td>Home</td>\n",
       "      <td>73</td>\n",
       "      <td>166</td>\n",
       "      <td>33</td>\n",
       "      <td>38</td>\n",
       "      <td>27</td>\n",
       "      <td>62</td>\n",
       "      <td>50</td>\n",
       "      <td>74</td>\n",
       "      <td>3</td>\n",
       "    </tr>\n",
       "    <tr>\n",
       "      <th>60</th>\n",
       "      <td>ATL</td>\n",
       "      <td>Home</td>\n",
       "      <td>112</td>\n",
       "      <td>247</td>\n",
       "      <td>48</td>\n",
       "      <td>56</td>\n",
       "      <td>38</td>\n",
       "      <td>95</td>\n",
       "      <td>66</td>\n",
       "      <td>115</td>\n",
       "      <td>4</td>\n",
       "    </tr>\n",
       "    <tr>\n",
       "      <th>90</th>\n",
       "      <td>ATL</td>\n",
       "      <td>Home</td>\n",
       "      <td>151</td>\n",
       "      <td>328</td>\n",
       "      <td>64</td>\n",
       "      <td>76</td>\n",
       "      <td>51</td>\n",
       "      <td>121</td>\n",
       "      <td>90</td>\n",
       "      <td>151</td>\n",
       "      <td>5</td>\n",
       "    </tr>\n",
       "    <tr>\n",
       "      <th>120</th>\n",
       "      <td>ATL</td>\n",
       "      <td>Home</td>\n",
       "      <td>201</td>\n",
       "      <td>407</td>\n",
       "      <td>74</td>\n",
       "      <td>92</td>\n",
       "      <td>67</td>\n",
       "      <td>153</td>\n",
       "      <td>130</td>\n",
       "      <td>204</td>\n",
       "      <td>6</td>\n",
       "    </tr>\n",
       "  </tbody>\n",
       "</table>\n",
       "</div>"
      ],
      "text/plain": [
       "    team  home fieldgoals fieldgoalsattempted freethrows freethrowsattempted  \\\n",
       "0    ATL  Home         37                  89         12                  12   \n",
       "30   ATL  Home         73                 166         33                  38   \n",
       "60   ATL  Home        112                 247         48                  56   \n",
       "90   ATL  Home        151                 328         64                  76   \n",
       "120  ATL  Home        201                 407         74                  92   \n",
       "\n",
       "    x3pointshots x3pointshotsattempted assists totalrebounds game  \n",
       "0             14                    33      23            43    2  \n",
       "30            27                    62      50            74    3  \n",
       "60            38                    95      66           115    4  \n",
       "90            51                   121      90           151    5  \n",
       "120           67                   153     130           204    6  "
      ]
     },
     "execution_count": 49,
     "metadata": {},
     "output_type": "execute_result"
    }
   ],
   "source": [
    "# Conferindo primeiros registros de uma única equipe no dataframe sumarizado (Relatório: Figura 20)\n",
    "homeCumStats[(homeCumStats.team == \"ATL\")].head()"
   ]
  },
  {
   "cell_type": "markdown",
   "metadata": {},
   "source": [
    "Confirmada a sumarização com êxito, é momento de calcular os valores das variáveis tal qual temos na Base Histórica. Para as variáveis que representam o percentual de acertos de arremessos, vamos dividir o número acumulado de acertos pelo número acumulado de tentativas. Já para as variáveis de quantidade de assistências e rebotes, calcularemos a média por partida. Por fim, vamos excluir as variáveis de números absolutos que não iremos utilizar nas previsões, reordenar e renomear as restantes seguindo o padrão da Base Histórica para prosseguimento do processo.\n",
    "\n",
    "Iremos utilizar novamente uma função customizada para auxiliar nesse processo."
   ]
  },
  {
   "cell_type": "code",
   "execution_count": 50,
   "metadata": {},
   "outputs": [
    {
     "data": {
      "text/plain": [
       "Index(['season', 'home', 'away', 'fg_pct_home', 'ft_pct_home', 'fg3_pct_home',\n",
       "       'ast_home', 'reb_home', 'fg_pct_away', 'ft_pct_away', 'fg3_pct_away',\n",
       "       'ast_away', 'reb_away', 'home_team_wins'],\n",
       "      dtype='object')"
      ]
     },
     "execution_count": 50,
     "metadata": {},
     "output_type": "execute_result"
    }
   ],
   "source": [
    "# Visualizando os nomes das variáveis no dataframe dfGames\n",
    "dfGames.columns"
   ]
  },
  {
   "cell_type": "code",
   "execution_count": 51,
   "metadata": {},
   "outputs": [],
   "source": [
    "# Criando função para calculo dos percentuais e demais ajustes\n",
    "def pctVars(df, newVar, var1, var2):\n",
    "    '''\n",
    "    Esta função tem o objetico de criar as variávei com índices percentuais\n",
    "    e excluir as variáveis de números absolutos que não serão mais úteis, tal \n",
    "    qual temos no dataframe dfGames.\n",
    "    '''\n",
    "    df[newVar] = df[var1].astype(float) / df[var2].astype(float)\n",
    "    df[newVar] = round(df[newVar], 3)\n",
    "    df.drop([var1, var2], axis=1, inplace=True)"
   ]
  },
  {
   "cell_type": "code",
   "execution_count": 52,
   "metadata": {},
   "outputs": [],
   "source": [
    "# Aplicando a função pctVars\n",
    "pctVars(homeCumStats, 'fg_pct_home', 'fieldgoals', 'fieldgoalsattempted')\n",
    "pctVars(awayCumStats, 'fg_pct_away', 'fieldgoals', 'fieldgoalsattempted')\n",
    "pctVars(homeCumStats, 'ft_pct_home', 'freethrows', 'freethrowsattempted')\n",
    "pctVars(awayCumStats, 'ft_pct_away', 'freethrows', 'freethrowsattempted')\n",
    "pctVars(homeCumStats, 'fg3_pct_home', 'x3pointshots', 'x3pointshotsattempted')\n",
    "pctVars(awayCumStats, 'fg3_pct_away', 'x3pointshots', 'x3pointshotsattempted')"
   ]
  },
  {
   "cell_type": "code",
   "execution_count": 53,
   "metadata": {},
   "outputs": [],
   "source": [
    "#  Ajustando as variáveis de assistencias e rebotes para representar média por partida. \n",
    "homeCumStats['assists'] = homeCumStats.assists / (homeCumStats.game - 1)\n",
    "homeCumStats['totalrebounds'] = homeCumStats.totalrebounds / (homeCumStats.game - 1)\n",
    "awayCumStats['assists'] = awayCumStats.assists / (awayCumStats.game - 1)\n",
    "awayCumStats['totalrebounds'] = awayCumStats.totalrebounds / (awayCumStats.game - 1)\n",
    "\n",
    "homeCumStats['assists'] = round(homeCumStats['assists'].astype(float), 1)\n",
    "homeCumStats['totalrebounds'] = round(homeCumStats['totalrebounds'].astype(float), 1)\n",
    "awayCumStats['assists'] = round(awayCumStats['assists'].astype(float), 1)\n",
    "awayCumStats['totalrebounds'] = round(awayCumStats['totalrebounds'].astype(float), 1)"
   ]
  },
  {
   "cell_type": "code",
   "execution_count": 54,
   "metadata": {},
   "outputs": [],
   "source": [
    "# Renomeando as variáveis assists, totalrebounds e team(no dataframe awayCumStats)\n",
    "homeCumStats = homeCumStats.rename(columns={\"assists\": \"ast_home\", \"totalrebounds\": \"reb_home\", \"game\": \"game_home\"})\n",
    "awayCumStats = awayCumStats.rename(columns={\"team\": \"opponent\", \"assists\": \"ast_away\", \n",
    "                                            \"totalrebounds\": \"reb_away\", \"game\": \"game_away\"})"
   ]
  },
  {
   "cell_type": "code",
   "execution_count": 55,
   "metadata": {},
   "outputs": [
    {
     "data": {
      "text/html": [
       "<div>\n",
       "<style scoped>\n",
       "    .dataframe tbody tr th:only-of-type {\n",
       "        vertical-align: middle;\n",
       "    }\n",
       "\n",
       "    .dataframe tbody tr th {\n",
       "        vertical-align: top;\n",
       "    }\n",
       "\n",
       "    .dataframe thead th {\n",
       "        text-align: right;\n",
       "    }\n",
       "</style>\n",
       "<table border=\"1\" class=\"dataframe\">\n",
       "  <thead>\n",
       "    <tr style=\"text-align: right;\">\n",
       "      <th></th>\n",
       "      <th>team</th>\n",
       "      <th>home</th>\n",
       "      <th>ast_home</th>\n",
       "      <th>reb_home</th>\n",
       "      <th>game_home</th>\n",
       "      <th>fg_pct_home</th>\n",
       "      <th>ft_pct_home</th>\n",
       "      <th>fg3_pct_home</th>\n",
       "    </tr>\n",
       "  </thead>\n",
       "  <tbody>\n",
       "    <tr>\n",
       "      <th>0</th>\n",
       "      <td>ATL</td>\n",
       "      <td>Home</td>\n",
       "      <td>23.0</td>\n",
       "      <td>43.0</td>\n",
       "      <td>2</td>\n",
       "      <td>0.416</td>\n",
       "      <td>1.000</td>\n",
       "      <td>0.424</td>\n",
       "    </tr>\n",
       "    <tr>\n",
       "      <th>1</th>\n",
       "      <td>BOS</td>\n",
       "      <td>Home</td>\n",
       "      <td>23.0</td>\n",
       "      <td>43.0</td>\n",
       "      <td>2</td>\n",
       "      <td>0.429</td>\n",
       "      <td>0.524</td>\n",
       "      <td>0.393</td>\n",
       "    </tr>\n",
       "    <tr>\n",
       "      <th>2</th>\n",
       "      <td>BRK</td>\n",
       "      <td>Home</td>\n",
       "      <td>22.0</td>\n",
       "      <td>48.0</td>\n",
       "      <td>2</td>\n",
       "      <td>0.500</td>\n",
       "      <td>0.714</td>\n",
       "      <td>0.333</td>\n",
       "    </tr>\n",
       "    <tr>\n",
       "      <th>3</th>\n",
       "      <td>CHI</td>\n",
       "      <td>Home</td>\n",
       "      <td>18.0</td>\n",
       "      <td>48.0</td>\n",
       "      <td>2</td>\n",
       "      <td>0.378</td>\n",
       "      <td>0.778</td>\n",
       "      <td>0.286</td>\n",
       "    </tr>\n",
       "    <tr>\n",
       "      <th>4</th>\n",
       "      <td>CHO</td>\n",
       "      <td>Home</td>\n",
       "      <td>17.0</td>\n",
       "      <td>57.0</td>\n",
       "      <td>2</td>\n",
       "      <td>0.430</td>\n",
       "      <td>0.800</td>\n",
       "      <td>0.306</td>\n",
       "    </tr>\n",
       "  </tbody>\n",
       "</table>\n",
       "</div>"
      ],
      "text/plain": [
       "  team  home  ast_home  reb_home game_home  fg_pct_home  ft_pct_home  \\\n",
       "0  ATL  Home      23.0      43.0         2        0.416        1.000   \n",
       "1  BOS  Home      23.0      43.0         2        0.429        0.524   \n",
       "2  BRK  Home      22.0      48.0         2        0.500        0.714   \n",
       "3  CHI  Home      18.0      48.0         2        0.378        0.778   \n",
       "4  CHO  Home      17.0      57.0         2        0.430        0.800   \n",
       "\n",
       "   fg3_pct_home  \n",
       "0         0.424  \n",
       "1         0.393  \n",
       "2         0.333  \n",
       "3         0.286  \n",
       "4         0.306  "
      ]
     },
     "execution_count": 55,
     "metadata": {},
     "output_type": "execute_result"
    }
   ],
   "source": [
    "# Visualizando primeiros registros do dataframe homeCumStats concluído (Relatório: Figura 21)\n",
    "homeCumStats.head()"
   ]
  },
  {
   "cell_type": "code",
   "execution_count": 56,
   "metadata": {},
   "outputs": [
    {
     "data": {
      "text/html": [
       "<div>\n",
       "<style scoped>\n",
       "    .dataframe tbody tr th:only-of-type {\n",
       "        vertical-align: middle;\n",
       "    }\n",
       "\n",
       "    .dataframe tbody tr th {\n",
       "        vertical-align: top;\n",
       "    }\n",
       "\n",
       "    .dataframe thead th {\n",
       "        text-align: right;\n",
       "    }\n",
       "</style>\n",
       "<table border=\"1\" class=\"dataframe\">\n",
       "  <thead>\n",
       "    <tr style=\"text-align: right;\">\n",
       "      <th></th>\n",
       "      <th>opponent</th>\n",
       "      <th>home</th>\n",
       "      <th>ast_away</th>\n",
       "      <th>reb_away</th>\n",
       "      <th>game_away</th>\n",
       "      <th>fg_pct_away</th>\n",
       "      <th>ft_pct_away</th>\n",
       "      <th>fg3_pct_away</th>\n",
       "    </tr>\n",
       "  </thead>\n",
       "  <tbody>\n",
       "    <tr>\n",
       "      <th>0</th>\n",
       "      <td>ATL</td>\n",
       "      <td>Away</td>\n",
       "      <td>20.0</td>\n",
       "      <td>50.0</td>\n",
       "      <td>2</td>\n",
       "      <td>0.511</td>\n",
       "      <td>0.800</td>\n",
       "      <td>0.500</td>\n",
       "    </tr>\n",
       "    <tr>\n",
       "      <th>1</th>\n",
       "      <td>BOS</td>\n",
       "      <td>Away</td>\n",
       "      <td>24.0</td>\n",
       "      <td>46.0</td>\n",
       "      <td>2</td>\n",
       "      <td>0.409</td>\n",
       "      <td>0.760</td>\n",
       "      <td>0.250</td>\n",
       "    </tr>\n",
       "    <tr>\n",
       "      <th>2</th>\n",
       "      <td>BRK</td>\n",
       "      <td>Away</td>\n",
       "      <td>22.0</td>\n",
       "      <td>43.0</td>\n",
       "      <td>2</td>\n",
       "      <td>0.479</td>\n",
       "      <td>0.906</td>\n",
       "      <td>0.400</td>\n",
       "    </tr>\n",
       "    <tr>\n",
       "      <th>3</th>\n",
       "      <td>CHI</td>\n",
       "      <td>Away</td>\n",
       "      <td>22.0</td>\n",
       "      <td>39.0</td>\n",
       "      <td>2</td>\n",
       "      <td>0.416</td>\n",
       "      <td>0.842</td>\n",
       "      <td>0.312</td>\n",
       "    </tr>\n",
       "    <tr>\n",
       "      <th>4</th>\n",
       "      <td>CHO</td>\n",
       "      <td>Away</td>\n",
       "      <td>16.0</td>\n",
       "      <td>47.0</td>\n",
       "      <td>2</td>\n",
       "      <td>0.397</td>\n",
       "      <td>0.793</td>\n",
       "      <td>0.300</td>\n",
       "    </tr>\n",
       "  </tbody>\n",
       "</table>\n",
       "</div>"
      ],
      "text/plain": [
       "  opponent  home  ast_away  reb_away game_away  fg_pct_away  ft_pct_away  \\\n",
       "0      ATL  Away      20.0      50.0         2        0.511        0.800   \n",
       "1      BOS  Away      24.0      46.0         2        0.409        0.760   \n",
       "2      BRK  Away      22.0      43.0         2        0.479        0.906   \n",
       "3      CHI  Away      22.0      39.0         2        0.416        0.842   \n",
       "4      CHO  Away      16.0      47.0         2        0.397        0.793   \n",
       "\n",
       "   fg3_pct_away  \n",
       "0         0.500  \n",
       "1         0.250  \n",
       "2         0.400  \n",
       "3         0.312  \n",
       "4         0.300  "
      ]
     },
     "execution_count": 56,
     "metadata": {},
     "output_type": "execute_result"
    }
   ],
   "source": [
    "# Visualizando primeiros registros do dataframe awayCumStats concluído (Relatório: Figura 22)\n",
    "awayCumStats.head()"
   ]
  },
  {
   "cell_type": "markdown",
   "metadata": {},
   "source": [
    "Com os índices acumulados a cada rodada devidamente calculados, precisamos agora preparar o subconjunto 1 para combiná-los novamente em uma única base."
   ]
  },
  {
   "cell_type": "code",
   "execution_count": 57,
   "metadata": {},
   "outputs": [
    {
     "data": {
      "text/html": [
       "<div>\n",
       "<style scoped>\n",
       "    .dataframe tbody tr th:only-of-type {\n",
       "        vertical-align: middle;\n",
       "    }\n",
       "\n",
       "    .dataframe tbody tr th {\n",
       "        vertical-align: top;\n",
       "    }\n",
       "\n",
       "    .dataframe thead th {\n",
       "        text-align: right;\n",
       "    }\n",
       "</style>\n",
       "<table border=\"1\" class=\"dataframe\">\n",
       "  <thead>\n",
       "    <tr style=\"text-align: right;\">\n",
       "      <th></th>\n",
       "      <th>season</th>\n",
       "      <th>date</th>\n",
       "      <th>team</th>\n",
       "      <th>opponent</th>\n",
       "      <th>winorloss</th>\n",
       "    </tr>\n",
       "  </thead>\n",
       "  <tbody>\n",
       "    <tr>\n",
       "      <th>0</th>\n",
       "      <td>2017</td>\n",
       "      <td>2017-10-27</td>\n",
       "      <td>ATL</td>\n",
       "      <td>DEN</td>\n",
       "      <td>L</td>\n",
       "    </tr>\n",
       "    <tr>\n",
       "      <th>1</th>\n",
       "      <td>2017</td>\n",
       "      <td>2017-10-29</td>\n",
       "      <td>ATL</td>\n",
       "      <td>MIL</td>\n",
       "      <td>L</td>\n",
       "    </tr>\n",
       "    <tr>\n",
       "      <th>2</th>\n",
       "      <td>2017</td>\n",
       "      <td>2017-11-03</td>\n",
       "      <td>ATL</td>\n",
       "      <td>HOU</td>\n",
       "      <td>L</td>\n",
       "    </tr>\n",
       "    <tr>\n",
       "      <th>3</th>\n",
       "      <td>2017</td>\n",
       "      <td>2017-11-06</td>\n",
       "      <td>ATL</td>\n",
       "      <td>BOS</td>\n",
       "      <td>L</td>\n",
       "    </tr>\n",
       "    <tr>\n",
       "      <th>4</th>\n",
       "      <td>2017</td>\n",
       "      <td>2017-11-15</td>\n",
       "      <td>ATL</td>\n",
       "      <td>SAC</td>\n",
       "      <td>W</td>\n",
       "    </tr>\n",
       "  </tbody>\n",
       "</table>\n",
       "</div>"
      ],
      "text/plain": [
       "  season        date team opponent winorloss\n",
       "0   2017  2017-10-27  ATL      DEN         L\n",
       "1   2017  2017-10-29  ATL      MIL         L\n",
       "2   2017  2017-11-03  ATL      HOU         L\n",
       "3   2017  2017-11-06  ATL      BOS         L\n",
       "4   2017  2017-11-15  ATL      SAC         W"
      ]
     },
     "execution_count": 57,
     "metadata": {},
     "output_type": "execute_result"
    }
   ],
   "source": [
    "# Visualizando mais uma vez os primeiros registros do dataframe main2017\n",
    "main2017.head()"
   ]
  },
  {
   "cell_type": "markdown",
   "metadata": {},
   "source": [
    "Assim como fizemos nos subconjuntos 2 e 3 para os cálculos, vamos criar partições em uma variável auxiliar para identificar o número da rodada (game) de cada equipe, anfitriã e visitante, permitindo assim a correta combinação dos índices."
   ]
  },
  {
   "cell_type": "code",
   "execution_count": 58,
   "metadata": {},
   "outputs": [],
   "source": [
    "# Ordenando o conjunto pela equipe anfitriã e criando partição em um novo dataframe\n",
    "final2017 = main2017.sort_values(['team', 'date']).reset_index(drop=True)\n",
    "final2017 = final2017.assign(game_home=main2017.groupby(['team']).cumcount() + 1)\n",
    "\n",
    "# Reordenando o conjunto pela equipe visitante e criando partição\n",
    "final2017 = final2017.sort_values(['opponent', 'date']).reset_index(drop=True)\n",
    "final2017 = final2017.assign(game_away=final2017.groupby(['opponent']).cumcount() + 1)\n",
    "\n",
    "# Reaordenando o conjunto pela data e reiniciando os indexadores\n",
    "final2017 = final2017.sort_values(['date', 'team', 'opponent']).reset_index(drop=True)"
   ]
  },
  {
   "cell_type": "code",
   "execution_count": 59,
   "metadata": {},
   "outputs": [
    {
     "data": {
      "text/html": [
       "<div>\n",
       "<style scoped>\n",
       "    .dataframe tbody tr th:only-of-type {\n",
       "        vertical-align: middle;\n",
       "    }\n",
       "\n",
       "    .dataframe tbody tr th {\n",
       "        vertical-align: top;\n",
       "    }\n",
       "\n",
       "    .dataframe thead th {\n",
       "        text-align: right;\n",
       "    }\n",
       "</style>\n",
       "<table border=\"1\" class=\"dataframe\">\n",
       "  <thead>\n",
       "    <tr style=\"text-align: right;\">\n",
       "      <th></th>\n",
       "      <th>season</th>\n",
       "      <th>date</th>\n",
       "      <th>team</th>\n",
       "      <th>opponent</th>\n",
       "      <th>winorloss</th>\n",
       "      <th>game_home</th>\n",
       "      <th>game_away</th>\n",
       "    </tr>\n",
       "  </thead>\n",
       "  <tbody>\n",
       "    <tr>\n",
       "      <th>0</th>\n",
       "      <td>2017</td>\n",
       "      <td>2017-10-17</td>\n",
       "      <td>CLE</td>\n",
       "      <td>BOS</td>\n",
       "      <td>W</td>\n",
       "      <td>1</td>\n",
       "      <td>1</td>\n",
       "    </tr>\n",
       "    <tr>\n",
       "      <th>1</th>\n",
       "      <td>2017</td>\n",
       "      <td>2017-10-17</td>\n",
       "      <td>GSW</td>\n",
       "      <td>HOU</td>\n",
       "      <td>L</td>\n",
       "      <td>1</td>\n",
       "      <td>1</td>\n",
       "    </tr>\n",
       "    <tr>\n",
       "      <th>2</th>\n",
       "      <td>2017</td>\n",
       "      <td>2017-10-18</td>\n",
       "      <td>BOS</td>\n",
       "      <td>MIL</td>\n",
       "      <td>L</td>\n",
       "      <td>1</td>\n",
       "      <td>1</td>\n",
       "    </tr>\n",
       "    <tr>\n",
       "      <th>3</th>\n",
       "      <td>2017</td>\n",
       "      <td>2017-10-18</td>\n",
       "      <td>DAL</td>\n",
       "      <td>ATL</td>\n",
       "      <td>L</td>\n",
       "      <td>1</td>\n",
       "      <td>1</td>\n",
       "    </tr>\n",
       "    <tr>\n",
       "      <th>4</th>\n",
       "      <td>2017</td>\n",
       "      <td>2017-10-18</td>\n",
       "      <td>DET</td>\n",
       "      <td>CHO</td>\n",
       "      <td>W</td>\n",
       "      <td>1</td>\n",
       "      <td>1</td>\n",
       "    </tr>\n",
       "  </tbody>\n",
       "</table>\n",
       "</div>"
      ],
      "text/plain": [
       "  season        date team opponent winorloss  game_home  game_away\n",
       "0   2017  2017-10-17  CLE      BOS         W          1          1\n",
       "1   2017  2017-10-17  GSW      HOU         L          1          1\n",
       "2   2017  2017-10-18  BOS      MIL         L          1          1\n",
       "3   2017  2017-10-18  DAL      ATL         L          1          1\n",
       "4   2017  2017-10-18  DET      CHO         W          1          1"
      ]
     },
     "execution_count": 59,
     "metadata": {},
     "output_type": "execute_result"
    }
   ],
   "source": [
    "# Visualizando os primeiros registros do dataframe final2017\n",
    "final2017.head()"
   ]
  },
  {
   "cell_type": "markdown",
   "metadata": {},
   "source": [
    "Ainda, vamos retirar aquelas que são as primeiras partidas de cada equipe, pois sendo a primeira rodada não há números prévios na temporada para efetuar uma previsão."
   ]
  },
  {
   "cell_type": "code",
   "execution_count": 60,
   "metadata": {},
   "outputs": [
    {
     "data": {
      "text/html": [
       "<div>\n",
       "<style scoped>\n",
       "    .dataframe tbody tr th:only-of-type {\n",
       "        vertical-align: middle;\n",
       "    }\n",
       "\n",
       "    .dataframe tbody tr th {\n",
       "        vertical-align: top;\n",
       "    }\n",
       "\n",
       "    .dataframe thead th {\n",
       "        text-align: right;\n",
       "    }\n",
       "</style>\n",
       "<table border=\"1\" class=\"dataframe\">\n",
       "  <thead>\n",
       "    <tr style=\"text-align: right;\">\n",
       "      <th></th>\n",
       "      <th>season</th>\n",
       "      <th>date</th>\n",
       "      <th>team</th>\n",
       "      <th>opponent</th>\n",
       "      <th>winorloss</th>\n",
       "      <th>game_home</th>\n",
       "      <th>game_away</th>\n",
       "    </tr>\n",
       "  </thead>\n",
       "  <tbody>\n",
       "    <tr>\n",
       "      <th>19</th>\n",
       "      <td>2017</td>\n",
       "      <td>2017-10-20</td>\n",
       "      <td>IND</td>\n",
       "      <td>POR</td>\n",
       "      <td>L</td>\n",
       "      <td>2</td>\n",
       "      <td>2</td>\n",
       "    </tr>\n",
       "    <tr>\n",
       "      <th>27</th>\n",
       "      <td>2017</td>\n",
       "      <td>2017-10-21</td>\n",
       "      <td>CLE</td>\n",
       "      <td>ORL</td>\n",
       "      <td>L</td>\n",
       "      <td>2</td>\n",
       "      <td>2</td>\n",
       "    </tr>\n",
       "    <tr>\n",
       "      <th>31</th>\n",
       "      <td>2017</td>\n",
       "      <td>2017-10-21</td>\n",
       "      <td>MEM</td>\n",
       "      <td>GSW</td>\n",
       "      <td>W</td>\n",
       "      <td>2</td>\n",
       "      <td>2</td>\n",
       "    </tr>\n",
       "    <tr>\n",
       "      <th>33</th>\n",
       "      <td>2017</td>\n",
       "      <td>2017-10-21</td>\n",
       "      <td>MIL</td>\n",
       "      <td>POR</td>\n",
       "      <td>W</td>\n",
       "      <td>2</td>\n",
       "      <td>3</td>\n",
       "    </tr>\n",
       "    <tr>\n",
       "      <th>35</th>\n",
       "      <td>2017</td>\n",
       "      <td>2017-10-21</td>\n",
       "      <td>TOR</td>\n",
       "      <td>PHI</td>\n",
       "      <td>W</td>\n",
       "      <td>2</td>\n",
       "      <td>2</td>\n",
       "    </tr>\n",
       "  </tbody>\n",
       "</table>\n",
       "</div>"
      ],
      "text/plain": [
       "   season        date team opponent winorloss  game_home  game_away\n",
       "19   2017  2017-10-20  IND      POR         L          2          2\n",
       "27   2017  2017-10-21  CLE      ORL         L          2          2\n",
       "31   2017  2017-10-21  MEM      GSW         W          2          2\n",
       "33   2017  2017-10-21  MIL      POR         W          2          3\n",
       "35   2017  2017-10-21  TOR      PHI         W          2          2"
      ]
     },
     "execution_count": 60,
     "metadata": {},
     "output_type": "execute_result"
    }
   ],
   "source": [
    "# Excluindo jogos que competem a primeira partida de uma equipe, dentro e fora de sua arena (Relatório: Figura 23)\n",
    "final2017 = final2017[(final2017.game_home != 1) & (final2017.game_away != 1)]\n",
    "final2017.head()"
   ]
  },
  {
   "cell_type": "markdown",
   "metadata": {},
   "source": [
    "Subconjuntos prontos, é hora de combiná-los novamente. São duas junções, uma para que tenhamos agregados os índices das equipes anfitriãs e outra para os índices da equipe visitante, ambos de acordo com a rodada de cada um deles. Sendo assim, as chaves para a junção serão os nomes das equipes (“team” e “opponent\") e o número do respectivo jogo (“game_home” e “game_away”). "
   ]
  },
  {
   "cell_type": "code",
   "execution_count": 61,
   "metadata": {},
   "outputs": [
    {
     "data": {
      "text/html": [
       "<div>\n",
       "<style scoped>\n",
       "    .dataframe tbody tr th:only-of-type {\n",
       "        vertical-align: middle;\n",
       "    }\n",
       "\n",
       "    .dataframe tbody tr th {\n",
       "        vertical-align: top;\n",
       "    }\n",
       "\n",
       "    .dataframe thead th {\n",
       "        text-align: right;\n",
       "    }\n",
       "</style>\n",
       "<table border=\"1\" class=\"dataframe\">\n",
       "  <thead>\n",
       "    <tr style=\"text-align: right;\">\n",
       "      <th></th>\n",
       "      <th>season</th>\n",
       "      <th>date</th>\n",
       "      <th>team</th>\n",
       "      <th>opponent</th>\n",
       "      <th>winorloss</th>\n",
       "      <th>game_home</th>\n",
       "      <th>game_away</th>\n",
       "      <th>home_x</th>\n",
       "      <th>ast_home</th>\n",
       "      <th>reb_home</th>\n",
       "      <th>fg_pct_home</th>\n",
       "      <th>ft_pct_home</th>\n",
       "      <th>fg3_pct_home</th>\n",
       "      <th>home_y</th>\n",
       "      <th>ast_away</th>\n",
       "      <th>reb_away</th>\n",
       "      <th>fg_pct_away</th>\n",
       "      <th>ft_pct_away</th>\n",
       "      <th>fg3_pct_away</th>\n",
       "    </tr>\n",
       "  </thead>\n",
       "  <tbody>\n",
       "    <tr>\n",
       "      <th>0</th>\n",
       "      <td>2017</td>\n",
       "      <td>2017-10-20</td>\n",
       "      <td>IND</td>\n",
       "      <td>POR</td>\n",
       "      <td>L</td>\n",
       "      <td>2</td>\n",
       "      <td>2</td>\n",
       "      <td>Home</td>\n",
       "      <td>29.0</td>\n",
       "      <td>47.0</td>\n",
       "      <td>0.520</td>\n",
       "      <td>0.781</td>\n",
       "      <td>0.265</td>\n",
       "      <td>Away</td>\n",
       "      <td>22.0</td>\n",
       "      <td>57.0</td>\n",
       "      <td>0.489</td>\n",
       "      <td>0.786</td>\n",
       "      <td>0.583</td>\n",
       "    </tr>\n",
       "    <tr>\n",
       "      <th>1</th>\n",
       "      <td>2017</td>\n",
       "      <td>2017-10-21</td>\n",
       "      <td>CLE</td>\n",
       "      <td>ORL</td>\n",
       "      <td>L</td>\n",
       "      <td>2</td>\n",
       "      <td>2</td>\n",
       "      <td>Home</td>\n",
       "      <td>19.0</td>\n",
       "      <td>50.0</td>\n",
       "      <td>0.458</td>\n",
       "      <td>0.840</td>\n",
       "      <td>0.227</td>\n",
       "      <td>Away</td>\n",
       "      <td>30.0</td>\n",
       "      <td>40.0</td>\n",
       "      <td>0.506</td>\n",
       "      <td>0.867</td>\n",
       "      <td>0.545</td>\n",
       "    </tr>\n",
       "    <tr>\n",
       "      <th>2</th>\n",
       "      <td>2017</td>\n",
       "      <td>2017-10-21</td>\n",
       "      <td>MEM</td>\n",
       "      <td>GSW</td>\n",
       "      <td>W</td>\n",
       "      <td>2</td>\n",
       "      <td>2</td>\n",
       "      <td>Home</td>\n",
       "      <td>19.0</td>\n",
       "      <td>45.0</td>\n",
       "      <td>0.424</td>\n",
       "      <td>0.571</td>\n",
       "      <td>0.310</td>\n",
       "      <td>Away</td>\n",
       "      <td>29.0</td>\n",
       "      <td>49.0</td>\n",
       "      <td>0.516</td>\n",
       "      <td>0.800</td>\n",
       "      <td>0.450</td>\n",
       "    </tr>\n",
       "    <tr>\n",
       "      <th>3</th>\n",
       "      <td>2017</td>\n",
       "      <td>2017-10-21</td>\n",
       "      <td>MIL</td>\n",
       "      <td>POR</td>\n",
       "      <td>W</td>\n",
       "      <td>2</td>\n",
       "      <td>3</td>\n",
       "      <td>Home</td>\n",
       "      <td>23.0</td>\n",
       "      <td>30.0</td>\n",
       "      <td>0.463</td>\n",
       "      <td>0.833</td>\n",
       "      <td>0.314</td>\n",
       "      <td>Away</td>\n",
       "      <td>20.5</td>\n",
       "      <td>54.0</td>\n",
       "      <td>0.486</td>\n",
       "      <td>0.778</td>\n",
       "      <td>0.535</td>\n",
       "    </tr>\n",
       "    <tr>\n",
       "      <th>4</th>\n",
       "      <td>2017</td>\n",
       "      <td>2017-10-21</td>\n",
       "      <td>TOR</td>\n",
       "      <td>PHI</td>\n",
       "      <td>W</td>\n",
       "      <td>2</td>\n",
       "      <td>2</td>\n",
       "      <td>Home</td>\n",
       "      <td>26.0</td>\n",
       "      <td>49.0</td>\n",
       "      <td>0.470</td>\n",
       "      <td>0.929</td>\n",
       "      <td>0.448</td>\n",
       "      <td>Away</td>\n",
       "      <td>25.0</td>\n",
       "      <td>48.0</td>\n",
       "      <td>0.462</td>\n",
       "      <td>0.737</td>\n",
       "      <td>0.429</td>\n",
       "    </tr>\n",
       "  </tbody>\n",
       "</table>\n",
       "</div>"
      ],
      "text/plain": [
       "  season        date team opponent winorloss game_home game_away home_x  \\\n",
       "0   2017  2017-10-20  IND      POR         L         2         2   Home   \n",
       "1   2017  2017-10-21  CLE      ORL         L         2         2   Home   \n",
       "2   2017  2017-10-21  MEM      GSW         W         2         2   Home   \n",
       "3   2017  2017-10-21  MIL      POR         W         2         3   Home   \n",
       "4   2017  2017-10-21  TOR      PHI         W         2         2   Home   \n",
       "\n",
       "   ast_home  reb_home  fg_pct_home  ft_pct_home  fg3_pct_home home_y  \\\n",
       "0      29.0      47.0        0.520        0.781         0.265   Away   \n",
       "1      19.0      50.0        0.458        0.840         0.227   Away   \n",
       "2      19.0      45.0        0.424        0.571         0.310   Away   \n",
       "3      23.0      30.0        0.463        0.833         0.314   Away   \n",
       "4      26.0      49.0        0.470        0.929         0.448   Away   \n",
       "\n",
       "   ast_away  reb_away  fg_pct_away  ft_pct_away  fg3_pct_away  \n",
       "0      22.0      57.0        0.489        0.786         0.583  \n",
       "1      30.0      40.0        0.506        0.867         0.545  \n",
       "2      29.0      49.0        0.516        0.800         0.450  \n",
       "3      20.5      54.0        0.486        0.778         0.535  \n",
       "4      25.0      48.0        0.462        0.737         0.429  "
      ]
     },
     "execution_count": 61,
     "metadata": {},
     "output_type": "execute_result"
    }
   ],
   "source": [
    "# Unificando ao dataframe final2017 os índices das equipes anfitriã e visitante\n",
    "dfNewSeason = pd.merge(final2017, homeCumStats, how='left', on=['team', 'game_home'])\n",
    "dfNewSeason = pd.merge(dfNewSeason, awayCumStats, how='left', on=['opponent', 'game_away'])\n",
    "dfNewSeason.head()"
   ]
  },
  {
   "cell_type": "markdown",
   "metadata": {},
   "source": [
    "Por fim, vamos renomear as colunas necessárias, descartar as auxiliares e transformar a variável resposta de “W” e “L” para “1” e “0”, assim nossa Base de Previsões terá exatamente o mesmo layout da Base Histórica."
   ]
  },
  {
   "cell_type": "code",
   "execution_count": 62,
   "metadata": {},
   "outputs": [],
   "source": [
    "# Renomeando as variáveis team, opponent e winorloss\n",
    "dfNewSeason = dfNewSeason.rename(columns={\"team\": \"home\", \n",
    "                                          \"opponent\": \"away\", \n",
    "                                          \"winorloss\": \"home_team_wins\"})"
   ]
  },
  {
   "cell_type": "code",
   "execution_count": 63,
   "metadata": {},
   "outputs": [],
   "source": [
    "# Transformando a coluna \"home_team_wins\" em 1 ou 0\n",
    "dfNewSeason['home_team_wins'] = np.where(dfNewSeason['home_team_wins'] == \"W\", 1, 0)"
   ]
  },
  {
   "cell_type": "code",
   "execution_count": 64,
   "metadata": {},
   "outputs": [],
   "source": [
    "# Selecionando e organizando as variáveis da mesma forma que a base histórica (dfGames)\n",
    "dfNewSeason = dfNewSeason[dfGames.columns]"
   ]
  },
  {
   "cell_type": "code",
   "execution_count": 65,
   "metadata": {},
   "outputs": [
    {
     "data": {
      "text/html": [
       "<div>\n",
       "<style scoped>\n",
       "    .dataframe tbody tr th:only-of-type {\n",
       "        vertical-align: middle;\n",
       "    }\n",
       "\n",
       "    .dataframe tbody tr th {\n",
       "        vertical-align: top;\n",
       "    }\n",
       "\n",
       "    .dataframe thead th {\n",
       "        text-align: right;\n",
       "    }\n",
       "</style>\n",
       "<table border=\"1\" class=\"dataframe\">\n",
       "  <thead>\n",
       "    <tr style=\"text-align: right;\">\n",
       "      <th></th>\n",
       "      <th>season</th>\n",
       "      <th>home</th>\n",
       "      <th>away</th>\n",
       "      <th>fg_pct_home</th>\n",
       "      <th>ft_pct_home</th>\n",
       "      <th>fg3_pct_home</th>\n",
       "      <th>ast_home</th>\n",
       "      <th>reb_home</th>\n",
       "      <th>fg_pct_away</th>\n",
       "      <th>ft_pct_away</th>\n",
       "      <th>fg3_pct_away</th>\n",
       "      <th>ast_away</th>\n",
       "      <th>reb_away</th>\n",
       "      <th>home_team_wins</th>\n",
       "    </tr>\n",
       "  </thead>\n",
       "  <tbody>\n",
       "    <tr>\n",
       "      <th>0</th>\n",
       "      <td>2017</td>\n",
       "      <td>IND</td>\n",
       "      <td>POR</td>\n",
       "      <td>0.520</td>\n",
       "      <td>0.781</td>\n",
       "      <td>0.265</td>\n",
       "      <td>29.0</td>\n",
       "      <td>47.0</td>\n",
       "      <td>0.489</td>\n",
       "      <td>0.786</td>\n",
       "      <td>0.583</td>\n",
       "      <td>22.0</td>\n",
       "      <td>57.0</td>\n",
       "      <td>0</td>\n",
       "    </tr>\n",
       "    <tr>\n",
       "      <th>1</th>\n",
       "      <td>2017</td>\n",
       "      <td>CLE</td>\n",
       "      <td>ORL</td>\n",
       "      <td>0.458</td>\n",
       "      <td>0.840</td>\n",
       "      <td>0.227</td>\n",
       "      <td>19.0</td>\n",
       "      <td>50.0</td>\n",
       "      <td>0.506</td>\n",
       "      <td>0.867</td>\n",
       "      <td>0.545</td>\n",
       "      <td>30.0</td>\n",
       "      <td>40.0</td>\n",
       "      <td>0</td>\n",
       "    </tr>\n",
       "    <tr>\n",
       "      <th>2</th>\n",
       "      <td>2017</td>\n",
       "      <td>MEM</td>\n",
       "      <td>GSW</td>\n",
       "      <td>0.424</td>\n",
       "      <td>0.571</td>\n",
       "      <td>0.310</td>\n",
       "      <td>19.0</td>\n",
       "      <td>45.0</td>\n",
       "      <td>0.516</td>\n",
       "      <td>0.800</td>\n",
       "      <td>0.450</td>\n",
       "      <td>29.0</td>\n",
       "      <td>49.0</td>\n",
       "      <td>1</td>\n",
       "    </tr>\n",
       "    <tr>\n",
       "      <th>3</th>\n",
       "      <td>2017</td>\n",
       "      <td>MIL</td>\n",
       "      <td>POR</td>\n",
       "      <td>0.463</td>\n",
       "      <td>0.833</td>\n",
       "      <td>0.314</td>\n",
       "      <td>23.0</td>\n",
       "      <td>30.0</td>\n",
       "      <td>0.486</td>\n",
       "      <td>0.778</td>\n",
       "      <td>0.535</td>\n",
       "      <td>20.5</td>\n",
       "      <td>54.0</td>\n",
       "      <td>1</td>\n",
       "    </tr>\n",
       "    <tr>\n",
       "      <th>4</th>\n",
       "      <td>2017</td>\n",
       "      <td>TOR</td>\n",
       "      <td>PHI</td>\n",
       "      <td>0.470</td>\n",
       "      <td>0.929</td>\n",
       "      <td>0.448</td>\n",
       "      <td>26.0</td>\n",
       "      <td>49.0</td>\n",
       "      <td>0.462</td>\n",
       "      <td>0.737</td>\n",
       "      <td>0.429</td>\n",
       "      <td>25.0</td>\n",
       "      <td>48.0</td>\n",
       "      <td>1</td>\n",
       "    </tr>\n",
       "  </tbody>\n",
       "</table>\n",
       "</div>"
      ],
      "text/plain": [
       "  season home away  fg_pct_home  ft_pct_home  fg3_pct_home  ast_home  \\\n",
       "0   2017  IND  POR        0.520        0.781         0.265      29.0   \n",
       "1   2017  CLE  ORL        0.458        0.840         0.227      19.0   \n",
       "2   2017  MEM  GSW        0.424        0.571         0.310      19.0   \n",
       "3   2017  MIL  POR        0.463        0.833         0.314      23.0   \n",
       "4   2017  TOR  PHI        0.470        0.929         0.448      26.0   \n",
       "\n",
       "   reb_home  fg_pct_away  ft_pct_away  fg3_pct_away  ast_away  reb_away  \\\n",
       "0      47.0        0.489        0.786         0.583      22.0      57.0   \n",
       "1      50.0        0.506        0.867         0.545      30.0      40.0   \n",
       "2      45.0        0.516        0.800         0.450      29.0      49.0   \n",
       "3      30.0        0.486        0.778         0.535      20.5      54.0   \n",
       "4      49.0        0.462        0.737         0.429      25.0      48.0   \n",
       "\n",
       "   home_team_wins  \n",
       "0               0  \n",
       "1               0  \n",
       "2               1  \n",
       "3               1  \n",
       "4               1  "
      ]
     },
     "execution_count": 65,
     "metadata": {},
     "output_type": "execute_result"
    }
   ],
   "source": [
    "# Visualizando os primeiros registros do dataframe dfNewSeason\n",
    "dfNewSeason.head()"
   ]
  },
  {
   "cell_type": "markdown",
   "metadata": {},
   "source": [
    "Citando a Base Histórica, nesta também aplicamos um último filtro, que é a retirada dos dados da temporada 2017 ou posterior, uma vez que esta será a temporada de teste."
   ]
  },
  {
   "cell_type": "code",
   "execution_count": 66,
   "metadata": {},
   "outputs": [
    {
     "data": {
      "text/plain": [
       "[2003,\n",
       " 2004,\n",
       " 2005,\n",
       " 2006,\n",
       " 2007,\n",
       " 2008,\n",
       " 2009,\n",
       " 2010,\n",
       " 2011,\n",
       " 2012,\n",
       " 2013,\n",
       " 2014,\n",
       " 2015,\n",
       " 2016]"
      ]
     },
     "execution_count": 66,
     "metadata": {},
     "output_type": "execute_result"
    }
   ],
   "source": [
    "# Filtrando o dataframe dfGames, apenas temporadas anteriores a 2017\n",
    "dfGames = dfGames[(dfGames.season < 2017)].sort_values(['season']).reset_index(drop=True)\n",
    "sorted(dfGames.season.unique())"
   ]
  },
  {
   "cell_type": "code",
   "execution_count": 67,
   "metadata": {},
   "outputs": [
    {
     "data": {
      "text/html": [
       "<div>\n",
       "<style scoped>\n",
       "    .dataframe tbody tr th:only-of-type {\n",
       "        vertical-align: middle;\n",
       "    }\n",
       "\n",
       "    .dataframe tbody tr th {\n",
       "        vertical-align: top;\n",
       "    }\n",
       "\n",
       "    .dataframe thead th {\n",
       "        text-align: right;\n",
       "    }\n",
       "</style>\n",
       "<table border=\"1\" class=\"dataframe\">\n",
       "  <thead>\n",
       "    <tr style=\"text-align: right;\">\n",
       "      <th></th>\n",
       "      <th>season</th>\n",
       "      <th>home</th>\n",
       "      <th>away</th>\n",
       "      <th>fg_pct_home</th>\n",
       "      <th>ft_pct_home</th>\n",
       "      <th>fg3_pct_home</th>\n",
       "      <th>ast_home</th>\n",
       "      <th>reb_home</th>\n",
       "      <th>fg_pct_away</th>\n",
       "      <th>ft_pct_away</th>\n",
       "      <th>fg3_pct_away</th>\n",
       "      <th>ast_away</th>\n",
       "      <th>reb_away</th>\n",
       "      <th>home_team_wins</th>\n",
       "    </tr>\n",
       "  </thead>\n",
       "  <tbody>\n",
       "    <tr>\n",
       "      <th>0</th>\n",
       "      <td>2003</td>\n",
       "      <td>MIL</td>\n",
       "      <td>POR</td>\n",
       "      <td>0.494</td>\n",
       "      <td>0.762</td>\n",
       "      <td>0.500</td>\n",
       "      <td>31.0</td>\n",
       "      <td>35.0</td>\n",
       "      <td>0.483</td>\n",
       "      <td>1.000</td>\n",
       "      <td>0.250</td>\n",
       "      <td>24.0</td>\n",
       "      <td>42.0</td>\n",
       "      <td>0</td>\n",
       "    </tr>\n",
       "    <tr>\n",
       "      <th>1</th>\n",
       "      <td>2003</td>\n",
       "      <td>CHI</td>\n",
       "      <td>GSW</td>\n",
       "      <td>0.390</td>\n",
       "      <td>0.576</td>\n",
       "      <td>0.444</td>\n",
       "      <td>22.0</td>\n",
       "      <td>60.0</td>\n",
       "      <td>0.273</td>\n",
       "      <td>0.633</td>\n",
       "      <td>0.308</td>\n",
       "      <td>18.0</td>\n",
       "      <td>56.0</td>\n",
       "      <td>1</td>\n",
       "    </tr>\n",
       "    <tr>\n",
       "      <th>2</th>\n",
       "      <td>2003</td>\n",
       "      <td>BKN</td>\n",
       "      <td>MIA</td>\n",
       "      <td>0.382</td>\n",
       "      <td>0.755</td>\n",
       "      <td>0.188</td>\n",
       "      <td>16.0</td>\n",
       "      <td>48.0</td>\n",
       "      <td>0.380</td>\n",
       "      <td>0.893</td>\n",
       "      <td>0.467</td>\n",
       "      <td>19.0</td>\n",
       "      <td>37.0</td>\n",
       "      <td>1</td>\n",
       "    </tr>\n",
       "    <tr>\n",
       "      <th>3</th>\n",
       "      <td>2003</td>\n",
       "      <td>MEM</td>\n",
       "      <td>NOP</td>\n",
       "      <td>0.493</td>\n",
       "      <td>0.704</td>\n",
       "      <td>0.444</td>\n",
       "      <td>24.0</td>\n",
       "      <td>46.0</td>\n",
       "      <td>0.411</td>\n",
       "      <td>0.750</td>\n",
       "      <td>0.263</td>\n",
       "      <td>20.0</td>\n",
       "      <td>49.0</td>\n",
       "      <td>1</td>\n",
       "    </tr>\n",
       "    <tr>\n",
       "      <th>4</th>\n",
       "      <td>2003</td>\n",
       "      <td>LAC</td>\n",
       "      <td>NYK</td>\n",
       "      <td>0.413</td>\n",
       "      <td>0.828</td>\n",
       "      <td>0.353</td>\n",
       "      <td>16.0</td>\n",
       "      <td>39.0</td>\n",
       "      <td>0.425</td>\n",
       "      <td>0.909</td>\n",
       "      <td>0.182</td>\n",
       "      <td>18.0</td>\n",
       "      <td>39.0</td>\n",
       "      <td>1</td>\n",
       "    </tr>\n",
       "  </tbody>\n",
       "</table>\n",
       "</div>"
      ],
      "text/plain": [
       "   season home away  fg_pct_home  ft_pct_home  fg3_pct_home  ast_home  \\\n",
       "0    2003  MIL  POR        0.494        0.762         0.500      31.0   \n",
       "1    2003  CHI  GSW        0.390        0.576         0.444      22.0   \n",
       "2    2003  BKN  MIA        0.382        0.755         0.188      16.0   \n",
       "3    2003  MEM  NOP        0.493        0.704         0.444      24.0   \n",
       "4    2003  LAC  NYK        0.413        0.828         0.353      16.0   \n",
       "\n",
       "   reb_home  fg_pct_away  ft_pct_away  fg3_pct_away  ast_away  reb_away  \\\n",
       "0      35.0        0.483        1.000         0.250      24.0      42.0   \n",
       "1      60.0        0.273        0.633         0.308      18.0      56.0   \n",
       "2      48.0        0.380        0.893         0.467      19.0      37.0   \n",
       "3      46.0        0.411        0.750         0.263      20.0      49.0   \n",
       "4      39.0        0.425        0.909         0.182      18.0      39.0   \n",
       "\n",
       "   home_team_wins  \n",
       "0               0  \n",
       "1               1  \n",
       "2               1  \n",
       "3               1  \n",
       "4               1  "
      ]
     },
     "execution_count": 67,
     "metadata": {},
     "output_type": "execute_result"
    }
   ],
   "source": [
    "# Visualizando Primeiros registros da Base Histórica concluída (Relatório: Figura 24)\n",
    "dfGames.head()"
   ]
  },
  {
   "cell_type": "code",
   "execution_count": 68,
   "metadata": {},
   "outputs": [
    {
     "data": {
      "text/html": [
       "<div>\n",
       "<style scoped>\n",
       "    .dataframe tbody tr th:only-of-type {\n",
       "        vertical-align: middle;\n",
       "    }\n",
       "\n",
       "    .dataframe tbody tr th {\n",
       "        vertical-align: top;\n",
       "    }\n",
       "\n",
       "    .dataframe thead th {\n",
       "        text-align: right;\n",
       "    }\n",
       "</style>\n",
       "<table border=\"1\" class=\"dataframe\">\n",
       "  <thead>\n",
       "    <tr style=\"text-align: right;\">\n",
       "      <th></th>\n",
       "      <th>season</th>\n",
       "      <th>home</th>\n",
       "      <th>away</th>\n",
       "      <th>fg_pct_home</th>\n",
       "      <th>ft_pct_home</th>\n",
       "      <th>fg3_pct_home</th>\n",
       "      <th>ast_home</th>\n",
       "      <th>reb_home</th>\n",
       "      <th>fg_pct_away</th>\n",
       "      <th>ft_pct_away</th>\n",
       "      <th>fg3_pct_away</th>\n",
       "      <th>ast_away</th>\n",
       "      <th>reb_away</th>\n",
       "      <th>home_team_wins</th>\n",
       "    </tr>\n",
       "  </thead>\n",
       "  <tbody>\n",
       "    <tr>\n",
       "      <th>0</th>\n",
       "      <td>2017</td>\n",
       "      <td>IND</td>\n",
       "      <td>POR</td>\n",
       "      <td>0.520</td>\n",
       "      <td>0.781</td>\n",
       "      <td>0.265</td>\n",
       "      <td>29.0</td>\n",
       "      <td>47.0</td>\n",
       "      <td>0.489</td>\n",
       "      <td>0.786</td>\n",
       "      <td>0.583</td>\n",
       "      <td>22.0</td>\n",
       "      <td>57.0</td>\n",
       "      <td>0</td>\n",
       "    </tr>\n",
       "    <tr>\n",
       "      <th>1</th>\n",
       "      <td>2017</td>\n",
       "      <td>CLE</td>\n",
       "      <td>ORL</td>\n",
       "      <td>0.458</td>\n",
       "      <td>0.840</td>\n",
       "      <td>0.227</td>\n",
       "      <td>19.0</td>\n",
       "      <td>50.0</td>\n",
       "      <td>0.506</td>\n",
       "      <td>0.867</td>\n",
       "      <td>0.545</td>\n",
       "      <td>30.0</td>\n",
       "      <td>40.0</td>\n",
       "      <td>0</td>\n",
       "    </tr>\n",
       "    <tr>\n",
       "      <th>2</th>\n",
       "      <td>2017</td>\n",
       "      <td>MEM</td>\n",
       "      <td>GSW</td>\n",
       "      <td>0.424</td>\n",
       "      <td>0.571</td>\n",
       "      <td>0.310</td>\n",
       "      <td>19.0</td>\n",
       "      <td>45.0</td>\n",
       "      <td>0.516</td>\n",
       "      <td>0.800</td>\n",
       "      <td>0.450</td>\n",
       "      <td>29.0</td>\n",
       "      <td>49.0</td>\n",
       "      <td>1</td>\n",
       "    </tr>\n",
       "    <tr>\n",
       "      <th>3</th>\n",
       "      <td>2017</td>\n",
       "      <td>MIL</td>\n",
       "      <td>POR</td>\n",
       "      <td>0.463</td>\n",
       "      <td>0.833</td>\n",
       "      <td>0.314</td>\n",
       "      <td>23.0</td>\n",
       "      <td>30.0</td>\n",
       "      <td>0.486</td>\n",
       "      <td>0.778</td>\n",
       "      <td>0.535</td>\n",
       "      <td>20.5</td>\n",
       "      <td>54.0</td>\n",
       "      <td>1</td>\n",
       "    </tr>\n",
       "    <tr>\n",
       "      <th>4</th>\n",
       "      <td>2017</td>\n",
       "      <td>TOR</td>\n",
       "      <td>PHI</td>\n",
       "      <td>0.470</td>\n",
       "      <td>0.929</td>\n",
       "      <td>0.448</td>\n",
       "      <td>26.0</td>\n",
       "      <td>49.0</td>\n",
       "      <td>0.462</td>\n",
       "      <td>0.737</td>\n",
       "      <td>0.429</td>\n",
       "      <td>25.0</td>\n",
       "      <td>48.0</td>\n",
       "      <td>1</td>\n",
       "    </tr>\n",
       "  </tbody>\n",
       "</table>\n",
       "</div>"
      ],
      "text/plain": [
       "  season home away  fg_pct_home  ft_pct_home  fg3_pct_home  ast_home  \\\n",
       "0   2017  IND  POR        0.520        0.781         0.265      29.0   \n",
       "1   2017  CLE  ORL        0.458        0.840         0.227      19.0   \n",
       "2   2017  MEM  GSW        0.424        0.571         0.310      19.0   \n",
       "3   2017  MIL  POR        0.463        0.833         0.314      23.0   \n",
       "4   2017  TOR  PHI        0.470        0.929         0.448      26.0   \n",
       "\n",
       "   reb_home  fg_pct_away  ft_pct_away  fg3_pct_away  ast_away  reb_away  \\\n",
       "0      47.0        0.489        0.786         0.583      22.0      57.0   \n",
       "1      50.0        0.506        0.867         0.545      30.0      40.0   \n",
       "2      45.0        0.516        0.800         0.450      29.0      49.0   \n",
       "3      30.0        0.486        0.778         0.535      20.5      54.0   \n",
       "4      49.0        0.462        0.737         0.429      25.0      48.0   \n",
       "\n",
       "   home_team_wins  \n",
       "0               0  \n",
       "1               0  \n",
       "2               1  \n",
       "3               1  \n",
       "4               1  "
      ]
     },
     "execution_count": 68,
     "metadata": {},
     "output_type": "execute_result"
    }
   ],
   "source": [
    "# Visualizando Primeiros registros da Base de Previsões (Base de Testes) concluída (Relatório: Figura 25)\n",
    "dfNewSeason.head()"
   ]
  },
  {
   "cell_type": "markdown",
   "metadata": {},
   "source": [
    "Para finalizar nosso processo de limpeza e tratamento de dados, vamos conferir se todas as colunas presentes no dataframe dfGames estão presentes no dataframe dfNewSeason, se são todas do mesmo tipo e ajustar se necessário"
   ]
  },
  {
   "cell_type": "code",
   "execution_count": 69,
   "metadata": {},
   "outputs": [
    {
     "data": {
      "text/plain": [
       "season            False\n",
       "home               True\n",
       "away               True\n",
       "fg_pct_home        True\n",
       "ft_pct_home        True\n",
       "fg3_pct_home       True\n",
       "ast_home           True\n",
       "reb_home           True\n",
       "fg_pct_away        True\n",
       "ft_pct_away        True\n",
       "fg3_pct_away       True\n",
       "ast_away           True\n",
       "reb_away           True\n",
       "home_team_wins    False\n",
       "dtype: bool"
      ]
     },
     "execution_count": 69,
     "metadata": {},
     "output_type": "execute_result"
    }
   ],
   "source": [
    "# Verificando se dfNewSeason é identico a dfGames\n",
    "dfGames.dtypes == dfNewSeason.dtypes"
   ]
  },
  {
   "cell_type": "code",
   "execution_count": 70,
   "metadata": {},
   "outputs": [
    {
     "name": "stdout",
     "output_type": "stream",
     "text": [
      "<class 'pandas.core.frame.DataFrame'>\n",
      "RangeIndex: 19371 entries, 0 to 19370\n",
      "Data columns (total 2 columns):\n",
      "season            19371 non-null int64\n",
      "home_team_wins    19371 non-null int64\n",
      "dtypes: int64(2)\n",
      "memory usage: 302.8 KB\n"
     ]
    }
   ],
   "source": [
    "# Verificando o tipo de dado nas colunas season e home_team_wins em dfGames\n",
    "dfGames[['season', 'home_team_wins']].info()"
   ]
  },
  {
   "cell_type": "code",
   "execution_count": 71,
   "metadata": {},
   "outputs": [],
   "source": [
    "# Ajustando o tipo de dado das colunas season e home_team_wins em dfNewSeason\n",
    "dfNewSeason['season'] = dfNewSeason['season'].astype(np.int64)\n",
    "dfNewSeason['home_team_wins'] = dfNewSeason['home_team_wins'].astype(np.int64)"
   ]
  },
  {
   "cell_type": "code",
   "execution_count": 72,
   "metadata": {},
   "outputs": [
    {
     "data": {
      "text/plain": [
       "season            True\n",
       "home              True\n",
       "away              True\n",
       "fg_pct_home       True\n",
       "ft_pct_home       True\n",
       "fg3_pct_home      True\n",
       "ast_home          True\n",
       "reb_home          True\n",
       "fg_pct_away       True\n",
       "ft_pct_away       True\n",
       "fg3_pct_away      True\n",
       "ast_away          True\n",
       "reb_away          True\n",
       "home_team_wins    True\n",
       "dtype: bool"
      ]
     },
     "execution_count": 72,
     "metadata": {},
     "output_type": "execute_result"
    }
   ],
   "source": [
    "# Confirmando se dfNewSeason ficou identico a dfGames (Relatório: Figura 26)\n",
    "dfGames.dtypes == dfNewSeason.dtypes"
   ]
  },
  {
   "cell_type": "markdown",
   "metadata": {},
   "source": [
    "Finalizando a etapa de processamento e tratamento dos dados, ajustamos e comparamos os conjuntos para garantir que ambos possuam exatamente os mesmos atributos e com os mesmos tipos de dados."
   ]
  },
  {
   "cell_type": "markdown",
   "metadata": {},
   "source": [
    "## Análise e Exploração dos Dados"
   ]
  },
  {
   "cell_type": "markdown",
   "metadata": {},
   "source": [
    "Na análise exploratória vamos focar na Base Histórica que será utilizada para treinamento dos modelos, mas sempre que conveniente um comparativo, repetiremos também o procedimento na Base de Previsões. Iniciamos filtrando temporariamente os atributos qualitativos nominais, deixando os conjuntos apenas com as variáveis que usaremos como preditoras, assim como a variável resposta “home_team_wins”."
   ]
  },
  {
   "cell_type": "code",
   "execution_count": 73,
   "metadata": {},
   "outputs": [],
   "source": [
    "# Criando lista com variáveis preditoras e variável resposta (home_team_wins):\n",
    "modelColumns = ['fg_pct_home', 'ft_pct_home', 'fg3_pct_home', 'ast_home', 'reb_home', \n",
    "                'fg_pct_away', 'ft_pct_away', 'fg3_pct_away', 'ast_away', 'reb_away', \n",
    "                'home_team_wins']"
   ]
  },
  {
   "cell_type": "code",
   "execution_count": 74,
   "metadata": {},
   "outputs": [],
   "source": [
    "# Filtrando dataframes:\n",
    "modelGames = dfGames[modelColumns]\n",
    "modelNewSeason = dfNewSeason[modelColumns]"
   ]
  },
  {
   "cell_type": "markdown",
   "metadata": {},
   "source": [
    "__Descrição dos conjuntos__\n",
    "\n",
    "Primeiro verificamos as estatísticas básicas dos atributos. Visualizaremos quantidades, valores mínimos, máximos, médias, medianas, desvios padrão e quartis."
   ]
  },
  {
   "cell_type": "code",
   "execution_count": 75,
   "metadata": {},
   "outputs": [
    {
     "data": {
      "text/html": [
       "<div>\n",
       "<style scoped>\n",
       "    .dataframe tbody tr th:only-of-type {\n",
       "        vertical-align: middle;\n",
       "    }\n",
       "\n",
       "    .dataframe tbody tr th {\n",
       "        vertical-align: top;\n",
       "    }\n",
       "\n",
       "    .dataframe thead th {\n",
       "        text-align: right;\n",
       "    }\n",
       "</style>\n",
       "<table border=\"1\" class=\"dataframe\">\n",
       "  <thead>\n",
       "    <tr style=\"text-align: right;\">\n",
       "      <th></th>\n",
       "      <th>fg_pct_home</th>\n",
       "      <th>ft_pct_home</th>\n",
       "      <th>fg3_pct_home</th>\n",
       "      <th>ast_home</th>\n",
       "      <th>reb_home</th>\n",
       "      <th>fg_pct_away</th>\n",
       "      <th>ft_pct_away</th>\n",
       "      <th>fg3_pct_away</th>\n",
       "      <th>ast_away</th>\n",
       "      <th>reb_away</th>\n",
       "      <th>home_team_wins</th>\n",
       "    </tr>\n",
       "  </thead>\n",
       "  <tbody>\n",
       "    <tr>\n",
       "      <th>count</th>\n",
       "      <td>19371.000000</td>\n",
       "      <td>19371.000000</td>\n",
       "      <td>19371.000000</td>\n",
       "      <td>19371.000000</td>\n",
       "      <td>19371.000000</td>\n",
       "      <td>19371.000000</td>\n",
       "      <td>19371.000000</td>\n",
       "      <td>19371.000000</td>\n",
       "      <td>19371.000000</td>\n",
       "      <td>19371.000000</td>\n",
       "      <td>19371.000000</td>\n",
       "    </tr>\n",
       "    <tr>\n",
       "      <th>mean</th>\n",
       "      <td>0.458978</td>\n",
       "      <td>0.756240</td>\n",
       "      <td>0.354782</td>\n",
       "      <td>22.142688</td>\n",
       "      <td>42.784059</td>\n",
       "      <td>0.446894</td>\n",
       "      <td>0.754068</td>\n",
       "      <td>0.347650</td>\n",
       "      <td>20.657891</td>\n",
       "      <td>41.457746</td>\n",
       "      <td>0.598627</td>\n",
       "    </tr>\n",
       "    <tr>\n",
       "      <th>std</th>\n",
       "      <td>0.057131</td>\n",
       "      <td>0.100307</td>\n",
       "      <td>0.119115</td>\n",
       "      <td>5.073358</td>\n",
       "      <td>6.521216</td>\n",
       "      <td>0.055781</td>\n",
       "      <td>0.102608</td>\n",
       "      <td>0.116857</td>\n",
       "      <td>4.961087</td>\n",
       "      <td>6.406019</td>\n",
       "      <td>0.490189</td>\n",
       "    </tr>\n",
       "    <tr>\n",
       "      <th>min</th>\n",
       "      <td>0.250000</td>\n",
       "      <td>0.167000</td>\n",
       "      <td>0.000000</td>\n",
       "      <td>6.000000</td>\n",
       "      <td>15.000000</td>\n",
       "      <td>0.244000</td>\n",
       "      <td>0.143000</td>\n",
       "      <td>0.000000</td>\n",
       "      <td>4.000000</td>\n",
       "      <td>19.000000</td>\n",
       "      <td>0.000000</td>\n",
       "    </tr>\n",
       "    <tr>\n",
       "      <th>25%</th>\n",
       "      <td>0.420000</td>\n",
       "      <td>0.692000</td>\n",
       "      <td>0.278000</td>\n",
       "      <td>19.000000</td>\n",
       "      <td>38.000000</td>\n",
       "      <td>0.409000</td>\n",
       "      <td>0.690000</td>\n",
       "      <td>0.273000</td>\n",
       "      <td>17.000000</td>\n",
       "      <td>37.000000</td>\n",
       "      <td>0.000000</td>\n",
       "    </tr>\n",
       "    <tr>\n",
       "      <th>50%</th>\n",
       "      <td>0.458000</td>\n",
       "      <td>0.762000</td>\n",
       "      <td>0.353000</td>\n",
       "      <td>22.000000</td>\n",
       "      <td>43.000000</td>\n",
       "      <td>0.446000</td>\n",
       "      <td>0.760000</td>\n",
       "      <td>0.348000</td>\n",
       "      <td>20.000000</td>\n",
       "      <td>41.000000</td>\n",
       "      <td>1.000000</td>\n",
       "    </tr>\n",
       "    <tr>\n",
       "      <th>75%</th>\n",
       "      <td>0.500000</td>\n",
       "      <td>0.824000</td>\n",
       "      <td>0.429000</td>\n",
       "      <td>25.000000</td>\n",
       "      <td>47.000000</td>\n",
       "      <td>0.484000</td>\n",
       "      <td>0.826000</td>\n",
       "      <td>0.423000</td>\n",
       "      <td>24.000000</td>\n",
       "      <td>46.000000</td>\n",
       "      <td>1.000000</td>\n",
       "    </tr>\n",
       "    <tr>\n",
       "      <th>max</th>\n",
       "      <td>0.684000</td>\n",
       "      <td>1.000000</td>\n",
       "      <td>1.000000</td>\n",
       "      <td>47.000000</td>\n",
       "      <td>72.000000</td>\n",
       "      <td>0.670000</td>\n",
       "      <td>1.000000</td>\n",
       "      <td>1.000000</td>\n",
       "      <td>43.000000</td>\n",
       "      <td>81.000000</td>\n",
       "      <td>1.000000</td>\n",
       "    </tr>\n",
       "  </tbody>\n",
       "</table>\n",
       "</div>"
      ],
      "text/plain": [
       "        fg_pct_home   ft_pct_home  fg3_pct_home      ast_home      reb_home  \\\n",
       "count  19371.000000  19371.000000  19371.000000  19371.000000  19371.000000   \n",
       "mean       0.458978      0.756240      0.354782     22.142688     42.784059   \n",
       "std        0.057131      0.100307      0.119115      5.073358      6.521216   \n",
       "min        0.250000      0.167000      0.000000      6.000000     15.000000   \n",
       "25%        0.420000      0.692000      0.278000     19.000000     38.000000   \n",
       "50%        0.458000      0.762000      0.353000     22.000000     43.000000   \n",
       "75%        0.500000      0.824000      0.429000     25.000000     47.000000   \n",
       "max        0.684000      1.000000      1.000000     47.000000     72.000000   \n",
       "\n",
       "        fg_pct_away   ft_pct_away  fg3_pct_away      ast_away      reb_away  \\\n",
       "count  19371.000000  19371.000000  19371.000000  19371.000000  19371.000000   \n",
       "mean       0.446894      0.754068      0.347650     20.657891     41.457746   \n",
       "std        0.055781      0.102608      0.116857      4.961087      6.406019   \n",
       "min        0.244000      0.143000      0.000000      4.000000     19.000000   \n",
       "25%        0.409000      0.690000      0.273000     17.000000     37.000000   \n",
       "50%        0.446000      0.760000      0.348000     20.000000     41.000000   \n",
       "75%        0.484000      0.826000      0.423000     24.000000     46.000000   \n",
       "max        0.670000      1.000000      1.000000     43.000000     81.000000   \n",
       "\n",
       "       home_team_wins  \n",
       "count    19371.000000  \n",
       "mean         0.598627  \n",
       "std          0.490189  \n",
       "min          0.000000  \n",
       "25%          0.000000  \n",
       "50%          1.000000  \n",
       "75%          1.000000  \n",
       "max          1.000000  "
      ]
     },
     "execution_count": 75,
     "metadata": {},
     "output_type": "execute_result"
    }
   ],
   "source": [
    "# Descrição estatística dos atributos da Base Histórica (Relatório: Figura 27)\n",
    "modelGames.describe()"
   ]
  },
  {
   "cell_type": "code",
   "execution_count": 76,
   "metadata": {},
   "outputs": [
    {
     "data": {
      "text/html": [
       "<div>\n",
       "<style scoped>\n",
       "    .dataframe tbody tr th:only-of-type {\n",
       "        vertical-align: middle;\n",
       "    }\n",
       "\n",
       "    .dataframe tbody tr th {\n",
       "        vertical-align: top;\n",
       "    }\n",
       "\n",
       "    .dataframe thead th {\n",
       "        text-align: right;\n",
       "    }\n",
       "</style>\n",
       "<table border=\"1\" class=\"dataframe\">\n",
       "  <thead>\n",
       "    <tr style=\"text-align: right;\">\n",
       "      <th></th>\n",
       "      <th>fg_pct_home</th>\n",
       "      <th>ft_pct_home</th>\n",
       "      <th>fg3_pct_home</th>\n",
       "      <th>ast_home</th>\n",
       "      <th>reb_home</th>\n",
       "      <th>fg_pct_away</th>\n",
       "      <th>ft_pct_away</th>\n",
       "      <th>fg3_pct_away</th>\n",
       "      <th>ast_away</th>\n",
       "      <th>reb_away</th>\n",
       "      <th>home_team_wins</th>\n",
       "    </tr>\n",
       "  </thead>\n",
       "  <tbody>\n",
       "    <tr>\n",
       "      <th>count</th>\n",
       "      <td>1193.000000</td>\n",
       "      <td>1193.000000</td>\n",
       "      <td>1193.000000</td>\n",
       "      <td>1193.000000</td>\n",
       "      <td>1193.000000</td>\n",
       "      <td>1193.000000</td>\n",
       "      <td>1193.000000</td>\n",
       "      <td>1193.000000</td>\n",
       "      <td>1193.000000</td>\n",
       "      <td>1193.000000</td>\n",
       "      <td>1193.000000</td>\n",
       "    </tr>\n",
       "    <tr>\n",
       "      <th>mean</th>\n",
       "      <td>0.462912</td>\n",
       "      <td>0.768085</td>\n",
       "      <td>0.359173</td>\n",
       "      <td>23.145767</td>\n",
       "      <td>43.976697</td>\n",
       "      <td>0.453438</td>\n",
       "      <td>0.767769</td>\n",
       "      <td>0.363091</td>\n",
       "      <td>22.153898</td>\n",
       "      <td>42.956412</td>\n",
       "      <td>0.579212</td>\n",
       "    </tr>\n",
       "    <tr>\n",
       "      <th>std</th>\n",
       "      <td>0.022888</td>\n",
       "      <td>0.039246</td>\n",
       "      <td>0.027710</td>\n",
       "      <td>2.792130</td>\n",
       "      <td>2.869937</td>\n",
       "      <td>0.020902</td>\n",
       "      <td>0.040108</td>\n",
       "      <td>0.028752</td>\n",
       "      <td>2.312572</td>\n",
       "      <td>2.636949</td>\n",
       "      <td>0.493893</td>\n",
       "    </tr>\n",
       "    <tr>\n",
       "      <th>min</th>\n",
       "      <td>0.341000</td>\n",
       "      <td>0.524000</td>\n",
       "      <td>0.227000</td>\n",
       "      <td>13.500000</td>\n",
       "      <td>30.000000</td>\n",
       "      <td>0.354000</td>\n",
       "      <td>0.625000</td>\n",
       "      <td>0.083000</td>\n",
       "      <td>15.000000</td>\n",
       "      <td>34.000000</td>\n",
       "      <td>0.000000</td>\n",
       "    </tr>\n",
       "    <tr>\n",
       "      <th>25%</th>\n",
       "      <td>0.450000</td>\n",
       "      <td>0.746000</td>\n",
       "      <td>0.345000</td>\n",
       "      <td>21.300000</td>\n",
       "      <td>42.400000</td>\n",
       "      <td>0.441000</td>\n",
       "      <td>0.746000</td>\n",
       "      <td>0.353000</td>\n",
       "      <td>20.900000</td>\n",
       "      <td>41.100000</td>\n",
       "      <td>0.000000</td>\n",
       "    </tr>\n",
       "    <tr>\n",
       "      <th>50%</th>\n",
       "      <td>0.463000</td>\n",
       "      <td>0.770000</td>\n",
       "      <td>0.360000</td>\n",
       "      <td>22.900000</td>\n",
       "      <td>43.900000</td>\n",
       "      <td>0.450000</td>\n",
       "      <td>0.768000</td>\n",
       "      <td>0.363000</td>\n",
       "      <td>21.900000</td>\n",
       "      <td>43.100000</td>\n",
       "      <td>1.000000</td>\n",
       "    </tr>\n",
       "    <tr>\n",
       "      <th>75%</th>\n",
       "      <td>0.477000</td>\n",
       "      <td>0.787000</td>\n",
       "      <td>0.375000</td>\n",
       "      <td>24.500000</td>\n",
       "      <td>45.300000</td>\n",
       "      <td>0.465000</td>\n",
       "      <td>0.796000</td>\n",
       "      <td>0.375000</td>\n",
       "      <td>23.000000</td>\n",
       "      <td>44.800000</td>\n",
       "      <td>1.000000</td>\n",
       "    </tr>\n",
       "    <tr>\n",
       "      <th>max</th>\n",
       "      <td>0.548000</td>\n",
       "      <td>1.000000</td>\n",
       "      <td>0.533000</td>\n",
       "      <td>34.000000</td>\n",
       "      <td>63.000000</td>\n",
       "      <td>0.550000</td>\n",
       "      <td>1.000000</td>\n",
       "      <td>0.583000</td>\n",
       "      <td>31.200000</td>\n",
       "      <td>59.000000</td>\n",
       "      <td>1.000000</td>\n",
       "    </tr>\n",
       "  </tbody>\n",
       "</table>\n",
       "</div>"
      ],
      "text/plain": [
       "       fg_pct_home  ft_pct_home  fg3_pct_home     ast_home     reb_home  \\\n",
       "count  1193.000000  1193.000000   1193.000000  1193.000000  1193.000000   \n",
       "mean      0.462912     0.768085      0.359173    23.145767    43.976697   \n",
       "std       0.022888     0.039246      0.027710     2.792130     2.869937   \n",
       "min       0.341000     0.524000      0.227000    13.500000    30.000000   \n",
       "25%       0.450000     0.746000      0.345000    21.300000    42.400000   \n",
       "50%       0.463000     0.770000      0.360000    22.900000    43.900000   \n",
       "75%       0.477000     0.787000      0.375000    24.500000    45.300000   \n",
       "max       0.548000     1.000000      0.533000    34.000000    63.000000   \n",
       "\n",
       "       fg_pct_away  ft_pct_away  fg3_pct_away     ast_away     reb_away  \\\n",
       "count  1193.000000  1193.000000   1193.000000  1193.000000  1193.000000   \n",
       "mean      0.453438     0.767769      0.363091    22.153898    42.956412   \n",
       "std       0.020902     0.040108      0.028752     2.312572     2.636949   \n",
       "min       0.354000     0.625000      0.083000    15.000000    34.000000   \n",
       "25%       0.441000     0.746000      0.353000    20.900000    41.100000   \n",
       "50%       0.450000     0.768000      0.363000    21.900000    43.100000   \n",
       "75%       0.465000     0.796000      0.375000    23.000000    44.800000   \n",
       "max       0.550000     1.000000      0.583000    31.200000    59.000000   \n",
       "\n",
       "       home_team_wins  \n",
       "count     1193.000000  \n",
       "mean         0.579212  \n",
       "std          0.493893  \n",
       "min          0.000000  \n",
       "25%          0.000000  \n",
       "50%          1.000000  \n",
       "75%          1.000000  \n",
       "max          1.000000  "
      ]
     },
     "execution_count": 76,
     "metadata": {},
     "output_type": "execute_result"
    }
   ],
   "source": [
    "# Descrição estatística dos atributos da Base de Previsões (Relatório: Figura 28)\n",
    "modelNewSeason.describe()"
   ]
  },
  {
   "cell_type": "markdown",
   "metadata": {},
   "source": [
    "Com as descrições acima podemos conhecer um pouco mais sobre os atributos. As estatísticas parecem bastante próximas entre os dois conjuntos, principalmente se observarmos as médias e medianas, importante para ratificar que as transformações que fizemos na base de previsões com a temporada 2017 resultaram em números coerentes. Um importante ponto de atenção quando estivermos testando os modelos será verificar a necessidade de Normalização ou Padronização dos dados, pois temos variáveis com números em escalas diferentes. Talvez seja necessário colocá-las em uma mesma escala para uma melhor performance do modelo, ou mesmo padronizá-las para que tenham mesma média e desvios-padrão.<br>\n",
    "\n",
    "__Distribuição dos conjuntos__\n",
    "\n",
    "Com o auxílio de histogramas, veremos agora como estão as distribuições das variáveis preditoras na Base Histórica."
   ]
  },
  {
   "cell_type": "code",
   "execution_count": 77,
   "metadata": {},
   "outputs": [],
   "source": [
    "# Construindo função para auxiliar na criação de histogramas\n",
    "def histConstruct(df, listVar, name):\n",
    "    '''\n",
    "    Função para auxiliar na construção dos histogramas\n",
    "    e reduzir digitação de código.\n",
    "    '''\n",
    "    fig, axes = plt.subplots(1, len(listVar), figsize=(10, 3), sharex=True, sharey=True, dpi=80)\n",
    "    for n, var in enumerate(listVar):\n",
    "        sns.distplot(df[var], ax=axes[n], color=\"dodgerblue\", fit = stats.norm);\n",
    "    plt.suptitle(\"Histogramas - \" + name);"
   ]
  },
  {
   "cell_type": "code",
   "execution_count": 78,
   "metadata": {},
   "outputs": [
    {
     "data": {
      "image/png": "[encoded data removed]",
      "text/plain": [
       "<Figure size 800x240 with 3 Axes>"
      ]
     },
     "metadata": {
      "needs_background": "light"
     },
     "output_type": "display_data"
    },
    {
     "data": {
      "image/png": "[encoded data removed]",
      "text/plain": [
       "<Figure size 800x240 with 3 Axes>"
      ]
     },
     "metadata": {
      "needs_background": "light"
     },
     "output_type": "display_data"
    }
   ],
   "source": [
    "# Histogramas das variáveis de percentual (Relatório: Figura 29)\n",
    "histConstruct(modelGames, ['fg_pct_home', 'ft_pct_home', 'fg3_pct_home'], \"variáveis de percentuais das equipes anfitriãs\" )\n",
    "histConstruct(modelGames, ['fg_pct_away', 'ft_pct_away', 'fg3_pct_away'], \"variáveis de percentuais das equipes visitantes\")"
   ]
  },
  {
   "cell_type": "code",
   "execution_count": 79,
   "metadata": {},
   "outputs": [
    {
     "data": {
      "image/png": "[encoded data removed]",
      "text/plain": [
       "<Figure size 800x240 with 2 Axes>"
      ]
     },
     "metadata": {
      "needs_background": "light"
     },
     "output_type": "display_data"
    }
   ],
   "source": [
    "# Histogramas das variáveis de assistências (Relatório: Figura 30)\n",
    "histConstruct(modelGames, ['ast_home', 'ast_away'], \"variáveis de média de assistências (anfitriãs X visitantes)\" )"
   ]
  },
  {
   "cell_type": "code",
   "execution_count": 80,
   "metadata": {},
   "outputs": [
    {
     "data": {
      "image/png": "[encoded data removed]",
      "text/plain": [
       "<Figure size 800x240 with 2 Axes>"
      ]
     },
     "metadata": {
      "needs_background": "light"
     },
     "output_type": "display_data"
    }
   ],
   "source": [
    "# Histogramas das variáveis de rebotes (Relatório: Figura 31)\n",
    "histConstruct(modelGames, ['reb_home', 'reb_away'], \"variáveis de média de rebotes (anfitriãs X visitantes)\")"
   ]
  },
  {
   "cell_type": "markdown",
   "metadata": {},
   "source": [
    "Diante das visualizações confirmamos que temos praticamente uma Distribuição Normal em todas as variáveis preditoras. Além das respectivas barras de histograma com a distribuição, vemos uma linha uma linha azul nos gráficos representando a densidade das variáveis, sendo que esta praticamente segue o mesmo desenho da linha preta que representa o que seria a exata Distribuição Normal dela. A distribuição desta forma é muito importante e muito bem vinda em nossos atributos já que muitos algoritmos, em especial os lineares como por exemplo uma Regressão Logística, assumem que seus dados estão em uma Distribuição Normal para a respectiva modelagem.\n",
    "\n",
    "De forma mais resumida verificamos se na Base de Previsões temos a mesma tendência de distribuição normal dos dados, assim ratificamos mais uma vez o êxito nas transformações e no propósito de simular uma nova temporada:"
   ]
  },
  {
   "cell_type": "code",
   "execution_count": 81,
   "metadata": {},
   "outputs": [
    {
     "data": {
      "image/png": "[encoded data removed]",
      "text/plain": [
       "<Figure size 1440x720 with 12 Axes>"
      ]
     },
     "metadata": {
      "needs_background": "light"
     },
     "output_type": "display_data"
    }
   ],
   "source": [
    "# Construindo plot com múltiplos gráficos de densidade para as variáveis do dataset de previsões (Relatório: Figura 32)\n",
    "modelNewSeason.plot(kind = 'density', figsize=(20, 10), subplots = True, layout = (4,3), sharex = False)\n",
    "plt.suptitle(\"Resumo - Distribuição das Variáveis na Base de Previsão da Nova Temporada\");\n",
    "plt.show()"
   ]
  },
  {
   "cell_type": "markdown",
   "metadata": {},
   "source": [
    "Com as linhas em “formato de sino” conseguimos ratificar que assim como acontece na Base Histórica, as variáveis na Base de Previsões seguem a tendência com distribuições que se aproximam de uma Distribuição Normal.\n",
    "\n",
    "__Avaliação de “outliers”__\n",
    "\n",
    "Verificamos agora, com a ajuda das visualizações chamadas de \"box plots\", se na Base Histórica existem dados extremos considerados \"outliers\". Dados extremos, em especial se ocorridos por erros cadastro ou ingestão, podem prejudicar a performance dos modelos ou mesmo demandar tratamentos mais específicos na base de dados. Identificá-los nos permite um tratamento prévio destes dados, se necessário."
   ]
  },
  {
   "cell_type": "code",
   "execution_count": 82,
   "metadata": {},
   "outputs": [
    {
     "data": {
      "image/png": "[encoded data removed]",
      "text/plain": [
       "<Figure size 1080x360 with 1 Axes>"
      ]
     },
     "metadata": {
      "needs_background": "light"
     },
     "output_type": "display_data"
    }
   ],
   "source": [
    "# Gerando box plots das variáveis de percentuais da Base Histórica (Relatório: Figura 33)\n",
    "pctVars = [x for x in modelGames if \"pct\" in x]\n",
    "sns.catplot(data=modelGames[pctVars], kind=\"box\", height=5, aspect=3);\n",
    "plt.suptitle(\"Box Plots - Variáveis de percentuais da Base Histórica\");"
   ]
  },
  {
   "cell_type": "code",
   "execution_count": 83,
   "metadata": {},
   "outputs": [
    {
     "data": {
      "image/png": "[encoded data removed]",
      "text/plain": [
       "<Figure size 1080x360 with 1 Axes>"
      ]
     },
     "metadata": {
      "needs_background": "light"
     },
     "output_type": "display_data"
    }
   ],
   "source": [
    "# Gerando box plots das variáveis de números inteiros da Base Histórica (Relatório: Figura 34)\n",
    "pctNums = [x for x in modelGames if \"pct\" not in x if \"wins\" not in x]\n",
    "sns.catplot(data=modelGames[pctNums], kind=\"box\", height=5, aspect=3);\n",
    "plt.suptitle(\"Box Plots - Variáveis de números inteiros da Base Histórica\");"
   ]
  },
  {
   "cell_type": "markdown",
   "metadata": {},
   "source": [
    "É possível observar que em praticamente todos atributos temos pontos nos gráficos que poderiam ser considerados \"outliers\". Em todos há uma quantidade razoável assim ponderamos se de fato seriam anomalias ou, mesmo que extremos, são números reais que podem se repetem nos jogos que analisaremos. Uma boa comparação se dá quando observamos uma mesma métrica entre equipes anfitriãs e visitantes. Nota-se que na maioria das vezes os gráficos são praticamente iguais, inclusive ao que se refere a pontos extremos. No geral, esses pontos não parecem um erro de cadastro, ingestão, ou mesmo um \"ponto fora da curva\", já que ao visualizar o gráfico de sua variável correlata vemos a frequência facilmente se repetir.\n",
    "\n",
    "Dado o acima, a princípio não excluiremos esses registros da base, mas geramos importantes insights para a preparação dos dados para a modelagem.\n",
    "\n",
    "Vimos anteriormente que ter os atributos em uma mesma escala pode ser benéfico para os modelos e que poderíamos usar Normalização ou Padronização para esta tarefa. Com o insight coletado, sabemos que a Normalização não será adequada pois transforma os dados em um intervalo, digamos entre 0 e 1 ou 1 e 10, de forma que os números estejam na mesma escala. Como temos valores outliers em nosso conjunto, a Normalização certamente aumentará os dados \"normais\" para um intervalo muito pequeno, o que geralmente deve ser evitado.\n",
    "\n",
    "Já ao usar a Padronização os “novos dados” não são limitados pois apenas fazemos o redimensionamento dos recursos.\n",
    "\n",
    "__Balanceamento das Classes__\n",
    "\n",
    "Sabemos que em nosso projeto o objetivo é prever os vencedores de jogos da NBA, que em nossos conjuntos de dados cada registro representa uma partida e que o atributo “home_team_wins” é quem identifica o vencedor. Sendo assim, este atributo é nossa variável resposta, quando “0” significa que a equipe visitante venceu e quando “1” que a equipe anfitriã foi a vencedora.\n",
    "\n",
    "Quando trabalhamos um problema de classificação, que é exatamente o caso do nosso projeto, ter entre os registros da base de treinamento um balanceamento das classes (respostas possíveis) é muito importante, evitando que os modelos aprendam mais sobre uma classe do que outras.\n",
    "\n",
    "Confirmamos então qual é a característica em nossa base.\n"
   ]
  },
  {
   "cell_type": "code",
   "execution_count": 84,
   "metadata": {},
   "outputs": [
    {
     "data": {
      "text/plain": [
       "home_team_wins\n",
       "0     7775\n",
       "1    11596\n",
       "Name: home_team_wins, dtype: int64"
      ]
     },
     "execution_count": 84,
     "metadata": {},
     "output_type": "execute_result"
    }
   ],
   "source": [
    "# Selecionando variável target e sua frequência:\n",
    "gameResults = modelGames.groupby('home_team_wins')['home_team_wins'].count()\n",
    "gameResults"
   ]
  },
  {
   "cell_type": "code",
   "execution_count": 85,
   "metadata": {},
   "outputs": [
    {
     "data": {
      "image/png": "[encoded data removed]",
      "text/plain": [
       "<Figure size 432x288 with 1 Axes>"
      ]
     },
     "metadata": {},
     "output_type": "display_data"
    }
   ],
   "source": [
    "# Gerando visualização com a proporção na variável target (Relatório: Figura 35)\n",
    "values = [gameResults[0] , gameResults[1]]\n",
    "labels = ['Away Wins' , 'Home Wins']\n",
    "plt.pie(values , labels=labels, autopct=lambda p: '{}%'.format(round(p,2)))\n",
    "plt.title('Percentual de Vitórias')\n",
    "plt.show()"
   ]
  },
  {
   "cell_type": "markdown",
   "metadata": {},
   "source": [
    "Há desbalanceamento entre o número de registros onde a equipe anfitriã foi a vencedora em comparação com o número de registros onde a equipe visitante venceu. A utilização de uma técnica de balanceamento se faz necessária na tentativa de obter desempenho equilibrado nos modelos de classificação.\n",
    "\n",
    "__Processamento e tratamentos complementares dos dados__\n",
    "\n",
    "Durante a análise exploratória pudemos conhecer mais de nossos conjuntos de dados, geramos insights e elencamos aspectos importantes que poderemos utilizar durante a modelagem. Vamos agora usar esse conhecimento adquirido para preparar diferentes versões dos conjuntos pra entrada (input) nos modelos que testaremos mais adiante.\n",
    "\n",
    "Essas entradas que servirão para treinamento dos modelos são os atributos dos nossos conjuntos precisam ser transformados em vetores (“arrays”), separando as variáveis preditoras em um vetor diferente da variável resposta. Os tratamentos que serão feitos a seguir serão aplicados já sobre esses vetores."
   ]
  },
  {
   "cell_type": "code",
   "execution_count": 86,
   "metadata": {},
   "outputs": [
    {
     "data": {
      "text/plain": [
       "10"
      ]
     },
     "execution_count": 86,
     "metadata": {},
     "output_type": "execute_result"
    }
   ],
   "source": [
    "# Identificando índice da variável resposta no dataset modelGames (base histórica)\n",
    "modelGames.columns.get_loc('home_team_wins')"
   ]
  },
  {
   "cell_type": "code",
   "execution_count": 87,
   "metadata": {},
   "outputs": [],
   "source": [
    "# Carregando os dados em um objeto array\n",
    "histArray = modelGames.values\n",
    "\n",
    "# Separando em componentes de input (variáveis preditoras = X) e output (variável resposta = Y)\n",
    "X = histArray[:,0:10]\n",
    "Y = histArray[:,10]"
   ]
  },
  {
   "cell_type": "markdown",
   "metadata": {},
   "source": [
    "__Tratando o balanceamento das classes__\n",
    "\n",
    "Como já citado anteriormente, ao haver mais registros com vitórias de anfitriões na base de treino, o modelo pode tender a responder melhor para esta classe, tendo um desempenho inferior para outra. Vamos revisar a distribuição das classes na variável resposta."
   ]
  },
  {
   "cell_type": "code",
   "execution_count": 88,
   "metadata": {},
   "outputs": [
    {
     "name": "stdout",
     "output_type": "stream",
     "text": [
      "Quantidade por classe:\n",
      "1.0    11596\n",
      "0.0     7775\n",
      "dtype: int64\n"
     ]
    },
    {
     "data": {
      "image/png": "[encoded data removed]",
      "text/plain": [
       "<Figure size 432x288 with 1 Axes>"
      ]
     },
     "metadata": {
      "needs_background": "light"
     },
     "output_type": "display_data"
    }
   ],
   "source": [
    "# Contagem e visualização por classe da variável target na base de treino (Relatório: Figura 36)\n",
    "print(\"Quantidade por classe:\")\n",
    "print(pd.Series(Y).value_counts())\n",
    "sns.countplot(Y);"
   ]
  },
  {
   "cell_type": "markdown",
   "metadata": {},
   "source": [
    "Para evitar desequilíbrio durante o processo de aprendizagem de modelos, vamos tratar este desbalanceamento utilizando uma técnica de “reamostragem”.\n",
    "\n",
    "Se tivéssemos escassez de registros, poderíamos utilizar uma técnica de \"Over Sampling\", onde seriam criados registros das classes de menor número de forma sintética ou por meio de “clusterização”. Mas como temos um volume razoável de registros para treinamento, usaremos a técnica de \"Under Sampling\", onde o foco é reduzir o desbalanceamento do conjunto eliminando aleatoriamente entradas da classe com maior número de ocorrências. \n"
   ]
  },
  {
   "cell_type": "code",
   "execution_count": 89,
   "metadata": {},
   "outputs": [],
   "source": [
    "# Reamostragem dos dados de treino com Under Sampling\n",
    "underSampler = RandomUnderSampler(random_state=2403)\n",
    "X_balanced, Y_balanced = underSampler.fit_sample(X, Y)"
   ]
  },
  {
   "cell_type": "markdown",
   "metadata": {},
   "source": [
    "Vejamos como ficou a distribuição das classes na versão da base de treinamento com dados balanceados."
   ]
  },
  {
   "cell_type": "code",
   "execution_count": 90,
   "metadata": {},
   "outputs": [
    {
     "name": "stdout",
     "output_type": "stream",
     "text": [
      "Quantidade por classe:\n",
      "1.0    7775\n",
      "0.0    7775\n",
      "dtype: int64\n"
     ]
    },
    {
     "data": {
      "image/png": "[encoded data removed]",
      "text/plain": [
       "<Figure size 432x288 with 1 Axes>"
      ]
     },
     "metadata": {
      "needs_background": "light"
     },
     "output_type": "display_data"
    }
   ],
   "source": [
    "# Contagem e visualização por classe da variável target na base de treino após reamostragem (Relatório: Figura 37)\n",
    "print(\"Quantidade por classe:\")\n",
    "print(pd.Series(Y_balanced).value_counts())\n",
    "sns.countplot(Y_balanced);"
   ]
  },
  {
   "cell_type": "markdown",
   "metadata": {},
   "source": [
    "__Redimensionamento dos dados (Padronização)__\n",
    "\n",
    "Utilizando a versão já balanceada, criaremos uma terceira versão de base para treinamento dos modelos, agora aplicando o redimensionamento dos dados.\n",
    "\n",
    "A Padronização, amplamente utilizada em modelos SVMs (Support Vector Machine), regressão logística e redes neurais, transforma os dados de tal forma que eles tenham média zero e desvio padrão igual a um. Isso pode tornar o processo de treinamento melhor, porque a condição numérica dos problemas de otimização é melhorada."
   ]
  },
  {
   "cell_type": "code",
   "execution_count": 91,
   "metadata": {},
   "outputs": [],
   "source": [
    "# Gerando o novo padrão para os dados (0 para a média, 1 para o desvio padrão)\n",
    "standard = StandardScaler().fit(X_balanced)\n",
    "X_standard = standard.transform(X_balanced)"
   ]
  },
  {
   "cell_type": "code",
   "execution_count": 92,
   "metadata": {},
   "outputs": [
    {
     "name": "stdout",
     "output_type": "stream",
     "text": [
      "Dados Originais: \n",
      "\n",
      " [[ 0.494  0.762  0.5   31.    35.     0.483  1.     0.25  24.    42.   ]\n",
      " [ 0.374  0.828  0.28  23.    45.     0.5    0.563  0.4   19.    44.   ]\n",
      " [ 0.462  0.769  0.2   20.    39.     0.482  0.806  0.429 22.    50.   ]]\n",
      "\n",
      "Dados Padronizados: \n",
      "\n",
      " [[ 0.70792942  0.06614931  1.28608934  1.85321612 -1.14187473  0.55480977\n",
      "   2.38648586 -0.88940626  0.61202588  0.03962298]\n",
      " [-1.4060604   0.7213603  -0.56485667  0.25002779  0.38815535  0.85737689\n",
      "  -1.89623166  0.38616076 -0.38862627  0.35096066]\n",
      " [ 0.1441988   0.13564138 -1.23792795 -0.35116784 -0.5298627   0.53701171\n",
      "   0.48523369  0.63277038  0.21176502  1.28497372]]\n"
     ]
    }
   ],
   "source": [
    "# Visualizando uma amostra dos dados originais X padronizados (Relatório: Figura 38)\n",
    "print(\"Dados Originais: \\n\\n\", X_balanced[0:3,:])\n",
    "print(\"\\nDados Padronizados: \\n\\n\", X_standard[0:3,:])"
   ]
  },
  {
   "cell_type": "markdown",
   "metadata": {},
   "source": [
    "## Criação de Modelos de Machine Learning"
   ]
  },
  {
   "cell_type": "markdown",
   "metadata": {},
   "source": [
    "Começaremos a construção dos modelos de aprendizado de máquina visando encontrar o algoritmo que melhor conseguirá prever os vencedores dos jogos da temporada 2017 da NBA.\n",
    "\n",
    "Sabemos que o problema é de classificação e que como existem dados históricos devidamente classificados utilizaremos modelos de aprendizagem supervisionada, mas não há como saber antecipadamente qual algoritmo terá um melhor desempenho em prever corretamente os vencedores dos jogos. Sendo assim, testaremos diferentes modelos e ainda tentaremos otimizá-los com o intuito de atingir o nível de desempenho desejado quando definido o objetivo do projeto.\n",
    "\n",
    "Iremos numerar e nomear cada modelo testado para uma fácil identificação dos mesmos no momento de apresentar os respectivos resultados.\n",
    "\n",
    "Antes, para ratificar o citado na introdução deste trabalho (item 1.2), vamos fazer um breve teste de como seria o desempenho de um modelo simples, sem qualquer tratamento dos dados ou otimização de parâmetros, utilizando os dados dos próprios jogos, o que chamamos de “dados futuros”. Para isso, temporariamente dividiremos a Base Histórica em conjunto de treino (80%) para o devido treinamento do modelo e conjunto de teste (20%) para apurarmos a acurácia do mesmo.\n"
   ]
  },
  {
   "cell_type": "code",
   "execution_count": 93,
   "metadata": {},
   "outputs": [
    {
     "data": {
      "text/plain": [
       "LogisticRegression(C=1.0, class_weight=None, dual=False, fit_intercept=True,\n",
       "                   intercept_scaling=1, l1_ratio=None, max_iter=100,\n",
       "                   multi_class='warn', n_jobs=None, penalty='l2',\n",
       "                   random_state=None, solver='warn', tol=0.0001, verbose=0,\n",
       "                   warm_start=False)"
      ]
     },
     "execution_count": 93,
     "metadata": {},
     "output_type": "execute_result"
    }
   ],
   "source": [
    "# Relatório: Figura 39\n",
    "\n",
    "# Definindo o tamanho das amostra de teste\n",
    "testSize = 0.20\n",
    "\n",
    "# Definindo a semente para reprodução.\n",
    "seed = 2403\n",
    "\n",
    "# Criando os conjuntos de dados de treino e de teste\n",
    "Xtrain, Xtest, Ytrain, Ytest = train_test_split(X, Y, test_size = testSize, random_state = seed)\n",
    "\n",
    "# Criando do modelo\n",
    "modeloTeste = LogisticRegression()\n",
    "\n",
    "# Treinamento do modelo\n",
    "modeloTeste.fit(Xtrain, Ytrain)"
   ]
  },
  {
   "cell_type": "markdown",
   "metadata": {},
   "source": [
    "Modelo treinado, utilizamos o conjunto de teste para apurar seu desempenho."
   ]
  },
  {
   "cell_type": "code",
   "execution_count": 94,
   "metadata": {},
   "outputs": [
    {
     "name": "stdout",
     "output_type": "stream",
     "text": [
      "Acurácia Modelo de Teste: 83.948%\n"
     ]
    }
   ],
   "source": [
    "# Score do modelo teste com dados futuros (Relatório: Figura 40)\n",
    "result1_0 = modeloTeste.score(Xtest, Ytest)\n",
    "print(\"Acurácia Modelo de Teste: %.3f%%\" % (result1_0 * 100.0))"
   ]
  },
  {
   "cell_type": "markdown",
   "metadata": {},
   "source": [
    "Dentro do previsto, sem muito esforço alcançado acurácia de praticamente 84%, mas esse número não representa uma aplicação real do modelo. Este teste foi executado com o único objetivo de demonstrar como é importante o conhecimento do negócio em que estamos aplicando as técnicas de ciência de dados. Como já citado anteriormente, ao simular uma nova temporada, queremos prever os jogos que ainda não ocorreram e utilizar os próprios dados das partidas nas previsões seria como utilizar “dados futuros”. \n",
    "\n",
    "Dado o acima, utilizaremos então como atributos de previsão (testes) as estatísticas acumuladas durante a temporada, apenas até os jogos que antecedem a partida a ser prevista, ou seja, os dados que obtivemos na confecção da nossa Base de Previsões."
   ]
  },
  {
   "cell_type": "code",
   "execution_count": 95,
   "metadata": {},
   "outputs": [],
   "source": [
    "# Carregando os dados da Base de Testes em um objeto array\n",
    "testArray = modelNewSeason.values\n",
    "\n",
    "# Separando em componentes de input (variáveis preditoras= X_test) e output (variável resposta = Y_test)\n",
    "X_test = testArray[:,0:10]\n",
    "Y_test = testArray[:,10]\n",
    "\n",
    "# Gerando o novo padrão para os dados de teste de modelos treinados com dados redimencionados\n",
    "standardTest = StandardScaler().fit(X_test)\n",
    "X_testStandard = standardTest.transform(X_test)"
   ]
  },
  {
   "cell_type": "markdown",
   "metadata": {},
   "source": [
    "Como métricas de avaliação, utilizaremos não só a acurácia, mas também especificidade e sensibilidade (“Specificity” e “Sensitivity”) que estarão representando o percentual de acertos dos modelos para cada uma das classes individualmente, ou seja, classe 1 (vitória da equipe anfitriã) e classe 0 (vitória da equipe visitante) respectivamente. Para complementar, traremos ainda uma matriz de confusão (“Confusion Matrix”) acompanhada de um mapa de calor para ilustrar os resultados."
   ]
  },
  {
   "cell_type": "code",
   "execution_count": 96,
   "metadata": {},
   "outputs": [],
   "source": [
    "# Função para gerar as métricas de avaliação dos modelos:\n",
    "def class_score(test, pred):\n",
    "    \n",
    "    matrix = confusion_matrix(test, pred)\n",
    "    print('Confusion Matrix:\\n', matrix)\n",
    "    \n",
    "    accuracy = accuracy_score(test, pred)\n",
    "    sensitivity = matrix[0,0] / (matrix[0,0] + matrix[0,1])\n",
    "    specificity = matrix[1,1] / (matrix[1,0] + matrix[1,1])\n",
    "    \n",
    "    percent_matrix = [[sensitivity*100, (1-sensitivity)*100],[(1-specificity)*100, specificity*100]]\n",
    "    \n",
    "    print('\\nPercentage Rating (by class):')\n",
    "    labels = ['Class 0', 'Class 1']\n",
    "    fig = plt.figure()\n",
    "    ax = fig.add_subplot(111)\n",
    "    cax = ax.matshow(percent_matrix, cmap=plt.cm.Reds)\n",
    "    fig.colorbar(cax)\n",
    "    ax.set_xticklabels([''] + labels)\n",
    "    ax.set_yticklabels([''] + labels)\n",
    "    plt.xlabel('Predicted')\n",
    "    plt.ylabel('Expected')\n",
    "    plt.show()\n",
    "\n",
    "    print('\\nAccuracy : %.2f%%' % (accuracy * 100))\n",
    "    print('Sensitivity : %.2f%%' % (sensitivity * 100))\n",
    "    print('Specificity : %.2f%%' % (specificity * 100))"
   ]
  },
  {
   "cell_type": "markdown",
   "metadata": {},
   "source": [
    "### Regressão Logística"
   ]
  },
  {
   "cell_type": "markdown",
   "metadata": {},
   "source": [
    "### Modelo 1.0 - Regressão Logística (Dados Originais)"
   ]
  },
  {
   "cell_type": "code",
   "execution_count": 97,
   "metadata": {},
   "outputs": [
    {
     "data": {
      "text/plain": [
       "LogisticRegression(C=1.0, class_weight=None, dual=False, fit_intercept=True,\n",
       "                   intercept_scaling=1, l1_ratio=None, max_iter=100,\n",
       "                   multi_class='warn', n_jobs=None, penalty='l2',\n",
       "                   random_state=2403, solver='warn', tol=0.0001, verbose=0,\n",
       "                   warm_start=False)"
      ]
     },
     "execution_count": 97,
     "metadata": {},
     "output_type": "execute_result"
    }
   ],
   "source": [
    "# Criando modelo\n",
    "modelo1_0 = LogisticRegression(random_state=2403)\n",
    "\n",
    "# Treinamento do modelo\n",
    "modelo1_0.fit(X, Y)"
   ]
  },
  {
   "cell_type": "code",
   "execution_count": 98,
   "metadata": {},
   "outputs": [
    {
     "name": "stdout",
     "output_type": "stream",
     "text": [
      "Regressão Logística\n",
      "METRICAS MODELO 1.0 - Dados Originais:\n",
      "\n",
      "Confusion Matrix:\n",
      " [[144 358]\n",
      " [117 574]]\n",
      "\n",
      "Percentage Rating (by class):\n"
     ]
    },
    {
     "data": {
      "image/png": "[encoded data removed]",
      "text/plain": [
       "<Figure size 432x288 with 2 Axes>"
      ]
     },
     "metadata": {
      "needs_background": "light"
     },
     "output_type": "display_data"
    },
    {
     "name": "stdout",
     "output_type": "stream",
     "text": [
      "\n",
      "Accuracy : 60.18%\n",
      "Sensitivity : 28.69%\n",
      "Specificity : 83.07%\n"
     ]
    }
   ],
   "source": [
    "# Realizando as previsões para o conjunto de teste\n",
    "predict1_0 = modelo1_0.predict(X_test)\n",
    "\n",
    "# Avaliando as previsões com a função de métricas (Relatório: Figura 44)\n",
    "print('Regressão Logística')\n",
    "print('METRICAS MODELO 1.0 - Dados Originais:\\n')\n",
    "class_score(Y_test, predict1_0)"
   ]
  },
  {
   "cell_type": "markdown",
   "metadata": {},
   "source": [
    "### Modelo 1.1 - Regressão Logística (Dados Balanceados)"
   ]
  },
  {
   "cell_type": "code",
   "execution_count": 99,
   "metadata": {},
   "outputs": [
    {
     "data": {
      "text/plain": [
       "LogisticRegression(C=1.0, class_weight=None, dual=False, fit_intercept=True,\n",
       "                   intercept_scaling=1, l1_ratio=None, max_iter=100,\n",
       "                   multi_class='warn', n_jobs=None, penalty='l2',\n",
       "                   random_state=2403, solver='warn', tol=0.0001, verbose=0,\n",
       "                   warm_start=False)"
      ]
     },
     "execution_count": 99,
     "metadata": {},
     "output_type": "execute_result"
    }
   ],
   "source": [
    "# Criando modelo\n",
    "modelo1_1 = LogisticRegression(random_state=2403)\n",
    "\n",
    "# Treinamento do modelo\n",
    "modelo1_1.fit(X_balanced, Y_balanced)"
   ]
  },
  {
   "cell_type": "code",
   "execution_count": 100,
   "metadata": {},
   "outputs": [
    {
     "name": "stdout",
     "output_type": "stream",
     "text": [
      "Regressão Logística\n",
      "METRICAS MODELO 1.1 - Dados Balanceados:\n",
      "\n",
      "Confusion Matrix:\n",
      " [[231 271]\n",
      " [220 471]]\n",
      "\n",
      "Percentage Rating (by class):\n"
     ]
    },
    {
     "data": {
      "image/png": "[encoded data removed]",
      "text/plain": [
       "<Figure size 432x288 with 2 Axes>"
      ]
     },
     "metadata": {
      "needs_background": "light"
     },
     "output_type": "display_data"
    },
    {
     "name": "stdout",
     "output_type": "stream",
     "text": [
      "\n",
      "Accuracy : 58.84%\n",
      "Sensitivity : 46.02%\n",
      "Specificity : 68.16%\n"
     ]
    }
   ],
   "source": [
    "# Realizando as previsões para o conjunto de teste\n",
    "predict1_1 = modelo1_1.predict(X_test)\n",
    "\n",
    "# Avaliando as previsões com a função de métricas (Relatório: Figura 44)\n",
    "print('Regressão Logística')\n",
    "print('METRICAS MODELO 1.1 - Dados Balanceados:\\n')\n",
    "class_score(Y_test, predict1_1)"
   ]
  },
  {
   "cell_type": "markdown",
   "metadata": {},
   "source": [
    "### Modelo 1.2 - Regressão Logística (Dados Padronizados)"
   ]
  },
  {
   "cell_type": "code",
   "execution_count": 101,
   "metadata": {},
   "outputs": [
    {
     "data": {
      "text/plain": [
       "LogisticRegression(C=1.0, class_weight=None, dual=False, fit_intercept=True,\n",
       "                   intercept_scaling=1, l1_ratio=None, max_iter=100,\n",
       "                   multi_class='warn', n_jobs=None, penalty='l2',\n",
       "                   random_state=2403, solver='warn', tol=0.0001, verbose=0,\n",
       "                   warm_start=False)"
      ]
     },
     "execution_count": 101,
     "metadata": {},
     "output_type": "execute_result"
    }
   ],
   "source": [
    "# Criando modelo\n",
    "modelo1_2 = LogisticRegression(random_state=2403)\n",
    "\n",
    "# Treinamento do modelo\n",
    "modelo1_2.fit(X_standard, Y_balanced)"
   ]
  },
  {
   "cell_type": "code",
   "execution_count": 102,
   "metadata": {},
   "outputs": [
    {
     "name": "stdout",
     "output_type": "stream",
     "text": [
      "Regressão Logística\n",
      "METRICAS MODELO 1.2 - Dados Padronizados:\n",
      "\n",
      "Confusion Matrix:\n",
      " [[285 217]\n",
      " [275 416]]\n",
      "\n",
      "Percentage Rating (by class):\n"
     ]
    },
    {
     "data": {
      "image/png": "[encoded data removed]",
      "text/plain": [
       "<Figure size 432x288 with 2 Axes>"
      ]
     },
     "metadata": {
      "needs_background": "light"
     },
     "output_type": "display_data"
    },
    {
     "name": "stdout",
     "output_type": "stream",
     "text": [
      "\n",
      "Accuracy : 58.76%\n",
      "Sensitivity : 56.77%\n",
      "Specificity : 60.20%\n"
     ]
    }
   ],
   "source": [
    "# Realizando as previsões para o conjunto de teste\n",
    "predict1_2 = modelo1_2.predict(X_testStandard)\n",
    "\n",
    "# Avaliando as previsões com a função de métricas (Relatório: Figura 44)\n",
    "print('Regressão Logística')\n",
    "print('METRICAS MODELO 1.2 - Dados Padronizados:\\n')\n",
    "class_score(Y_test, predict1_2)"
   ]
  },
  {
   "cell_type": "markdown",
   "metadata": {},
   "source": [
    "Os modelos com regressão logística tiveram precisão próxima ou superior a meta de 60%. Apesar da acurácia pouco mais baixa, o modelo que utilizou dados padronizados para treinamento claramente conseguiu obter o melhor equilíbrio de assertividade entre as classes.\n",
    "\n",
    "Mais adiante realizaremos um procedimento de “tuning” no intuito de encontrar os melhores parâmetros para otimização dos modelos. Para regressão logística utilizaremos os dados padronizados como conjunto de treinamento."
   ]
  },
  {
   "cell_type": "markdown",
   "metadata": {},
   "source": [
    "### Random Forest"
   ]
  },
  {
   "cell_type": "markdown",
   "metadata": {},
   "source": [
    "### Modelo 2.0 - Random Forest (Dados Originais)"
   ]
  },
  {
   "cell_type": "code",
   "execution_count": 103,
   "metadata": {},
   "outputs": [
    {
     "data": {
      "text/plain": [
       "RandomForestClassifier(bootstrap=True, class_weight=None, criterion='gini',\n",
       "                       max_depth=None, max_features='auto', max_leaf_nodes=None,\n",
       "                       min_impurity_decrease=0.0, min_impurity_split=None,\n",
       "                       min_samples_leaf=1, min_samples_split=2,\n",
       "                       min_weight_fraction_leaf=0.0, n_estimators=300,\n",
       "                       n_jobs=None, oob_score=False, random_state=2403,\n",
       "                       verbose=0, warm_start=False)"
      ]
     },
     "execution_count": 103,
     "metadata": {},
     "output_type": "execute_result"
    }
   ],
   "source": [
    "# Criando o modelo\n",
    "modelo2_0 = RandomForestClassifier(random_state=2403, n_estimators=300)\n",
    "\n",
    "# Treinando o modelo\n",
    "modelo2_0.fit(X, Y)"
   ]
  },
  {
   "cell_type": "code",
   "execution_count": 104,
   "metadata": {},
   "outputs": [
    {
     "name": "stdout",
     "output_type": "stream",
     "text": [
      "Random Forest\n",
      "METRICAS MODELO 2.0 - Dados Originais:\n",
      "\n",
      "Confusion Matrix:\n",
      " [[195 307]\n",
      " [178 513]]\n",
      "\n",
      "Percentage Rating (by class):\n"
     ]
    },
    {
     "data": {
      "image/png": "[encoded data removed]",
      "text/plain": [
       "<Figure size 432x288 with 2 Axes>"
      ]
     },
     "metadata": {
      "needs_background": "light"
     },
     "output_type": "display_data"
    },
    {
     "name": "stdout",
     "output_type": "stream",
     "text": [
      "\n",
      "Accuracy : 59.35%\n",
      "Sensitivity : 38.84%\n",
      "Specificity : 74.24%\n"
     ]
    }
   ],
   "source": [
    "# Realizando as previsões para o conjunto de teste\n",
    "predict2_0 = modelo2_0.predict(X_test)\n",
    "\n",
    "# Avaliando as previsões com a função de métricas (Relatório: Figura 48)\n",
    "print('Random Forest')\n",
    "print('METRICAS MODELO 2.0 - Dados Originais:\\n')\n",
    "class_score(Y_test, predict2_0)"
   ]
  },
  {
   "cell_type": "markdown",
   "metadata": {},
   "source": [
    "### Modelo 2.1 - Random Forest (Dados Balanceados)"
   ]
  },
  {
   "cell_type": "code",
   "execution_count": 105,
   "metadata": {},
   "outputs": [
    {
     "data": {
      "text/plain": [
       "RandomForestClassifier(bootstrap=True, class_weight=None, criterion='gini',\n",
       "                       max_depth=None, max_features='auto', max_leaf_nodes=None,\n",
       "                       min_impurity_decrease=0.0, min_impurity_split=None,\n",
       "                       min_samples_leaf=1, min_samples_split=2,\n",
       "                       min_weight_fraction_leaf=0.0, n_estimators=300,\n",
       "                       n_jobs=None, oob_score=False, random_state=2403,\n",
       "                       verbose=0, warm_start=False)"
      ]
     },
     "execution_count": 105,
     "metadata": {},
     "output_type": "execute_result"
    }
   ],
   "source": [
    "# Criando o modelo\n",
    "modelo2_1 = RandomForestClassifier(random_state=2403, n_estimators=300)\n",
    "\n",
    "# Treinando o modelo\n",
    "modelo2_1.fit(X_balanced, Y_balanced)"
   ]
  },
  {
   "cell_type": "code",
   "execution_count": 106,
   "metadata": {},
   "outputs": [
    {
     "name": "stdout",
     "output_type": "stream",
     "text": [
      "Random Forest\n",
      "METRICAS MODELO 2.1 - Dados Balanceados:\n",
      "\n",
      "Confusion Matrix:\n",
      " [[273 229]\n",
      " [275 416]]\n",
      "\n",
      "Percentage Rating (by class):\n"
     ]
    },
    {
     "data": {
      "image/png": "[encoded data removed]",
      "text/plain": [
       "<Figure size 432x288 with 2 Axes>"
      ]
     },
     "metadata": {
      "needs_background": "light"
     },
     "output_type": "display_data"
    },
    {
     "name": "stdout",
     "output_type": "stream",
     "text": [
      "\n",
      "Accuracy : 57.75%\n",
      "Sensitivity : 54.38%\n",
      "Specificity : 60.20%\n"
     ]
    }
   ],
   "source": [
    "# Realizando as previsões para o conjunto de teste\n",
    "predict2_1 = modelo2_1.predict(X_test)\n",
    "\n",
    "# Avaliando as previsões com a função de métricas (Relatório: Figura 48)\n",
    "print('Random Forest')\n",
    "print('METRICAS MODELO 2.1 - Dados Balanceados:\\n')\n",
    "class_score(Y_test, predict2_1)"
   ]
  },
  {
   "cell_type": "markdown",
   "metadata": {},
   "source": [
    "### Modelo 2.2 - Random Forest (Dados Padronizados)"
   ]
  },
  {
   "cell_type": "code",
   "execution_count": 107,
   "metadata": {},
   "outputs": [
    {
     "data": {
      "text/plain": [
       "RandomForestClassifier(bootstrap=True, class_weight=None, criterion='gini',\n",
       "                       max_depth=None, max_features='auto', max_leaf_nodes=None,\n",
       "                       min_impurity_decrease=0.0, min_impurity_split=None,\n",
       "                       min_samples_leaf=1, min_samples_split=2,\n",
       "                       min_weight_fraction_leaf=0.0, n_estimators=300,\n",
       "                       n_jobs=None, oob_score=False, random_state=2403,\n",
       "                       verbose=0, warm_start=False)"
      ]
     },
     "execution_count": 107,
     "metadata": {},
     "output_type": "execute_result"
    }
   ],
   "source": [
    "# Criando o modelo\n",
    "modelo2_2 = RandomForestClassifier(random_state=2403, n_estimators=300)\n",
    "\n",
    "# Treinando o modelo\n",
    "modelo2_2.fit(X_standard, Y_balanced)"
   ]
  },
  {
   "cell_type": "code",
   "execution_count": 108,
   "metadata": {},
   "outputs": [
    {
     "name": "stdout",
     "output_type": "stream",
     "text": [
      "Random Forest\n",
      "METRICAS MODELO 2.2 - Dados Padronizados:\n",
      "\n",
      "Confusion Matrix:\n",
      " [[281 221]\n",
      " [276 415]]\n",
      "\n",
      "Percentage Rating (by class):\n"
     ]
    },
    {
     "data": {
      "image/png": "[encoded data removed]",
      "text/plain": [
       "<Figure size 432x288 with 2 Axes>"
      ]
     },
     "metadata": {
      "needs_background": "light"
     },
     "output_type": "display_data"
    },
    {
     "name": "stdout",
     "output_type": "stream",
     "text": [
      "\n",
      "Accuracy : 58.34%\n",
      "Sensitivity : 55.98%\n",
      "Specificity : 60.06%\n"
     ]
    }
   ],
   "source": [
    "# Realizando as previsões para o conjunto de teste\n",
    "predict2_2 = modelo2_2.predict(X_testStandard)\n",
    "\n",
    "# Avaliando as previsões com a função de métricas (Relatório: Figura 48)\n",
    "print('Random Forest')\n",
    "print('METRICAS MODELO 2.2 - Dados Padronizados:\\n')\n",
    "class_score(Y_test, predict2_2)"
   ]
  },
  {
   "cell_type": "markdown",
   "metadata": {},
   "source": [
    "Com o algoritmo “Random Forest” houve pouca variação entre os modelos. Assim como ocorreu com regressão, os índices de precisão se aproximam muito dos 60%, sendo o melhor desempenho aliado a um melhor equilíbrio atingido pelo treinamento com dados padronizados, o qual passará pelo “tuning” de hiperparâmetros."
   ]
  },
  {
   "cell_type": "markdown",
   "metadata": {},
   "source": [
    "### Support Vector Machines"
   ]
  },
  {
   "cell_type": "markdown",
   "metadata": {},
   "source": [
    "### Modelo 3.0 - SVM (Dados Originais)"
   ]
  },
  {
   "cell_type": "code",
   "execution_count": 109,
   "metadata": {},
   "outputs": [
    {
     "data": {
      "text/plain": [
       "SVC(C=1.0, cache_size=200, class_weight=None, coef0=0.0,\n",
       "    decision_function_shape='ovr', degree=3, gamma='auto_deprecated',\n",
       "    kernel='rbf', max_iter=-1, probability=False, random_state=2403,\n",
       "    shrinking=True, tol=0.001, verbose=False)"
      ]
     },
     "execution_count": 109,
     "metadata": {},
     "output_type": "execute_result"
    }
   ],
   "source": [
    "# Criando o modelo\n",
    "modelo3_0 = SVC(random_state=2403)\n",
    "\n",
    "# Treinando o modelo\n",
    "modelo3_0.fit(X, Y)"
   ]
  },
  {
   "cell_type": "code",
   "execution_count": 110,
   "metadata": {},
   "outputs": [
    {
     "name": "stdout",
     "output_type": "stream",
     "text": [
      "SVM\n",
      "METRICAS MODELO 3.0 - Dados Originais:\n",
      "\n",
      "Confusion Matrix:\n",
      " [[169 333]\n",
      " [171 520]]\n",
      "\n",
      "Percentage Rating (by class):\n"
     ]
    },
    {
     "data": {
      "image/png": "[encoded data removed]",
      "text/plain": [
       "<Figure size 432x288 with 2 Axes>"
      ]
     },
     "metadata": {
      "needs_background": "light"
     },
     "output_type": "display_data"
    },
    {
     "name": "stdout",
     "output_type": "stream",
     "text": [
      "\n",
      "Accuracy : 57.75%\n",
      "Sensitivity : 33.67%\n",
      "Specificity : 75.25%\n"
     ]
    }
   ],
   "source": [
    "# Realizando as previsões para o conjunto de teste\n",
    "predict3_0 = modelo3_0.predict(X_test)\n",
    "\n",
    "# Avaliando as previsões com a função de métricas (Relatório: Figura 52)\n",
    "print('SVM')\n",
    "print('METRICAS MODELO 3.0 - Dados Originais:\\n')\n",
    "class_score(Y_test, predict3_0)"
   ]
  },
  {
   "cell_type": "markdown",
   "metadata": {},
   "source": [
    "### Modelo 3.1 - SVM (Dados Balanceados)"
   ]
  },
  {
   "cell_type": "code",
   "execution_count": 111,
   "metadata": {},
   "outputs": [
    {
     "data": {
      "text/plain": [
       "SVC(C=1.0, cache_size=200, class_weight=None, coef0=0.0,\n",
       "    decision_function_shape='ovr', degree=3, gamma='auto_deprecated',\n",
       "    kernel='rbf', max_iter=-1, probability=False, random_state=2403,\n",
       "    shrinking=True, tol=0.001, verbose=False)"
      ]
     },
     "execution_count": 111,
     "metadata": {},
     "output_type": "execute_result"
    }
   ],
   "source": [
    "# Criando o modelo\n",
    "modelo3_1 = SVC(random_state=2403)\n",
    "\n",
    "# Treinando o modelo\n",
    "modelo3_1.fit(X_balanced, Y_balanced)"
   ]
  },
  {
   "cell_type": "code",
   "execution_count": 112,
   "metadata": {},
   "outputs": [
    {
     "name": "stdout",
     "output_type": "stream",
     "text": [
      "SVM\n",
      "METRICAS MODELO 3.1 - Dados Balanceados:\n",
      "\n",
      "Confusion Matrix:\n",
      " [[302 200]\n",
      " [325 366]]\n",
      "\n",
      "Percentage Rating (by class):\n"
     ]
    },
    {
     "data": {
      "image/png": "[encoded data removed]",
      "text/plain": [
       "<Figure size 432x288 with 2 Axes>"
      ]
     },
     "metadata": {
      "needs_background": "light"
     },
     "output_type": "display_data"
    },
    {
     "name": "stdout",
     "output_type": "stream",
     "text": [
      "\n",
      "Accuracy : 55.99%\n",
      "Sensitivity : 60.16%\n",
      "Specificity : 52.97%\n"
     ]
    }
   ],
   "source": [
    "# Realizando as previsões para o conjunto de teste\n",
    "predict3_1 = modelo3_1.predict(X_test)\n",
    "\n",
    "# Avaliando as previsões com a função de métricas (Relatório: Figura 52)\n",
    "print('SVM')\n",
    "print('METRICAS MODELO 3.1 - Dados Balanceados:\\n')\n",
    "class_score(Y_test, predict3_1)"
   ]
  },
  {
   "cell_type": "markdown",
   "metadata": {},
   "source": [
    "### Modelo 3.2 - SVM (Dados Padronizados)"
   ]
  },
  {
   "cell_type": "code",
   "execution_count": 113,
   "metadata": {},
   "outputs": [
    {
     "data": {
      "text/plain": [
       "SVC(C=1.0, cache_size=200, class_weight=None, coef0=0.0,\n",
       "    decision_function_shape='ovr', degree=3, gamma='auto_deprecated',\n",
       "    kernel='rbf', max_iter=-1, probability=False, random_state=2403,\n",
       "    shrinking=True, tol=0.001, verbose=False)"
      ]
     },
     "execution_count": 113,
     "metadata": {},
     "output_type": "execute_result"
    }
   ],
   "source": [
    "# Criando o modelo\n",
    "modelo3_2 = SVC(random_state=2403)\n",
    "\n",
    "# Treinando o modelo\n",
    "modelo3_2.fit(X_standard, Y_balanced)"
   ]
  },
  {
   "cell_type": "code",
   "execution_count": 114,
   "metadata": {},
   "outputs": [
    {
     "name": "stdout",
     "output_type": "stream",
     "text": [
      "SVM\n",
      "METRICAS MODELO 3.2 - Dados Padronizados:\n",
      "\n",
      "Confusion Matrix:\n",
      " [[285 217]\n",
      " [286 405]]\n",
      "\n",
      "Percentage Rating (by class):\n"
     ]
    },
    {
     "data": {
      "image/png": "[encoded data removed]",
      "text/plain": [
       "<Figure size 432x288 with 2 Axes>"
      ]
     },
     "metadata": {
      "needs_background": "light"
     },
     "output_type": "display_data"
    },
    {
     "name": "stdout",
     "output_type": "stream",
     "text": [
      "\n",
      "Accuracy : 57.84%\n",
      "Sensitivity : 56.77%\n",
      "Specificity : 58.61%\n"
     ]
    }
   ],
   "source": [
    "# Realizando as previsões para o conjunto de teste\n",
    "predict3_2 = modelo3_2.predict(X_testStandard)\n",
    "\n",
    "# Avaliando as previsões com a função de métricas (Relatório: Figura 52)\n",
    "print('SVM')\n",
    "print('METRICAS MODELO 3.2 - Dados Padronizados:\\n')\n",
    "class_score(Y_test, predict3_2)"
   ]
  },
  {
   "cell_type": "markdown",
   "metadata": {},
   "source": [
    "Até aqui o algoritmo de Support Vector Machines foi o que teve o desempenho mais baixo, ficando abaixo de 58% em todas versões do conjunto. Assim como ocorreu nos anteriores, o modelo treinado com dados padronizados se saiu melhor que os demais e passará pelo processo de otimização."
   ]
  },
  {
   "cell_type": "markdown",
   "metadata": {},
   "source": [
    "### XGBoost"
   ]
  },
  {
   "cell_type": "markdown",
   "metadata": {},
   "source": [
    "### Modelo 4.0 - XGBoost (Dados Originais)"
   ]
  },
  {
   "cell_type": "code",
   "execution_count": 115,
   "metadata": {},
   "outputs": [
    {
     "data": {
      "text/plain": [
       "XGBClassifier(base_score=0.5, booster='gbtree', colsample_bylevel=1,\n",
       "              colsample_bynode=1, colsample_bytree=1, gamma=0,\n",
       "              learning_rate=0.1, max_delta_step=0, max_depth=3,\n",
       "              min_child_weight=1, missing=None, n_estimators=100, n_jobs=1,\n",
       "              nthread=None, objective='binary:logistic', random_state=0,\n",
       "              reg_alpha=0, reg_lambda=1, scale_pos_weight=1, seed=2403,\n",
       "              silent=None, subsample=1, verbosity=1)"
      ]
     },
     "execution_count": 115,
     "metadata": {},
     "output_type": "execute_result"
    }
   ],
   "source": [
    "# Criando o modelo\n",
    "modelo4_0 = XGBClassifier(seed=2403)\n",
    "\n",
    "# Treinando o modelo\n",
    "modelo4_0.fit(X, Y)"
   ]
  },
  {
   "cell_type": "code",
   "execution_count": 116,
   "metadata": {},
   "outputs": [
    {
     "name": "stdout",
     "output_type": "stream",
     "text": [
      "XGBoost\n",
      "METRICAS MODELO 4.0 - Dados Originais:\n",
      "\n",
      "Confusion Matrix:\n",
      " [[200 302]\n",
      " [172 519]]\n",
      "\n",
      "Percentage Rating (by class):\n"
     ]
    },
    {
     "data": {
      "image/png": "[encoded data removed]",
      "text/plain": [
       "<Figure size 432x288 with 2 Axes>"
      ]
     },
     "metadata": {
      "needs_background": "light"
     },
     "output_type": "display_data"
    },
    {
     "name": "stdout",
     "output_type": "stream",
     "text": [
      "\n",
      "Accuracy : 60.27%\n",
      "Sensitivity : 39.84%\n",
      "Specificity : 75.11%\n"
     ]
    }
   ],
   "source": [
    "# Realizando as previsões para o conjunto de teste\n",
    "predict4_0 = modelo4_0.predict(X_test)\n",
    "\n",
    "# Avaliando as previsões com a função de métricas (Relatório: Figura 56)\n",
    "print('XGBoost')\n",
    "print('METRICAS MODELO 4.0 - Dados Originais:\\n')\n",
    "class_score(Y_test, predict4_0)"
   ]
  },
  {
   "cell_type": "markdown",
   "metadata": {},
   "source": [
    "### Modelo 4.1 - XGBoost (Dados Balanceados)"
   ]
  },
  {
   "cell_type": "code",
   "execution_count": 117,
   "metadata": {},
   "outputs": [
    {
     "data": {
      "text/plain": [
       "XGBClassifier(base_score=0.5, booster='gbtree', colsample_bylevel=1,\n",
       "              colsample_bynode=1, colsample_bytree=1, gamma=0,\n",
       "              learning_rate=0.1, max_delta_step=0, max_depth=3,\n",
       "              min_child_weight=1, missing=None, n_estimators=100, n_jobs=1,\n",
       "              nthread=None, objective='binary:logistic', random_state=0,\n",
       "              reg_alpha=0, reg_lambda=1, scale_pos_weight=1, seed=2403,\n",
       "              silent=None, subsample=1, verbosity=1)"
      ]
     },
     "execution_count": 117,
     "metadata": {},
     "output_type": "execute_result"
    }
   ],
   "source": [
    "# Criando o modelo\n",
    "modelo4_1 = XGBClassifier(seed=2403)\n",
    "\n",
    "# Treinando o modelo\n",
    "modelo4_1.fit(X_balanced, Y_balanced)"
   ]
  },
  {
   "cell_type": "code",
   "execution_count": 118,
   "metadata": {},
   "outputs": [
    {
     "name": "stdout",
     "output_type": "stream",
     "text": [
      "XGBoost\n",
      "METRICAS MODELO 4.1 - Dados Balanceados:\n",
      "\n",
      "Confusion Matrix:\n",
      " [[272 230]\n",
      " [254 437]]\n",
      "\n",
      "Percentage Rating (by class):\n"
     ]
    },
    {
     "data": {
      "image/png": "[encoded data removed]",
      "text/plain": [
       "<Figure size 432x288 with 2 Axes>"
      ]
     },
     "metadata": {
      "needs_background": "light"
     },
     "output_type": "display_data"
    },
    {
     "name": "stdout",
     "output_type": "stream",
     "text": [
      "\n",
      "Accuracy : 59.43%\n",
      "Sensitivity : 54.18%\n",
      "Specificity : 63.24%\n"
     ]
    }
   ],
   "source": [
    "# Realizando as previsões para o conjunto de teste\n",
    "predict4_1 = modelo4_1.predict(X_test)\n",
    "\n",
    "# Avaliando as previsões com a função de métricas (Relatório: Figura 56)\n",
    "print('XGBoost')\n",
    "print('METRICAS MODELO 4.1 - Dados Balanceados:\\n')\n",
    "class_score(Y_test, predict4_1)"
   ]
  },
  {
   "cell_type": "markdown",
   "metadata": {},
   "source": [
    "### Modelo 4.2 - XGBoost (Dados Padronizados)"
   ]
  },
  {
   "cell_type": "code",
   "execution_count": 119,
   "metadata": {},
   "outputs": [
    {
     "data": {
      "text/plain": [
       "XGBClassifier(base_score=0.5, booster='gbtree', colsample_bylevel=1,\n",
       "              colsample_bynode=1, colsample_bytree=1, gamma=0,\n",
       "              learning_rate=0.1, max_delta_step=0, max_depth=3,\n",
       "              min_child_weight=1, missing=None, n_estimators=100, n_jobs=1,\n",
       "              nthread=None, objective='binary:logistic', random_state=0,\n",
       "              reg_alpha=0, reg_lambda=1, scale_pos_weight=1, seed=2403,\n",
       "              silent=None, subsample=1, verbosity=1)"
      ]
     },
     "execution_count": 119,
     "metadata": {},
     "output_type": "execute_result"
    }
   ],
   "source": [
    "# Criando o modelo\n",
    "modelo4_2 = XGBClassifier(seed=2403)\n",
    "\n",
    "# Treinando o modelo\n",
    "modelo4_2.fit(X_standard, Y_balanced)"
   ]
  },
  {
   "cell_type": "code",
   "execution_count": 120,
   "metadata": {},
   "outputs": [
    {
     "name": "stdout",
     "output_type": "stream",
     "text": [
      "XGBoost\n",
      "METRICAS MODELO 4.2 - Dados Padronizados:\n",
      "\n",
      "Confusion Matrix:\n",
      " [[286 216]\n",
      " [298 393]]\n",
      "\n",
      "Percentage Rating (by class):\n"
     ]
    },
    {
     "data": {
      "image/png": "[encoded data removed]",
      "text/plain": [
       "<Figure size 432x288 with 2 Axes>"
      ]
     },
     "metadata": {
      "needs_background": "light"
     },
     "output_type": "display_data"
    },
    {
     "name": "stdout",
     "output_type": "stream",
     "text": [
      "\n",
      "Accuracy : 56.92%\n",
      "Sensitivity : 56.97%\n",
      "Specificity : 56.87%\n"
     ]
    }
   ],
   "source": [
    "# Realizando as previsões para o conjunto de teste\n",
    "predict4_2 = modelo4_2.predict(X_testStandard)\n",
    "\n",
    "# Avaliando as previsões com a função de métricas (Relatório: Figura 56)\n",
    "print('XGBoost')\n",
    "print('METRICAS MODELO 4.2 - Dados Padronizados:\\n')\n",
    "class_score(Y_test, predict4_2)"
   ]
  },
  {
   "cell_type": "markdown",
   "metadata": {},
   "source": [
    "Com o modelo de Extreme Gradient Boosting obtivemos a maior acurácia até o momento com 60,27%, porém nesta versão com os dados originais temos um desequilíbrio em relação a assertividade entre as classes. Já com os dados padronizados temos um ótimo equilíbrio, apesar da acurácia mais baixa entre todos. Assim como nos demais, utilizaremos a versão padronizada na otimização."
   ]
  },
  {
   "cell_type": "markdown",
   "metadata": {},
   "source": [
    "## Otimização dos modelos através de ajustes de hiperparâmetros"
   ]
  },
  {
   "cell_type": "markdown",
   "metadata": {},
   "source": [
    "Diferente dos parâmetros que são estimados a partir dos próprios dados, os hiperparâmetros são características externas que precisam ser definidas antes do treinamento dos modelos. Também chamado de “tuning” ou “ajuste fino”, os ajustes dos hyperparâmetros são importantes pois o desempenho dos modelos é diretamente afetado por esse sensível processo.\n",
    "\n",
    "Até aqui, todos os modelos criados em nosso projeto utilizaram os hiperparâmetros padrão para os mesmos. Vamos agora utilizar os modelos selecionados para tentar otimizar seu desempenho a partir de ajustes finos em suas configurações.\n",
    "\n",
    "Para ajudar na determinação dos hiperparâmetros, vamos utilizar o método “Grid Search Parameter Tuning” que nos auxilia na definição dos valores através de testes com validação cruzada de várias combinações a partir de um grid.\n",
    "\n",
    "O objetivo é alcançar o maior desempenho possível dentre os modelos que estamos testando."
   ]
  },
  {
   "cell_type": "markdown",
   "metadata": {},
   "source": [
    "### Grid Search – Modelo de Regressão Logística"
   ]
  },
  {
   "cell_type": "code",
   "execution_count": 121,
   "metadata": {},
   "outputs": [
    {
     "name": "stdout",
     "output_type": "stream",
     "text": [
      "Fitting 10 folds for each of 1372 candidates, totalling 13720 fits\n"
     ]
    },
    {
     "name": "stderr",
     "output_type": "stream",
     "text": [
      "[Parallel(n_jobs=10)]: Using backend LokyBackend with 10 concurrent workers.\n",
      "[Parallel(n_jobs=10)]: Done  30 tasks      | elapsed:    5.1s\n",
      "[Parallel(n_jobs=10)]: Done 180 tasks      | elapsed:    7.4s\n",
      "[Parallel(n_jobs=10)]: Done 430 tasks      | elapsed:   11.2s\n",
      "[Parallel(n_jobs=10)]: Done 780 tasks      | elapsed:   16.1s\n",
      "[Parallel(n_jobs=10)]: Done 1230 tasks      | elapsed:   22.8s\n",
      "[Parallel(n_jobs=10)]: Done 1780 tasks      | elapsed:   31.0s\n",
      "[Parallel(n_jobs=10)]: Done 2430 tasks      | elapsed:   40.6s\n",
      "[Parallel(n_jobs=10)]: Done 3180 tasks      | elapsed:   51.6s\n",
      "[Parallel(n_jobs=10)]: Done 4610 tasks      | elapsed:  1.2min\n",
      "[Parallel(n_jobs=10)]: Done 6510 tasks      | elapsed:  1.6min\n",
      "[Parallel(n_jobs=10)]: Done 8610 tasks      | elapsed:  2.1min\n",
      "[Parallel(n_jobs=10)]: Done 10910 tasks      | elapsed:  2.7min\n",
      "[Parallel(n_jobs=10)]: Done 13410 tasks      | elapsed:  3.2min\n",
      "[Parallel(n_jobs=10)]: Done 13701 out of 13720 | elapsed:  3.3min remaining:    0.2s\n",
      "[Parallel(n_jobs=10)]: Done 13720 out of 13720 | elapsed:  3.3min finished\n"
     ]
    },
    {
     "data": {
      "text/plain": [
       "GridSearchCV(cv=10, error_score='raise-deprecating',\n",
       "             estimator=LogisticRegression(C=1.0, class_weight=None, dual=False,\n",
       "                                          fit_intercept=True,\n",
       "                                          intercept_scaling=1, l1_ratio=None,\n",
       "                                          max_iter=100, multi_class='warn',\n",
       "                                          n_jobs=None, penalty='l2',\n",
       "                                          random_state=2403, solver='warn',\n",
       "                                          tol=0.0001, verbose=0,\n",
       "                                          warm_start=False),\n",
       "             iid='warn', n_jobs=10,\n",
       "             param_grid={'C': [0.1, 0.5, 1, 2, 3, 4, 5, 6, 7, 8, 9, 10, 15, 20],\n",
       "                         'max_iter': [100, 150, 200, 250, 300, 350, 400],\n",
       "                         'penalty': ['l1', 'l2'],\n",
       "                         'tol': [0.0001, 0.0002, 0.0003, 0.0004, 0.0005, 0.001,\n",
       "                                 0.005]},\n",
       "             pre_dispatch='2*n_jobs', refit=True, return_train_score=False,\n",
       "             scoring='accuracy', verbose=True)"
      ]
     },
     "execution_count": 121,
     "metadata": {},
     "output_type": "execute_result"
    }
   ],
   "source": [
    "# Criando modelo\n",
    "modeloRL = LogisticRegression(random_state=2403)\n",
    "\n",
    "# Criando o grid de valores\n",
    "valores_gridRL = {'penalty': ['l1','l2'], \n",
    "                'C': [0.1, 0.5, 1, 2, 3, 4, 5, 6, 7, 8, 9, 10, 15, 20], \n",
    "                'max_iter': [100, 150, 200, 250, 300, 350, 400], \n",
    "                'tol': [0.0001, 0.0002, 0.0003, 0.0004, 0.0005, 0.001, 0.005]}\n",
    "\n",
    "# Configurando grid\n",
    "gridRL = GridSearchCV(estimator = modeloRL, \n",
    "                    param_grid = valores_gridRL,\n",
    "                    cv = 10,\n",
    "                    n_jobs = 10,\n",
    "                    scoring = 'accuracy',\n",
    "                    verbose = True)\n",
    "\n",
    "# Treinamento (Buscando melhor configuração de hiperparametros)\n",
    "gridRL.fit(X_standard, Y_balanced)"
   ]
  },
  {
   "cell_type": "code",
   "execution_count": 122,
   "metadata": {},
   "outputs": [
    {
     "name": "stdout",
     "output_type": "stream",
     "text": [
      "Melhores Hiperparâmetros para o Modelo:\n",
      "\n",
      " LogisticRegression(C=0.1, class_weight=None, dual=False, fit_intercept=True,\n",
      "                   intercept_scaling=1, l1_ratio=None, max_iter=100,\n",
      "                   multi_class='warn', n_jobs=None, penalty='l1',\n",
      "                   random_state=2403, solver='warn', tol=0.0001, verbose=0,\n",
      "                   warm_start=False)\n",
      "\n",
      "Acurácia obtida: 83.524\n"
     ]
    }
   ],
   "source": [
    "# Confirmando o melhor modelo\n",
    "print(\"Melhores Hiperparâmetros para o Modelo:\\n\\n\", gridRL.best_estimator_)\n",
    "print(\"\\nAcurácia obtida: %.3f\" % (gridRL.best_score_ * 100))"
   ]
  },
  {
   "cell_type": "markdown",
   "metadata": {},
   "source": [
    "### Grid Search – Modelo Random Forest"
   ]
  },
  {
   "cell_type": "code",
   "execution_count": 123,
   "metadata": {},
   "outputs": [
    {
     "name": "stdout",
     "output_type": "stream",
     "text": [
      "Fitting 10 folds for each of 540 candidates, totalling 5400 fits\n"
     ]
    },
    {
     "name": "stderr",
     "output_type": "stream",
     "text": [
      "[Parallel(n_jobs=10)]: Using backend LokyBackend with 10 concurrent workers.\n",
      "[Parallel(n_jobs=10)]: Done  30 tasks      | elapsed:   51.6s\n",
      "[Parallel(n_jobs=10)]: Done 180 tasks      | elapsed:  4.1min\n",
      "[Parallel(n_jobs=10)]: Done 430 tasks      | elapsed:  9.2min\n",
      "[Parallel(n_jobs=10)]: Done 780 tasks      | elapsed: 13.8min\n",
      "[Parallel(n_jobs=10)]: Done 1230 tasks      | elapsed: 19.4min\n",
      "[Parallel(n_jobs=10)]: Done 1780 tasks      | elapsed: 29.5min\n",
      "[Parallel(n_jobs=10)]: Done 2430 tasks      | elapsed: 43.2min\n",
      "[Parallel(n_jobs=10)]: Done 3180 tasks      | elapsed: 64.0min\n",
      "[Parallel(n_jobs=10)]: Done 4030 tasks      | elapsed: 78.9min\n",
      "[Parallel(n_jobs=10)]: Done 4980 tasks      | elapsed: 107.0min\n",
      "[Parallel(n_jobs=10)]: Done 5400 out of 5400 | elapsed: 120.1min finished\n"
     ]
    },
    {
     "data": {
      "text/plain": [
       "GridSearchCV(cv=10, error_score='raise-deprecating',\n",
       "             estimator=RandomForestClassifier(bootstrap=True, class_weight=None,\n",
       "                                              criterion='gini', max_depth=None,\n",
       "                                              max_features='auto',\n",
       "                                              max_leaf_nodes=None,\n",
       "                                              min_impurity_decrease=0.0,\n",
       "                                              min_impurity_split=None,\n",
       "                                              min_samples_leaf=1,\n",
       "                                              min_samples_split=2,\n",
       "                                              min_weight_fraction_leaf=0.0,\n",
       "                                              n_estimators='warn', n_jobs=None,\n",
       "                                              oob_score=False,\n",
       "                                              random_state=2403, verbose=0,\n",
       "                                              warm_start=False),\n",
       "             iid='warn', n_jobs=10,\n",
       "             param_grid={'bootstrap': [True, False],\n",
       "                         'max_depth': [None, 5, 10, 20, 50],\n",
       "                         'max_features': ['auto', 'sqrt'],\n",
       "                         'min_samples_leaf': [1, 2, 4],\n",
       "                         'min_samples_split': [2, 5, 10],\n",
       "                         'n_estimators': [100, 200, 300]},\n",
       "             pre_dispatch='2*n_jobs', refit=True, return_train_score=False,\n",
       "             scoring='accuracy', verbose=True)"
      ]
     },
     "execution_count": 123,
     "metadata": {},
     "output_type": "execute_result"
    }
   ],
   "source": [
    "# Criando modelo\n",
    "modeloRF = RandomForestClassifier(random_state=2403)\n",
    "\n",
    "# Criando o grid de valores\n",
    "valores_gridRF = {'max_features': ['auto', 'sqrt'],\n",
    "                  'max_depth': [None, 5, 10, 20, 50],\n",
    "                  'min_samples_split': [2, 5, 10],\n",
    "                  'min_samples_leaf': [1, 2, 4],\n",
    "                  'bootstrap': [True, False],\n",
    "                  'n_estimators': [100, 200, 300]}\n",
    "\n",
    "# Configurando grid\n",
    "gridRF = GridSearchCV(estimator = modeloRF, \n",
    "                    param_grid = valores_gridRF,\n",
    "                    cv = 10,\n",
    "                    n_jobs = 10,\n",
    "                    scoring = 'accuracy',\n",
    "                    verbose = True)\n",
    "\n",
    "# Treinamento (Buscando melhor configuração de hiperparametros)\n",
    "gridRF.fit(X_standard, Y_balanced)"
   ]
  },
  {
   "cell_type": "code",
   "execution_count": 124,
   "metadata": {},
   "outputs": [
    {
     "name": "stdout",
     "output_type": "stream",
     "text": [
      "Melhores Hiperparâmetros para o Modelo:\n",
      "\n",
      " RandomForestClassifier(bootstrap=True, class_weight=None, criterion='gini',\n",
      "                       max_depth=20, max_features='auto', max_leaf_nodes=None,\n",
      "                       min_impurity_decrease=0.0, min_impurity_split=None,\n",
      "                       min_samples_leaf=2, min_samples_split=5,\n",
      "                       min_weight_fraction_leaf=0.0, n_estimators=100,\n",
      "                       n_jobs=None, oob_score=False, random_state=2403,\n",
      "                       verbose=0, warm_start=False)\n",
      "\n",
      "Acurácia obtida: 83.023\n"
     ]
    }
   ],
   "source": [
    "# Confirmando o melhor modelo\n",
    "print(\"Melhores Hiperparâmetros para o Modelo:\\n\\n\", gridRF.best_estimator_)\n",
    "print(\"\\nAcurácia obtida: %.3f\" % (gridRF.best_score_ * 100))"
   ]
  },
  {
   "cell_type": "markdown",
   "metadata": {},
   "source": [
    "### Grid Search – Modelo SVM"
   ]
  },
  {
   "cell_type": "code",
   "execution_count": 125,
   "metadata": {},
   "outputs": [
    {
     "name": "stdout",
     "output_type": "stream",
     "text": [
      "Fitting 10 folds for each of 15 candidates, totalling 150 fits\n"
     ]
    },
    {
     "name": "stderr",
     "output_type": "stream",
     "text": [
      "[Parallel(n_jobs=10)]: Using backend LokyBackend with 10 concurrent workers.\n",
      "[Parallel(n_jobs=10)]: Done  30 tasks      | elapsed:  1.3min\n",
      "[Parallel(n_jobs=10)]: Done 150 out of 150 | elapsed: 59.4min finished\n"
     ]
    },
    {
     "data": {
      "text/plain": [
       "GridSearchCV(cv=10, error_score='raise-deprecating',\n",
       "             estimator=SVC(C=1.0, cache_size=200, class_weight=None, coef0=0.0,\n",
       "                           decision_function_shape='ovr', degree=3,\n",
       "                           gamma='auto_deprecated', kernel='rbf', max_iter=-1,\n",
       "                           probability=False, random_state=2403, shrinking=True,\n",
       "                           tol=0.001, verbose=False),\n",
       "             iid='warn', n_jobs=10,\n",
       "             param_grid=[{'C': [0.1, 1, 10, 100, 1000],\n",
       "                          'gamma': [0.001, 0.0001], 'kernel': ['rbf']},\n",
       "                         {'C': [0.1, 1, 10, 100, 1000], 'kernel': ['linear']}],\n",
       "             pre_dispatch='2*n_jobs', refit=True, return_train_score=False,\n",
       "             scoring='accuracy', verbose=True)"
      ]
     },
     "execution_count": 125,
     "metadata": {},
     "output_type": "execute_result"
    }
   ],
   "source": [
    "# Criando modelo\n",
    "modeloSVM = SVC(random_state=2403)\n",
    "\n",
    "# Criando o grid de valores\n",
    "valores_gridSVM = [{'kernel': ['rbf'], \n",
    "                    'gamma': [1e-3, 1e-4],\n",
    "                    'C': [0.1, 1, 10, 100, 1000]},\n",
    "                   {'kernel': ['linear'],\n",
    "                    'C': [0.1, 1, 10, 100, 1000]}]\n",
    "\n",
    "# Configurando grid\n",
    "gridSVM = GridSearchCV(estimator = modeloSVM, \n",
    "                    param_grid = valores_gridSVM,\n",
    "                    cv = 10,\n",
    "                    n_jobs = 10,\n",
    "                    scoring = 'accuracy',\n",
    "                    verbose = True)\n",
    "\n",
    "# Treinamento (Buscando melhor configuração de hiperparametros)\n",
    "gridSVM.fit(X_standard, Y_balanced)"
   ]
  },
  {
   "cell_type": "code",
   "execution_count": 126,
   "metadata": {},
   "outputs": [
    {
     "name": "stdout",
     "output_type": "stream",
     "text": [
      "Melhores Hiperparâmetros para o Modelo:\n",
      "\n",
      " SVC(C=100, cache_size=200, class_weight=None, coef0=0.0,\n",
      "    decision_function_shape='ovr', degree=3, gamma=0.001, kernel='rbf',\n",
      "    max_iter=-1, probability=False, random_state=2403, shrinking=True,\n",
      "    tol=0.001, verbose=False)\n",
      "\n",
      "Acurácia obtida: 83.723\n"
     ]
    }
   ],
   "source": [
    "# Confirmando o melhor modelo\n",
    "print(\"Melhores Hiperparâmetros para o Modelo:\\n\\n\", gridSVM.best_estimator_)\n",
    "print(\"\\nAcurácia obtida: %.3f\" % (gridSVM.best_score_ * 100))"
   ]
  },
  {
   "cell_type": "markdown",
   "metadata": {},
   "source": [
    "### Grid Search – Modelo XGBoost"
   ]
  },
  {
   "cell_type": "code",
   "execution_count": 127,
   "metadata": {},
   "outputs": [
    {
     "name": "stdout",
     "output_type": "stream",
     "text": [
      "Fitting 10 folds for each of 3456 candidates, totalling 34560 fits\n"
     ]
    },
    {
     "name": "stderr",
     "output_type": "stream",
     "text": [
      "[Parallel(n_jobs=10)]: Using backend LokyBackend with 10 concurrent workers.\n",
      "[Parallel(n_jobs=10)]: Done  30 tasks      | elapsed:   28.9s\n",
      "[Parallel(n_jobs=10)]: Done 180 tasks      | elapsed:  1.8min\n",
      "[Parallel(n_jobs=10)]: Done 430 tasks      | elapsed:  4.5min\n",
      "[Parallel(n_jobs=10)]: Done 780 tasks      | elapsed: 10.0min\n",
      "[Parallel(n_jobs=10)]: Done 1230 tasks      | elapsed: 14.9min\n",
      "[Parallel(n_jobs=10)]: Done 1780 tasks      | elapsed: 21.9min\n",
      "[Parallel(n_jobs=10)]: Done 2430 tasks      | elapsed: 30.1min\n",
      "[Parallel(n_jobs=10)]: Done 3180 tasks      | elapsed: 39.4min\n",
      "[Parallel(n_jobs=10)]: Done 4030 tasks      | elapsed: 50.3min\n",
      "[Parallel(n_jobs=10)]: Done 4980 tasks      | elapsed: 63.1min\n",
      "[Parallel(n_jobs=10)]: Done 6030 tasks      | elapsed: 75.5min\n",
      "[Parallel(n_jobs=10)]: Done 7180 tasks      | elapsed: 91.1min\n",
      "[Parallel(n_jobs=10)]: Done 8430 tasks      | elapsed: 105.9min\n",
      "[Parallel(n_jobs=10)]: Done 9780 tasks      | elapsed: 122.9min\n",
      "[Parallel(n_jobs=10)]: Done 11230 tasks      | elapsed: 141.2min\n",
      "[Parallel(n_jobs=10)]: Done 12780 tasks      | elapsed: 163.0min\n",
      "[Parallel(n_jobs=10)]: Done 14430 tasks      | elapsed: 187.0min\n",
      "[Parallel(n_jobs=10)]: Done 16180 tasks      | elapsed: 211.2min\n",
      "[Parallel(n_jobs=10)]: Done 18030 tasks      | elapsed: 238.5min\n",
      "[Parallel(n_jobs=10)]: Done 19980 tasks      | elapsed: 265.3min\n",
      "[Parallel(n_jobs=10)]: Done 22030 tasks      | elapsed: 294.4min\n",
      "[Parallel(n_jobs=10)]: Done 24180 tasks      | elapsed: 326.5min\n",
      "[Parallel(n_jobs=10)]: Done 26430 tasks      | elapsed: 361.6min\n",
      "[Parallel(n_jobs=10)]: Done 28780 tasks      | elapsed: 399.5min\n",
      "[Parallel(n_jobs=10)]: Done 31230 tasks      | elapsed: 437.4min\n",
      "[Parallel(n_jobs=10)]: Done 33780 tasks      | elapsed: 495.0min\n",
      "[Parallel(n_jobs=10)]: Done 34560 out of 34560 | elapsed: 517.8min finished\n"
     ]
    },
    {
     "data": {
      "text/plain": [
       "GridSearchCV(cv=10, error_score='raise-deprecating',\n",
       "             estimator=XGBClassifier(base_score=0.5, booster='gbtree',\n",
       "                                     colsample_bylevel=1, colsample_bynode=1,\n",
       "                                     colsample_bytree=1, gamma=0,\n",
       "                                     learning_rate=0.1, max_delta_step=0,\n",
       "                                     max_depth=3, min_child_weight=1,\n",
       "                                     missing=None, n_estimators=100, n_jobs=1,\n",
       "                                     nthread=4, objective='binary:logistic',\n",
       "                                     random_state=0, reg_alpha=0, reg_lam...\n",
       "                                     scale_pos_weight=1, seed=2403, silent=None,\n",
       "                                     subsample=1, verbosity=1),\n",
       "             iid='warn', n_jobs=10,\n",
       "             param_grid={'colsample_bytree': [0.3, 0.4, 0.5],\n",
       "                         'gamma': [0.0, 0.1, 0.2, 0.3],\n",
       "                         'learning_rate': [0.01, 0.05, 0.1, 0.5],\n",
       "                         'max_depth': [3, 4, 5, 6, 8, 10],\n",
       "                         'min_child_weight': [1, 3, 5, 7],\n",
       "                         'n_estimators': [100, 200, 300]},\n",
       "             pre_dispatch='2*n_jobs', refit=True, return_train_score=False,\n",
       "             scoring='accuracy', verbose=True)"
      ]
     },
     "execution_count": 127,
     "metadata": {},
     "output_type": "execute_result"
    }
   ],
   "source": [
    "# Criando modelo\n",
    "modeloXGB = XGBClassifier(objective= 'binary:logistic', nthread=4, seed=2403)\n",
    "\n",
    "# Criando o grid de valores\n",
    "valores_gridXGB = {'max_depth': [3, 4, 5, 6, 8, 10],\n",
    "                   'n_estimators': [100, 200, 300],\n",
    "                   'learning_rate': [0.01, 0.05, 0.1, 0.5],\n",
    "                   'min_child_weight' : [1, 3, 5, 7],\n",
    "                   'gamma': [0.0, 0.1, 0.2 , 0.3],\n",
    "                   'colsample_bytree' : [ 0.3, 0.4, 0.5]}\n",
    "\n",
    "# Configurando grid\n",
    "gridXGB = GridSearchCV(estimator = modeloXGB, \n",
    "                    param_grid = valores_gridXGB,\n",
    "                    cv = 10,\n",
    "                    n_jobs = 10,\n",
    "                    scoring = 'accuracy',\n",
    "                    verbose = True)\n",
    "\n",
    "# Treinamento (Buscando melhor configuração de hiperparametros)\n",
    "gridXGB.fit(X_standard, Y_balanced)"
   ]
  },
  {
   "cell_type": "code",
   "execution_count": 128,
   "metadata": {},
   "outputs": [
    {
     "name": "stdout",
     "output_type": "stream",
     "text": [
      "Melhores Hiperparâmetros para o Modelo:\n",
      "\n",
      " XGBClassifier(base_score=0.5, booster='gbtree', colsample_bylevel=1,\n",
      "              colsample_bynode=1, colsample_bytree=0.3, gamma=0.1,\n",
      "              learning_rate=0.05, max_delta_step=0, max_depth=3,\n",
      "              min_child_weight=5, missing=None, n_estimators=300, n_jobs=1,\n",
      "              nthread=4, objective='binary:logistic', random_state=0,\n",
      "              reg_alpha=0, reg_lambda=1, scale_pos_weight=1, seed=2403,\n",
      "              silent=None, subsample=1, verbosity=1)\n",
      "\n",
      "Acurácia obtida: 83.775\n"
     ]
    }
   ],
   "source": [
    "# Confirmando o melhor modelo\n",
    "print(\"Melhores Hiperparâmetros para o Modelo:\\n\\n\", gridXGB.best_estimator_)\n",
    "print(\"\\nAcurácia obtida: %.3f\" % (gridXGB.best_score_ * 100))"
   ]
  },
  {
   "cell_type": "markdown",
   "metadata": {},
   "source": [
    "Após aproximadamente 12 horas de processamento contínuo, selecionamos quatro combinações de modelos, uma para cada algoritmo, em busca de obter uma elevação na performance até aqui obtida durante o período de modelagem. No entanto as acurácias apuradas nas combinações com melhor performance não indicam que teremos grandes diferenças das versões originais, já que estas são próximas ao resultado daquele primeiro teste feito com os dados das partidas já decorridas em um modelo simples de regressão logística.\n",
    "\n",
    "Vale ressaltar que o grid de parâmetros estipulados para testar combinações é bastante flexível e poderíamos aumentar substantivamente o número de estimadores testados para fazer a melhor escolha. Por outro lado, como já se pode notar nos processamentos acima, o custo computacional para realização é alto e por isso submeter grids maiores para testes é uma escolha delicada, um “trade-off” que precisa considerar o tempo e o hardware disponíveis para execução da tarefa.\n"
   ]
  },
  {
   "cell_type": "markdown",
   "metadata": {},
   "source": [
    "### Treinamento e Avaliação dos modelos com as combinações selecionadas"
   ]
  },
  {
   "cell_type": "code",
   "execution_count": 129,
   "metadata": {},
   "outputs": [
    {
     "name": "stdout",
     "output_type": "stream",
     "text": [
      "Regressão Logística\n",
      "METRICAS MODELO 1.3 - Otimizado:\n",
      "\n",
      "Confusion Matrix:\n",
      " [[285 217]\n",
      " [274 417]]\n",
      "\n",
      "Percentage Rating (by class):\n"
     ]
    },
    {
     "data": {
      "image/png": "[encoded data removed]",
      "text/plain": [
       "<Figure size 432x288 with 2 Axes>"
      ]
     },
     "metadata": {
      "needs_background": "light"
     },
     "output_type": "display_data"
    },
    {
     "name": "stdout",
     "output_type": "stream",
     "text": [
      "\n",
      "Accuracy : 58.84%\n",
      "Sensitivity : 56.77%\n",
      "Specificity : 60.35%\n"
     ]
    }
   ],
   "source": [
    "# Modelo 1.3 - Regressão Logistica após Grid Search\n",
    "modelo1_3 = LogisticRegression(C=0.1, class_weight=None, dual=False, fit_intercept=True,\n",
    "                   intercept_scaling=1, l1_ratio=None, max_iter=100,\n",
    "                   multi_class='warn', n_jobs=None, penalty='l1',\n",
    "                   random_state=2403, solver='warn', tol=0.0001, verbose=0,\n",
    "                   warm_start=False)\n",
    "\n",
    "# Treinando modelo\n",
    "modelo1_3.fit(X_standard, Y_balanced)\n",
    "\n",
    "# Realizando as previsões para o conjunto de teste\n",
    "predict1_3 = modelo1_3.predict(X_testStandard)\n",
    "\n",
    "# Avaliando as previsões com a função de métricas (Relatório: Figura 61)\n",
    "print('Regressão Logística')\n",
    "print('METRICAS MODELO 1.3 - Otimizado:\\n')\n",
    "class_score(Y_test, predict1_3)"
   ]
  },
  {
   "cell_type": "code",
   "execution_count": 130,
   "metadata": {},
   "outputs": [
    {
     "name": "stdout",
     "output_type": "stream",
     "text": [
      "Random Forest\n",
      "METRICAS MODELO 2.3 - Otimizado:\n",
      "\n",
      "Confusion Matrix:\n",
      " [[283 219]\n",
      " [282 409]]\n",
      "\n",
      "Percentage Rating (by class):\n"
     ]
    },
    {
     "data": {
      "image/png": "[encoded data removed]",
      "text/plain": [
       "<Figure size 432x288 with 2 Axes>"
      ]
     },
     "metadata": {
      "needs_background": "light"
     },
     "output_type": "display_data"
    },
    {
     "name": "stdout",
     "output_type": "stream",
     "text": [
      "\n",
      "Accuracy : 58.01%\n",
      "Sensitivity : 56.37%\n",
      "Specificity : 59.19%\n"
     ]
    }
   ],
   "source": [
    "# Modelo 2.3 - Random Forest após Grid Search\n",
    "modelo2_3 = RandomForestClassifier(bootstrap=True, class_weight=None, criterion='gini',\n",
    "                       max_depth=20, max_features='auto', max_leaf_nodes=None,\n",
    "                       min_impurity_decrease=0.0, min_impurity_split=None,\n",
    "                       min_samples_leaf=2, min_samples_split=5,\n",
    "                       min_weight_fraction_leaf=0.0, n_estimators=100,\n",
    "                       n_jobs=None, oob_score=False, random_state=2403,\n",
    "                       verbose=0, warm_start=False)\n",
    "\n",
    "# Treinando modelo\n",
    "modelo2_3.fit(X_standard, Y_balanced)\n",
    "\n",
    "# Realizando as previsões para o conjunto de teste\n",
    "predict2_3 = modelo2_3.predict(X_testStandard)\n",
    "\n",
    "# Avaliando as previsões com a função de métricas (Relatório: Figura 61)\n",
    "print('Random Forest')\n",
    "print('METRICAS MODELO 2.3 - Otimizado:\\n')\n",
    "class_score(Y_test, predict2_3)"
   ]
  },
  {
   "cell_type": "code",
   "execution_count": 131,
   "metadata": {},
   "outputs": [
    {
     "name": "stdout",
     "output_type": "stream",
     "text": [
      "SVM\n",
      "METRICAS MODELO 3.3 - Otimizado:\n",
      "\n",
      "Confusion Matrix:\n",
      " [[291 211]\n",
      " [282 409]]\n",
      "\n",
      "Percentage Rating (by class):\n"
     ]
    },
    {
     "data": {
      "image/png": "[encoded data removed]",
      "text/plain": [
       "<Figure size 432x288 with 2 Axes>"
      ]
     },
     "metadata": {
      "needs_background": "light"
     },
     "output_type": "display_data"
    },
    {
     "name": "stdout",
     "output_type": "stream",
     "text": [
      "\n",
      "Accuracy : 58.68%\n",
      "Sensitivity : 57.97%\n",
      "Specificity : 59.19%\n"
     ]
    }
   ],
   "source": [
    "# Modelo 3.3 - SVM após Grid Search\n",
    "modelo3_3 = SVC(C=100, cache_size=200, class_weight=None, coef0=0.0,\n",
    "                decision_function_shape='ovr', degree=3, gamma=0.001, kernel='rbf',\n",
    "                max_iter=-1, probability=False, random_state=2403, shrinking=True,\n",
    "                tol=0.001, verbose=False)\n",
    "\n",
    "# Treinando modelo\n",
    "modelo3_3.fit(X_standard, Y_balanced)\n",
    "\n",
    "# Realizando as previsões para o conjunto de teste\n",
    "predict3_3 = modelo3_3.predict(X_testStandard)\n",
    "\n",
    "# Avaliando as previsões com a função de métricas (Relatório: Figura 61)\n",
    "print('SVM')\n",
    "print('METRICAS MODELO 3.3 - Otimizado:\\n')\n",
    "class_score(Y_test, predict3_3)"
   ]
  },
  {
   "cell_type": "code",
   "execution_count": 132,
   "metadata": {},
   "outputs": [
    {
     "name": "stdout",
     "output_type": "stream",
     "text": [
      "XGBoost\n",
      "METRICAS MODELO 4.3 - Otimizado:\n",
      "\n",
      "Confusion Matrix:\n",
      " [[292 210]\n",
      " [293 398]]\n",
      "\n",
      "Percentage Rating (by class):\n"
     ]
    },
    {
     "data": {
      "image/png": "[encoded data removed]",
      "text/plain": [
       "<Figure size 432x288 with 2 Axes>"
      ]
     },
     "metadata": {
      "needs_background": "light"
     },
     "output_type": "display_data"
    },
    {
     "name": "stdout",
     "output_type": "stream",
     "text": [
      "\n",
      "Accuracy : 57.84%\n",
      "Sensitivity : 58.17%\n",
      "Specificity : 57.60%\n"
     ]
    }
   ],
   "source": [
    "# Modelo 4.3 - XGBoost após Grid Search\n",
    "modelo4_3 = XGBClassifier(base_score=0.5, booster='gbtree', colsample_bylevel=1,\n",
    "              colsample_bynode=1, colsample_bytree=0.3, gamma=0.1,\n",
    "              learning_rate=0.05, max_delta_step=0, max_depth=3,\n",
    "              min_child_weight=5, missing=None, n_estimators=300, n_jobs=1,\n",
    "              nthread=4, objective='binary:logistic', random_state=0,\n",
    "              reg_alpha=0, reg_lambda=1, scale_pos_weight=1, seed=2403,\n",
    "              silent=None, subsample=1, verbosity=1)\n",
    "\n",
    "# Treinando modelo\n",
    "modelo4_3.fit(X_standard, Y_balanced)\n",
    "\n",
    "# Realizando as previsões para o conjunto de teste\n",
    "predict4_3 = modelo4_3.predict(X_testStandard)\n",
    "\n",
    "# Avaliando as previsões com a função de métricas (Relatório: Figura 61)\n",
    "print('XGBoost')\n",
    "print('METRICAS MODELO 4.3 - Otimizado:\\n')\n",
    "class_score(Y_test, predict4_3)"
   ]
  },
  {
   "cell_type": "markdown",
   "metadata": {},
   "source": [
    "É intrigante verificar como quatro algoritmos diferentes, submetidos a diversas combinações de parâmetros diferentes, produzem resultados tão próximos. Por outro lado, traz confiança aos resultados já que não há grandes oscilações entre as diferentes versões.\n",
    "\n",
    "Diante de tamanha semelhança, para uma aplicação em produção, minha escolha particular seria pelo Modelo 1.3 de Regressão Logística. Isso porque trata-se de um algoritmo mais simples, o que menos requer recursos computacionais para execução, possibilita um nível de “explicabilidade” para seu resultado e ainda nos testes foi o que teve melhor precisão aliado ao equilíbrio de assertividade entre as classes previstas corretamente.\n"
   ]
  },
  {
   "cell_type": "markdown",
   "metadata": {},
   "source": [
    "## Considerações"
   ]
  },
  {
   "cell_type": "markdown",
   "metadata": {},
   "source": [
    "Conforme esperado, não conseguimos obter índices de acurácia elevados, mesmo testando diversos modelos e parâmetros. Comprovamos que prever um resultado apenas com estimativas do que serão os dados reais de uma partida futura é extremamente complexo. Porém, mesmo com tamanha complexidade, conseguimos alcançar índices de precisão próximos de 60%, demonstrando que é sim minimamente possível, baseado em dados, apontar um favorito para vitória.\n",
    "\n",
    "Interessante também comprovar como a preparação dos dados tem importância fundamental no resultado das previsões, facilmente visualizado no melhor equilíbrio da assertividade entre as classes possíveis depois da aplicação de técnicas de balanceamento e padronização dos conjuntos de treinamento.\n",
    "\n",
    "Apuramos ainda que até a otimização dos hiperparâmetros dos modelos é dificultada pela característica do problema proposto, visto que a validação do estimador vencedor se dá por uma métrica sobre os dados das partidas já ocorridas. Testando diferentes combinações destes parâmetros em somadas mais de 12 árduas horas de processamento, conseguimos em alguns algoritmos melhorar somente superficialmente a acurácia final. \n",
    "\n",
    "Exposto o acima, é importante registrar que os resultados apresentados não são definitivos, longe disso, sempre há possibilidade de melhora seja pela incorporação de novos atributos, diferentes tratamentos e transformações, experimentação de outros algoritmos ou mesmo teste de uma maior quantidade de combinações de parâmetros dos modelos. Cabendo ressaltar também que para parte dessas indicações, um poder computacional mais elevado seria requerido."
   ]
  },
  {
   "cell_type": "markdown",
   "metadata": {},
   "source": [
    "## Conclusão"
   ]
  },
  {
   "cell_type": "markdown",
   "metadata": {},
   "source": [
    "Respondendo à pergunta efetuada no início do projeto quando propusemos o problema a ser resolvido: sim, podemos indicar o favorito a vencer um jogo da NBA, além da aleatoriedade ou do mero palpite, com base em números e estatísticas coletadas durante uma temporada específica.\n",
    "\n",
    "Ainda que o índice de precisão não seja dos mais elevados, o que é perfeitamente normal dada a competitividade da liga como exaustivamente já discutimos no decorrer do processo, é o suficiente para apontar o favoritismo de uma das equipes tendo uma assertividade em cerca de 59% das previsões.\n",
    "\n",
    "Um modelo como o selecionado, ou mesmo um “blend” dos modelos testados, poderiam ser monetizados ao alimentar um site de sugestão de apostas, de indicações para “Fantasy Games” ou até mesmo, com algumas melhorias e aprimoramentos, ajudar comissões técnicas das equipes na preparação que antecede os jogos.\n"
   ]
  },
  {
   "cell_type": "markdown",
   "metadata": {},
   "source": [
    "__Trabalho de Conclusão de Curso__<br>\n",
    "__PONTIFÍCIA UNIVERSIDADE CATÓLICA DE MINAS GERAIS__<br>\n",
    "__Curso:__ _Pós-graduação Lato Sensu em Ciência de Dados e Big Data_<br>\n",
    "__Aluno:__ _Geraldo Rodrigues Novais Junior_<br>"
   ]
  }
 ],
 "metadata": {
  "kernelspec": {
   "display_name": "Python 3",
   "language": "python",
   "name": "python3"
  },
  "language_info": {
   "codemirror_mode": {
    "name": "ipython",
    "version": 3
   },
   "file_extension": ".py",
   "mimetype": "text/x-python",
   "name": "python",
   "nbconvert_exporter": "python",
   "pygments_lexer": "ipython3",
   "version": "3.7.3"
  }
 },
 "nbformat": 4,
 "nbformat_minor": 2
}
